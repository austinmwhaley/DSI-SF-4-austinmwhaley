{
 "cells": [
  {
   "cell_type": "code",
   "execution_count": 14,
   "metadata": {
    "collapsed": false
   },
   "outputs": [],
   "source": [
    "import numpy as np\n",
    "import pandas as pd\n",
    "import time\n",
    "\n",
    "from sklearn.model_selection import cross_val_score\n",
    "#sns.set_style('whitegrid')\n",
    "\n",
    "%config InlineBackend.figure_format = 'retina'\n",
    "%matplotlib inline"
   ]
  },
  {
   "cell_type": "code",
   "execution_count": 3,
   "metadata": {
    "collapsed": false
   },
   "outputs": [
    {
     "data": {
      "text/plain": [
       "(1460, 80)"
      ]
     },
     "execution_count": 3,
     "metadata": {},
     "output_type": "execute_result"
    }
   ],
   "source": [
    "df_train = pd.read_csv('/Users/austinwhaley/Desktop/DSI-SF-4-austinmwhaley/other_datasets/kaggle_housing_train.csv')\n",
    "labels = df_train['SalePrice']\n",
    "df_train = df_train.drop(['SalePrice'], 1)\n",
    "df_train.shape"
   ]
  },
  {
   "cell_type": "code",
   "execution_count": 4,
   "metadata": {
    "collapsed": false
   },
   "outputs": [
    {
     "data": {
      "text/plain": [
       "(1459, 80)"
      ]
     },
     "execution_count": 4,
     "metadata": {},
     "output_type": "execute_result"
    }
   ],
   "source": [
    "df_test = pd.read_csv('/Users/austinwhaley/Desktop/DSI-SF-4-austinmwhaley/other_datasets/kaggle_housing_test.csv')\n",
    "ids = df_test[['Id']]\n",
    "df_test.shape"
   ]
  },
  {
   "cell_type": "code",
   "execution_count": 5,
   "metadata": {
    "collapsed": true
   },
   "outputs": [],
   "source": [
    "#Average is a special type of munging and needs to be done first\n",
    "for i in [df_train, df_test]:\n",
    "    avg_cat = ['GarageYrBlt']\n",
    "    for j in avg_cat: #Average Categories\n",
    "        avg = round(np.mean(i[j][i[j].isnull() == False]), 0)\n",
    "        i[j] = i[j].map(lambda x: avg if pd.isnull(x) == True else x) #Turn NaN to avg"
   ]
  },
  {
   "cell_type": "code",
   "execution_count": 6,
   "metadata": {
    "collapsed": true
   },
   "outputs": [],
   "source": [
    "for i in [df_train, df_test]:\n",
    "    reg_cat = i.select_dtypes(include=['float64', 'int64'])\n",
    "    for j in reg_cat.columns: #Regression Categories\n",
    "        i[j] = i[j].map(lambda x: 0 if pd.isnull(x) == True else x) #Turn NaN to 0"
   ]
  },
  {
   "cell_type": "code",
   "execution_count": 7,
   "metadata": {
    "collapsed": true
   },
   "outputs": [],
   "source": [
    "for i in [df_train, df_test]:\n",
    "    cat_cat = i.select_dtypes(include=['object'])\n",
    "    for j in cat_cat.columns: #Categorical Categories\n",
    "        i[j] = i[j].map(lambda x: 'None' if pd.isnull(x) == True else x) #Turn NaN to 'None'"
   ]
  },
  {
   "cell_type": "code",
   "execution_count": 8,
   "metadata": {
    "collapsed": true
   },
   "outputs": [],
   "source": [
    "#Combine train and test datasets for processing\n",
    "df_concat = pd.concat([df_train, df_test])"
   ]
  },
  {
   "cell_type": "code",
   "execution_count": 9,
   "metadata": {
    "collapsed": false
   },
   "outputs": [
    {
     "name": "stdout",
     "output_type": "stream",
     "text": [
      "(2919, 311)\n"
     ]
    }
   ],
   "source": [
    "h_dum = pd.get_dummies(df_concat)\n",
    "#h_train_dum = pd.get_dummies(df_train)\n",
    "#h_test_dum = pd.get_dummies(df_test)\n",
    "#print h_train_dum.shape\n",
    "#print h_test_dum.shape\n",
    "print h_dum.shape"
   ]
  },
  {
   "cell_type": "code",
   "execution_count": 10,
   "metadata": {
    "collapsed": false,
    "scrolled": false
   },
   "outputs": [],
   "source": [
    "X_train = h_dum.drop(['Id'], 1)[:1460]\n",
    "X_test = h_dum.drop(['Id'], 1)[1460:]\n",
    "y_train = labels"
   ]
  },
  {
   "cell_type": "code",
   "execution_count": 32,
   "metadata": {
    "collapsed": false
   },
   "outputs": [
    {
     "name": "stdout",
     "output_type": "stream",
     "text": [
      "0.592721193484 = avg_r2\n",
      "1.39 seconds\n"
     ]
    }
   ],
   "source": [
    "from sklearn.linear_model import LinearRegression\n",
    "start_time = time.time()\n",
    "LR = LinearRegression(n_jobs=-1).fit(X_train, y_train)\n",
    "scores = cross_val_score(LR, X_train, y_train, cv=10, n_jobs=-1)\n",
    "#print scores\n",
    "print np.mean(scores), '= avg_r2'\n",
    "print round(time.time() - start_time, 2), 'seconds'"
   ]
  },
  {
   "cell_type": "code",
   "execution_count": 35,
   "metadata": {
    "collapsed": false
   },
   "outputs": [
    {
     "name": "stdout",
     "output_type": "stream",
     "text": [
      "0.847145142623 = avg_r2\n",
      "1.77 seconds\n"
     ]
    }
   ],
   "source": [
    "from sklearn.linear_model import RidgeCV\n",
    "start_time = time.time()\n",
    "R = RidgeCV().fit(X_train, y_train)\n",
    "scores = cross_val_score(R, X_train, y_train, cv=10, n_jobs=-1)\n",
    "#print scores\n",
    "print np.mean(scores), '= avg_r2'\n",
    "print round(time.time() - start_time, 2), 'seconds'"
   ]
  },
  {
   "cell_type": "code",
   "execution_count": 37,
   "metadata": {
    "collapsed": false
   },
   "outputs": [
    {
     "name": "stdout",
     "output_type": "stream",
     "text": [
      "0.715173134136 = avg_r2\n",
      "2.52 seconds\n"
     ]
    }
   ],
   "source": [
    "from sklearn.linear_model import LassoCV\n",
    "start_time = time.time()\n",
    "L = LassoCV().fit(X_train, y_train)\n",
    "scores = cross_val_score(L, X_train, y_train, cv=10, n_jobs=-1)\n",
    "#print scores\n",
    "print np.mean(scores), '= avg_r2'\n",
    "print round(time.time() - start_time, 2), 'seconds'"
   ]
  },
  {
   "cell_type": "code",
   "execution_count": 30,
   "metadata": {
    "collapsed": false
   },
   "outputs": [
    {
     "name": "stdout",
     "output_type": "stream",
     "text": [
      "0.815703731623 = avg_r2\n",
      "6.95 seconds\n"
     ]
    }
   ],
   "source": [
    "from sklearn.linear_model import ElasticNet\n",
    "start_time = time.time()\n",
    "EN = ElasticNet().fit(X_train, y_train)\n",
    "scores = cross_val_score(EN, X_train, y_train, cv=10, n_jobs=-1)\n",
    "#print scores\n",
    "print np.mean(scores), '= avg_r2'\n",
    "print round(time.time() - start_time, 2), 'seconds'"
   ]
  },
  {
   "cell_type": "code",
   "execution_count": 25,
   "metadata": {
    "collapsed": false
   },
   "outputs": [
    {
     "name": "stdout",
     "output_type": "stream",
     "text": [
      "0.862981188994 = avg_r2\n",
      "44.41 seconds\n"
     ]
    }
   ],
   "source": [
    "from sklearn.ensemble import RandomForestRegressor\n",
    "start_time = time.time()\n",
    "###38 for n_jobs = -1 vs 75 for n_jobs = 1. Big difference. with n_estimators = 200\n",
    "RFR = RandomForestRegressor(n_estimators=200, verbose=0, n_jobs=-1).fit(X_train, y_train)\n",
    "scores = cross_val_score(RFR, X_train, y_train, cv=10)\n",
    "#print scores\n",
    "print np.mean(scores), '= avg_r2'\n",
    "print round(time.time() - start_time, 2), 'seconds'"
   ]
  },
  {
   "cell_type": "code",
   "execution_count": 16,
   "metadata": {
    "collapsed": false
   },
   "outputs": [
    {
     "name": "stdout",
     "output_type": "stream",
     "text": [
      "0.795286182525 = avg_r2\n",
      "12.23 seconds\n"
     ]
    },
    {
     "name": "stderr",
     "output_type": "stream",
     "text": [
      "[Parallel(n_jobs=1)]: Done  10 out of  10 | elapsed:   10.9s finished\n"
     ]
    }
   ],
   "source": [
    "from sklearn.ensemble import AdaBoostRegressor\n",
    "start_time = time.time()\n",
    "###\n",
    "ADA = AdaBoostRegressor().fit(X_train, y_train)\n",
    "scores = cross_val_score(ADA, X_train, y_train, cv=10, verbose=1)\n",
    "#print scores\n",
    "print np.mean(scores), '= avg_r2'\n",
    "print round(time.time() - start_time, 2), 'seconds'"
   ]
  },
  {
   "cell_type": "code",
   "execution_count": 360,
   "metadata": {
    "collapsed": false,
    "scrolled": true
   },
   "outputs": [
    {
     "data": {
      "text/html": [
       "<div>\n",
       "<table border=\"1\" class=\"dataframe\">\n",
       "  <thead>\n",
       "    <tr style=\"text-align: right;\">\n",
       "      <th></th>\n",
       "      <th>Id</th>\n",
       "      <th>SalePrice</th>\n",
       "    </tr>\n",
       "  </thead>\n",
       "  <tbody>\n",
       "    <tr>\n",
       "      <th>0</th>\n",
       "      <td>1461</td>\n",
       "      <td>126829.000</td>\n",
       "    </tr>\n",
       "    <tr>\n",
       "      <th>1</th>\n",
       "      <td>1462</td>\n",
       "      <td>153053.615</td>\n",
       "    </tr>\n",
       "    <tr>\n",
       "      <th>2</th>\n",
       "      <td>1463</td>\n",
       "      <td>181559.800</td>\n",
       "    </tr>\n",
       "    <tr>\n",
       "      <th>3</th>\n",
       "      <td>1464</td>\n",
       "      <td>183638.425</td>\n",
       "    </tr>\n",
       "    <tr>\n",
       "      <th>4</th>\n",
       "      <td>1465</td>\n",
       "      <td>199969.590</td>\n",
       "    </tr>\n",
       "  </tbody>\n",
       "</table>\n",
       "</div>"
      ],
      "text/plain": [
       "     Id   SalePrice\n",
       "0  1461  126829.000\n",
       "1  1462  153053.615\n",
       "2  1463  181559.800\n",
       "3  1464  183638.425\n",
       "4  1465  199969.590"
      ]
     },
     "execution_count": 360,
     "metadata": {},
     "output_type": "execute_result"
    }
   ],
   "source": [
    "predictions = pd.DataFrame(RFR.predict(X_test))\n",
    "predictions.columns = ['SalePrice']\n",
    "###\n",
    "predictions.insert(0, 'Id', ids)\n",
    "#predictions.set_index('Id', inplace=True)\n",
    "#predictions.reset_index(inplace=True)\n",
    "predictions.head()"
   ]
  },
  {
   "cell_type": "code",
   "execution_count": 361,
   "metadata": {
    "collapsed": true
   },
   "outputs": [],
   "source": [
    "predictions.to_csv('/Users/austinwhaley/Desktop/DSI-SF-4-austinmwhaley/other_datasets/kaggle_house_submission.csv', header=True, index=False)"
   ]
  },
  {
   "cell_type": "code",
   "execution_count": 46,
   "metadata": {
    "collapsed": false,
    "scrolled": false
   },
   "outputs": [],
   "source": [
    "#ARCHIVE: WHAT COLUMNS NEED WHAT EDA\n",
    "\n",
    "#LotFrontage - 0 - \n",
    "#Alley - None - \n",
    "#MasVnrType - None - \n",
    "#MasVnrArea - 0 - \n",
    "#BsmtQual - None - \n",
    "#BsmtCond - None - \n",
    "#BsmtExposure - None - \n",
    "#BsmtFinType1 - None - \n",
    "#BsmtFinType2 - None -\n",
    "#Electrical - None - \n",
    "#FireplaceQu - None - \n",
    "#GarageType - None - \n",
    "#GarageYrBlt - Cust Avg Func - \n",
    "#GarageFinish - None - \n",
    "#GarageQual - None - \n",
    "#GarageCond - None - \n",
    "#PoolQC - None - \n",
    "#Fence - None - \n",
    "#MiscFeature - None - \n",
    "#\n",
    "###\n",
    "#Utilities - None\n",
    "#Exterior1st - None\n",
    "#Exterior2nd - None\n",
    "#BsmtFinSF1 - 0\n",
    "#BsmtFinSF2 - 0\n",
    "#BsmtUnfSF - 0\n",
    "#TotalBsmtSF - 0\n",
    "#BsmtFullBath - 0\n",
    "#BsmtHalfBath - 0\n",
    "#KitchenQual - None\n",
    "#Functional - None\n",
    "#GarageCars - 0\n",
    "#GarageArea - 0\n",
    "#SaleType - None\n",
    "\n",
    "\n",
    "#h_test['SaleType'].unique()\n",
    "#df['LotFrontage'].value_counts()\n",
    "#df['MasVnrArea'].describe()\n",
    "#h_test['BsmtFinSF1'][h_test['BsmtFinSF1'].isnull() == True]"
   ]
  },
  {
   "cell_type": "code",
   "execution_count": null,
   "metadata": {
    "collapsed": true
   },
   "outputs": [],
   "source": []
  }
 ],
 "metadata": {
  "anaconda-cloud": {},
  "kernelspec": {
   "display_name": "Python [dsi]",
   "language": "python",
   "name": "Python [dsi]"
  },
  "language_info": {
   "codemirror_mode": {
    "name": "ipython",
    "version": 2
   },
   "file_extension": ".py",
   "mimetype": "text/x-python",
   "name": "python",
   "nbconvert_exporter": "python",
   "pygments_lexer": "ipython2",
   "version": "2.7.12"
  }
 },
 "nbformat": 4,
 "nbformat_minor": 0
}
