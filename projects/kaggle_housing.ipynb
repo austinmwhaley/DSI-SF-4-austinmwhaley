{
 "cells": [
  {
   "cell_type": "markdown",
   "metadata": {},
   "source": [
    "# Kaggle || Housing Prices: Advanced Regression Techniques"
   ]
  },
  {
   "cell_type": "markdown",
   "metadata": {},
   "source": [
    "## Step 1: Import Packages"
   ]
  },
  {
   "cell_type": "code",
   "execution_count": null,
   "metadata": {
    "collapsed": false
   },
   "outputs": [],
   "source": [
    "import numpy as np\n",
    "import pandas as pd\n",
    "import time\n",
    "\n",
    "from sklearn.model_selection import cross_val_score\n",
    "#sns.set_style('whitegrid')\n",
    "\n",
    "%config InlineBackend.figure_format = 'retina'\n",
    "%matplotlib inline"
   ]
  },
  {
   "cell_type": "markdown",
   "metadata": {},
   "source": [
    "## Step 2: Import Dataset"
   ]
  },
  {
   "cell_type": "code",
   "execution_count": null,
   "metadata": {
    "collapsed": false
   },
   "outputs": [],
   "source": [
    "df_train = pd.read_csv('/Users/austinwhaley/github_repos/DSI-SF-4-austinmwhaley/other_datasets/kaggle_housing_train.csv')\n",
    "labels = df_train['SalePrice']\n",
    "df_train = df_train.drop(['SalePrice'], 1)\n",
    "df_train.shape"
   ]
  },
  {
   "cell_type": "code",
   "execution_count": null,
   "metadata": {
    "collapsed": false
   },
   "outputs": [],
   "source": [
    "df_test = pd.read_csv('/Users/austinwhaley/github_repos/DSI-SF-4-austinmwhaley/other_datasets/kaggle_housing_test.csv')\n",
    "ids = df_test[['Id']]\n",
    "df_test.shape"
   ]
  },
  {
   "cell_type": "markdown",
   "metadata": {},
   "source": [
    "## Step 3: Clean Dataset"
   ]
  },
  {
   "cell_type": "code",
   "execution_count": null,
   "metadata": {
    "collapsed": true
   },
   "outputs": [],
   "source": [
    "# Average is a special type of munging and needs to be done first\n",
    "for i in [df_train, df_test]:\n",
    "    avg_cat = ['GarageYrBlt']\n",
    "    for j in avg_cat: #Average Categories\n",
    "        avg = round(np.mean(i[j][i[j].isnull() == False]), 0)\n",
    "        i[j] = i[j].map(lambda x: avg if pd.isnull(x) == True else x) #Turn NaN to avg"
   ]
  },
  {
   "cell_type": "code",
   "execution_count": null,
   "metadata": {
    "collapsed": true
   },
   "outputs": [],
   "source": [
    "# For all the float64 type columns, map the null values as 0\n",
    "for i in [df_train, df_test]:\n",
    "    reg_cat = i.select_dtypes(include=['float64', 'int64'])\n",
    "    for j in reg_cat.columns: #Regression Categories\n",
    "        i[j] = i[j].map(lambda x: 0 if pd.isnull(x) == True else x) #Turn NaN to 0"
   ]
  },
  {
   "cell_type": "code",
   "execution_count": null,
   "metadata": {
    "collapsed": true
   },
   "outputs": [],
   "source": [
    "# For all the object type columns, map the null values as 'None'\n",
    "for i in [df_train, df_test]:\n",
    "    cat_cat = i.select_dtypes(include=['object'])\n",
    "    for j in cat_cat.columns: #Categorical Categories\n",
    "        i[j] = i[j].map(lambda x: 'None' if pd.isnull(x) == True else x) #Turn NaN to 'None'"
   ]
  },
  {
   "cell_type": "code",
   "execution_count": null,
   "metadata": {
    "collapsed": true
   },
   "outputs": [],
   "source": [
    "#Combine train and test datasets for processing\n",
    "df_concat = pd.concat([df_train, df_test])"
   ]
  },
  {
   "cell_type": "code",
   "execution_count": null,
   "metadata": {
    "collapsed": false
   },
   "outputs": [],
   "source": [
    "h_dum = pd.get_dummies(df_concat)\n",
    "#h_train_dum = pd.get_dummies(df_train)\n",
    "#h_test_dum = pd.get_dummies(df_test)\n",
    "#print h_train_dum.shape\n",
    "#print h_test_dum.shape\n",
    "print h_dum.shape"
   ]
  },
  {
   "cell_type": "code",
   "execution_count": null,
   "metadata": {
    "collapsed": true
   },
   "outputs": [],
   "source": [
    "X_train = h_dum.drop(['Id'], 1)[:1460]\n",
    "X_test = h_dum.drop(['Id'], 1)[1460:]\n",
    "y_train = labels"
   ]
  },
  {
   "cell_type": "markdown",
   "metadata": {},
   "source": [
    "## Step 4: Exploritory Data Analysis (EDA)"
   ]
  },
  {
   "cell_type": "markdown",
   "metadata": {},
   "source": [
    "## Step 5: Modeling"
   ]
  },
  {
   "cell_type": "markdown",
   "metadata": {},
   "source": [
    "### 5.1: Generalized Linear Models"
   ]
  },
  {
   "cell_type": "markdown",
   "metadata": {},
   "source": [
    "#### 5.1.1: Linear Regression"
   ]
  },
  {
   "cell_type": "code",
   "execution_count": null,
   "metadata": {
    "collapsed": false
   },
   "outputs": [],
   "source": [
    "from sklearn.linear_model import LinearRegression\n",
    "start_time = time.time()\n",
    "LR = LinearRegression(n_jobs=-1).fit(X_train, y_train)\n",
    "scores = cross_val_score(LR, X_train, y_train, cv=10, n_jobs=-1)\n",
    "#print scores\n",
    "print round(np.mean(scores),3), '= avg_r2'\n",
    "print 'Runtime =', round(time.time() - start_time, 2), 'seconds'"
   ]
  },
  {
   "cell_type": "markdown",
   "metadata": {},
   "source": [
    "#### 5.1.2: Ridge Regression"
   ]
  },
  {
   "cell_type": "code",
   "execution_count": null,
   "metadata": {
    "collapsed": false
   },
   "outputs": [],
   "source": [
    "from sklearn.linear_model import RidgeCV\n",
    "start_time = time.time()\n",
    "R = RidgeCV().fit(X_train, y_train)\n",
    "scores = cross_val_score(R, X_train, y_train, cv=2, n_jobs=-1)\n",
    "#print scores\n",
    "print round(np.mean(scores),3), '= avg_r2'\n",
    "print 'Runtime =', round(time.time() - start_time, 2), 'seconds'"
   ]
  },
  {
   "cell_type": "markdown",
   "metadata": {},
   "source": [
    "#### 5.1.3: Lasso Regression"
   ]
  },
  {
   "cell_type": "code",
   "execution_count": null,
   "metadata": {
    "collapsed": false
   },
   "outputs": [],
   "source": [
    "from sklearn.linear_model import LassoCV\n",
    "start_time = time.time()\n",
    "L = LassoCV().fit(X_train, y_train)\n",
    "scores = cross_val_score(L, X_train, y_train, cv=10, n_jobs=-1)\n",
    "#print scores\n",
    "print np.mean(scores), '= avg_r2'\n",
    "print round(time.time() - start_time, 2), 'seconds'"
   ]
  },
  {
   "cell_type": "markdown",
   "metadata": {},
   "source": [
    "#### 5.1.4: Elastic Net Regression"
   ]
  },
  {
   "cell_type": "code",
   "execution_count": null,
   "metadata": {
    "collapsed": false
   },
   "outputs": [],
   "source": [
    "from sklearn.linear_model import ElasticNet\n",
    "start_time = time.time()\n",
    "EN = ElasticNet().fit(X_train, y_train)\n",
    "scores = cross_val_score(EN, X_train, y_train, cv=10, n_jobs=-1)\n",
    "#print scores\n",
    "print round(np.mean(scores),3), '= avg_r2'\n",
    "print 'Runtime =', round(time.time() - start_time, 2), 'seconds'"
   ]
  },
  {
   "cell_type": "markdown",
   "metadata": {},
   "source": [
    "### 5.2: Support Vector Machines "
   ]
  },
  {
   "cell_type": "markdown",
   "metadata": {},
   "source": [
    "#### 5.2.1: Support Vector Regression"
   ]
  },
  {
   "cell_type": "code",
   "execution_count": null,
   "metadata": {
    "collapsed": true
   },
   "outputs": [],
   "source": [
    "from sklearn.svm import NuSVR\n",
    "start_time = time.time()\n",
    "NuSVR = NuSVR().fit(X_train, y_train)\n",
    "scores = cross_val_score(NuSVR, X_train, y_train, cv=10, n_jobs=-1)\n",
    "print round(np.mean(scores),3), '= avg_r2'\n",
    "print 'Runtime =', round(time.time() - start_time, 2), 'seconds'"
   ]
  },
  {
   "cell_type": "markdown",
   "metadata": {},
   "source": [
    "### 5.3: Decision Tress"
   ]
  },
  {
   "cell_type": "markdown",
   "metadata": {},
   "source": [
    "#### 5.3.1: Decison Tree Regressor"
   ]
  },
  {
   "cell_type": "markdown",
   "metadata": {},
   "source": [
    "### 5.4: Ensemble Methods"
   ]
  },
  {
   "cell_type": "markdown",
   "metadata": {},
   "source": [
    "#### 5.4.1: Random Forest"
   ]
  },
  {
   "cell_type": "code",
   "execution_count": null,
   "metadata": {
    "collapsed": false
   },
   "outputs": [],
   "source": [
    "from sklearn.ensemble import RandomForestRegressor\n",
    "start_time = time.time()\n",
    "###38 for n_jobs = -1 vs 75 for n_jobs = 1. Big difference. with n_estimators = 200\n",
    "RFR = RandomForestRegressor(n_estimators=200, verbose=0, n_jobs=-1).fit(X_train, y_train)\n",
    "scores = cross_val_score(RFR, X_train, y_train, cv=10)\n",
    "#print scores\n",
    "print round(np.mean(scores),3), '= avg_r2'\n",
    "print 'Runtime =', round(time.time() - start_time, 2), 'seconds'"
   ]
  },
  {
   "cell_type": "markdown",
   "metadata": {},
   "source": [
    "#### 5.4.2: AdaBoost"
   ]
  },
  {
   "cell_type": "code",
   "execution_count": null,
   "metadata": {
    "collapsed": false
   },
   "outputs": [],
   "source": [
    "from sklearn.ensemble import AdaBoostRegressor\n",
    "start_time = time.time()\n",
    "###\n",
    "ADA = AdaBoostRegressor().fit(X_train, y_train)\n",
    "scores = cross_val_score(ADA, X_train, y_train, cv=10, verbose=1)\n",
    "#print scores\n",
    "print round(np.mean(scores),3), '= avg_r2'\n",
    "print 'Runtime =', round(time.time() - start_time, 2), 'seconds'"
   ]
  },
  {
   "cell_type": "markdown",
   "metadata": {},
   "source": [
    "### 5.5: Neural-Networks"
   ]
  },
  {
   "cell_type": "markdown",
   "metadata": {},
   "source": [
    "#### 5.5.1: 3-Layer Fully-Connected"
   ]
  },
  {
   "cell_type": "markdown",
   "metadata": {},
   "source": [
    "#### 5.5.2: 5-Layer Fully-Connected"
   ]
  },
  {
   "cell_type": "markdown",
   "metadata": {},
   "source": [
    "#### 5.5.3: 10-Layer Fully-Connected"
   ]
  },
  {
   "cell_type": "markdown",
   "metadata": {},
   "source": [
    "## Step 6: Visualizations"
   ]
  },
  {
   "cell_type": "markdown",
   "metadata": {},
   "source": [
    "## Step 7: Conclusion/ Submission"
   ]
  },
  {
   "cell_type": "code",
   "execution_count": null,
   "metadata": {
    "collapsed": false,
    "scrolled": true
   },
   "outputs": [],
   "source": [
    "predictions = pd.DataFrame(RFR.predict(X_test))\n",
    "predictions.columns = ['SalePrice']\n",
    "###\n",
    "predictions.insert(0, 'Id', ids)\n",
    "#predictions.set_index('Id', inplace=True)\n",
    "#predictions.reset_index(inplace=True)\n",
    "predictions.head()"
   ]
  },
  {
   "cell_type": "code",
   "execution_count": null,
   "metadata": {
    "collapsed": true
   },
   "outputs": [],
   "source": [
    "predictions.to_csv('/Users/austinwhaley/Desktop/DSI-SF-4-austinmwhaley/other_datasets/kaggle_house_submission.csv', header=True, index=False)"
   ]
  },
  {
   "cell_type": "code",
   "execution_count": null,
   "metadata": {
    "collapsed": true
   },
   "outputs": [],
   "source": []
  }
 ],
 "metadata": {
  "anaconda-cloud": {},
  "kernelspec": {
   "display_name": "Python [dsi]",
   "language": "python",
   "name": "Python [dsi]"
  },
  "language_info": {
   "codemirror_mode": {
    "name": "ipython",
    "version": 2
   },
   "file_extension": ".py",
   "mimetype": "text/x-python",
   "name": "python",
   "nbconvert_exporter": "python",
   "pygments_lexer": "ipython2",
   "version": "2.7.12"
  }
 },
 "nbformat": 4,
 "nbformat_minor": 0
}
