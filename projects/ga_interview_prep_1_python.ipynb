{
 "cells": [
  {
   "cell_type": "markdown",
   "metadata": {},
   "source": [
    "GA Interview Prep_ Session 1: Apr 3\n",
    "\n",
    "Session is from 6-8 and will focus on a variety of python style questions. The key will be to get them to speak outloud and explain their process to the 'interviewier'\n",
    "\n",
    "But first, lets go through and get them in the habit of the STINT/STOUT and STEPS process\n",
    "\n",
    "Lets try and do 30 min per question (3 total and have them increase in difficulty each one)\n",
    "\n",
    "Always take into account that the case of the input could be different"
   ]
  },
  {
   "cell_type": "code",
   "execution_count": 4,
   "metadata": {
    "collapsed": false
   },
   "outputs": [
    {
     "name": "stdout",
     "output_type": "stream",
     "text": [
      "True\n",
      "False\n",
      "[True, False, False, True]\n"
     ]
    }
   ],
   "source": [
    "# Palandrom: Same word forwards and backwards\n",
    "# Palandrom_B: Givin a single word as input, return the boolean result of the word\n",
    "# Palandrom_C: Givin a list of words as input, return a list of boolean results for each word\n",
    "\n",
    "def is_palandrom_B(word):\n",
    "    return word.lower() == word.lower()[::-1]\n",
    "        \n",
    "def is_palandrom_C(lst):\n",
    "    return_list = []\n",
    "    for word in lst:\n",
    "        return_list.append(word.lower() == word.lower()[::-1])\n",
    "    return return_list\n",
    "            \n",
    "    \n",
    "print is_palandrom_B('Hannah') # True\n",
    "print is_palandrom_B('palandrom') # False\n",
    "print is_palandrom_C(['Hannah', 'palandrom', 'Austin', 'radar']) #[True, False, False, True] "
   ]
  },
  {
   "cell_type": "code",
   "execution_count": 16,
   "metadata": {
    "collapsed": false
   },
   "outputs": [
    {
     "name": "stdout",
     "output_type": "stream",
     "text": [
      "True\n",
      "False\n",
      "[True, True, False]\n"
     ]
    }
   ],
   "source": [
    "# Anagram: Words that the same length and are composed of the same letters but not the same word\n",
    "# Anagram_B: Givin a two words as input, return the boolean result of the pair\n",
    "# Anagram_C: Givin a list of word pairs as input, return a list of boolean results for each word pair\n",
    "\n",
    "def is_anagram_B(str1, str2):\n",
    "    if str1.lower() == str2.lower():\n",
    "        return False\n",
    "    if sorted(str1) == sorted(str2):\n",
    "        return True\n",
    "    else:\n",
    "        return False\n",
    "\n",
    "def is_anagram_C(lst):\n",
    "    return_list = []\n",
    "    for str1, str2 in lst:\n",
    "        if str1.lower() == str2.lower(): # Anagrams can't be the same word\n",
    "            return_list.append(False)\n",
    "        if sorted(str1) == sorted(str2):\n",
    "            return_list.append(True)\n",
    "        else:\n",
    "            return_list.append(False)\n",
    "    return return_list\n",
    "\n",
    "print is_anagram_B('aabbcc', 'ccbbaa') # True\n",
    "print is_anagram_B('false', 'false') # False\n",
    "print is_anagram_C([['aabbcc', 'ccbbaa'], ['ddeeff', 'ffeedd'], ['nope','defnot']]) # [True, True, False]"
   ]
  },
  {
   "cell_type": "code",
   "execution_count": null,
   "metadata": {
    "collapsed": true
   },
   "outputs": [],
   "source": [
    "# Isogram - can't remember what the hell this is"
   ]
  },
  {
   "cell_type": "code",
   "execution_count": 65,
   "metadata": {
    "collapsed": false
   },
   "outputs": [
    {
     "name": "stdout",
     "output_type": "stream",
     "text": [
      "20\n"
     ]
    }
   ],
   "source": [
    "# Log Search\n",
    "# Return the index (starting from 1) of the letter input\n",
    "\n",
    "def log_search(letter, alphabet):\n",
    "    index = 0\n",
    "    for i in range(10): #Keeps\n",
    "        \n",
    "        #print index, '= index', '||',alphabet, '= alphabet'\n",
    "        half_l, half_n = alphabet[len(alphabet)/2], len(alphabet)/2\n",
    "        \n",
    "        if len(alphabet) <= 2:\n",
    "            return index + alphabet.index(letter) + 1 # The +1 makes it so its base is 1 on return\n",
    "        elif letter >= half_l: # Want to search upper half\n",
    "            index += len(alphabet)/2\n",
    "            alphabet = alphabet[half_n:]\n",
    "        else: # Lower half\n",
    "            alphabet = alphabet[:half_n]\n",
    "    \n",
    "print log_search('t', 'abcdefghijklmnopqrstuvwxyz') # 6"
   ]
  },
  {
   "cell_type": "code",
   "execution_count": 66,
   "metadata": {
    "collapsed": false
   },
   "outputs": [
    {
     "name": "stdout",
     "output_type": "stream",
     "text": [
      "20\n"
     ]
    }
   ],
   "source": [
    "# Regular Seach\n",
    "\n",
    "def search(letter, alphabet):\n",
    "    return alphabet.find(letter) + 1\n",
    "\n",
    "print search('t', 'abcdefghijklmnopqrstuvwxyz')"
   ]
  },
  {
   "cell_type": "code",
   "execution_count": 76,
   "metadata": {
    "collapsed": false
   },
   "outputs": [
    {
     "name": "stdout",
     "output_type": "stream",
     "text": [
      "7.31945037842e-05\n",
      "6.89029693604e-05\n",
      "reg was faster\n"
     ]
    }
   ],
   "source": [
    "import time\n",
    "\n",
    "start_time = time.time()\n",
    "log_search('t', 'abcdefghijklmnopqrstuvwxyz')\n",
    "log_time = time.time() - start_time\n",
    "print log_time\n",
    "\n",
    "start_time = time.time()\n",
    "search('t', 'abcdefghijklmnopqrstuvwxyz')\n",
    "reg_time = time.time() - start_time\n",
    "print reg_time\n",
    "\n",
    "if log_time < reg_time:\n",
    "    print 'log was faster'\n",
    "else:\n",
    "    print 'reg was faster'\n",
    "    \n",
    "# List needs to be longer for a more consistent result but log is faster lol"
   ]
  },
  {
   "cell_type": "code",
   "execution_count": null,
   "metadata": {
    "collapsed": true
   },
   "outputs": [],
   "source": []
  },
  {
   "cell_type": "code",
   "execution_count": null,
   "metadata": {
    "collapsed": true
   },
   "outputs": [],
   "source": []
  }
 ],
 "metadata": {
  "kernelspec": {
   "display_name": "Python 2",
   "language": "python",
   "name": "python2"
  },
  "language_info": {
   "codemirror_mode": {
    "name": "ipython",
    "version": 2
   },
   "file_extension": ".py",
   "mimetype": "text/x-python",
   "name": "python",
   "nbconvert_exporter": "python",
   "pygments_lexer": "ipython2",
   "version": "2.7.13"
  }
 },
 "nbformat": 4,
 "nbformat_minor": 2
}
