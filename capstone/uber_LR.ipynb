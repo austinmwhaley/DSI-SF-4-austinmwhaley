{
 "cells": [
  {
   "cell_type": "code",
   "execution_count": 13,
   "metadata": {
    "collapsed": false
   },
   "outputs": [],
   "source": [
    "import numpy as np\n",
    "import scipy.stats as stats\n",
    "import seaborn as sns\n",
    "import matplotlib.pyplot as plt\n",
    "import pandas as pd\n",
    "import time\n",
    "from datetime import datetime\n",
    "\n",
    "sns.set_style('whitegrid')\n",
    "\n",
    "%config InlineBackend.figure_format = 'retina'\n",
    "%matplotlib inline\n",
    "\n",
    "import multiprocessing\n",
    "cpu_cores = multiprocessing.cpu_count()"
   ]
  },
  {
   "cell_type": "code",
   "execution_count": 3,
   "metadata": {
    "collapsed": false,
    "scrolled": true
   },
   "outputs": [
    {
     "data": {
      "text/html": [
       "<div>\n",
       "<table border=\"1\" class=\"dataframe\">\n",
       "  <thead>\n",
       "    <tr style=\"text-align: right;\">\n",
       "      <th></th>\n",
       "      <th>Year</th>\n",
       "      <th>Month</th>\n",
       "      <th>Day</th>\n",
       "      <th>Hour</th>\n",
       "      <th>1</th>\n",
       "      <th>2</th>\n",
       "      <th>3</th>\n",
       "      <th>4</th>\n",
       "      <th>5</th>\n",
       "      <th>6</th>\n",
       "      <th>...</th>\n",
       "      <th>264</th>\n",
       "      <th>265</th>\n",
       "      <th>Dew PointF</th>\n",
       "      <th>Gust SpeedMPH</th>\n",
       "      <th>Humidity</th>\n",
       "      <th>Sea Level PressureIn</th>\n",
       "      <th>TemperatureF</th>\n",
       "      <th>VisibilityMPH</th>\n",
       "      <th>Wind SpeedMPH</th>\n",
       "      <th>WindDirDegrees</th>\n",
       "    </tr>\n",
       "  </thead>\n",
       "  <tbody>\n",
       "    <tr>\n",
       "      <th>0</th>\n",
       "      <td>2015</td>\n",
       "      <td>2</td>\n",
       "      <td>1</td>\n",
       "      <td>0</td>\n",
       "      <td>0.0</td>\n",
       "      <td>0.0</td>\n",
       "      <td>4.0</td>\n",
       "      <td>39.0</td>\n",
       "      <td>0.0</td>\n",
       "      <td>0.0</td>\n",
       "      <td>...</td>\n",
       "      <td>0.0</td>\n",
       "      <td>0.0</td>\n",
       "      <td>6.1</td>\n",
       "      <td>0.0</td>\n",
       "      <td>55.0</td>\n",
       "      <td>30.19</td>\n",
       "      <td>19.9</td>\n",
       "      <td>10.0</td>\n",
       "      <td>0.0</td>\n",
       "      <td>0</td>\n",
       "    </tr>\n",
       "    <tr>\n",
       "      <th>1</th>\n",
       "      <td>2015</td>\n",
       "      <td>2</td>\n",
       "      <td>1</td>\n",
       "      <td>1</td>\n",
       "      <td>0.0</td>\n",
       "      <td>0.0</td>\n",
       "      <td>0.0</td>\n",
       "      <td>58.0</td>\n",
       "      <td>0.0</td>\n",
       "      <td>0.0</td>\n",
       "      <td>...</td>\n",
       "      <td>0.0</td>\n",
       "      <td>0.0</td>\n",
       "      <td>6.1</td>\n",
       "      <td>0.0</td>\n",
       "      <td>53.0</td>\n",
       "      <td>30.19</td>\n",
       "      <td>21.0</td>\n",
       "      <td>10.0</td>\n",
       "      <td>3.5</td>\n",
       "      <td>250</td>\n",
       "    </tr>\n",
       "    <tr>\n",
       "      <th>2</th>\n",
       "      <td>2015</td>\n",
       "      <td>2</td>\n",
       "      <td>1</td>\n",
       "      <td>2</td>\n",
       "      <td>0.0</td>\n",
       "      <td>0.0</td>\n",
       "      <td>0.0</td>\n",
       "      <td>30.0</td>\n",
       "      <td>0.0</td>\n",
       "      <td>0.0</td>\n",
       "      <td>...</td>\n",
       "      <td>0.0</td>\n",
       "      <td>0.0</td>\n",
       "      <td>6.1</td>\n",
       "      <td>0.0</td>\n",
       "      <td>51.0</td>\n",
       "      <td>30.19</td>\n",
       "      <td>21.9</td>\n",
       "      <td>10.0</td>\n",
       "      <td>3.5</td>\n",
       "      <td>0</td>\n",
       "    </tr>\n",
       "    <tr>\n",
       "      <th>3</th>\n",
       "      <td>2015</td>\n",
       "      <td>2</td>\n",
       "      <td>1</td>\n",
       "      <td>3</td>\n",
       "      <td>0.0</td>\n",
       "      <td>0.0</td>\n",
       "      <td>0.0</td>\n",
       "      <td>23.0</td>\n",
       "      <td>0.0</td>\n",
       "      <td>0.0</td>\n",
       "      <td>...</td>\n",
       "      <td>0.0</td>\n",
       "      <td>1.0</td>\n",
       "      <td>7.0</td>\n",
       "      <td>0.0</td>\n",
       "      <td>50.0</td>\n",
       "      <td>30.19</td>\n",
       "      <td>23.0</td>\n",
       "      <td>10.0</td>\n",
       "      <td>3.5</td>\n",
       "      <td>0</td>\n",
       "    </tr>\n",
       "    <tr>\n",
       "      <th>4</th>\n",
       "      <td>2015</td>\n",
       "      <td>2</td>\n",
       "      <td>1</td>\n",
       "      <td>4</td>\n",
       "      <td>0.0</td>\n",
       "      <td>0.0</td>\n",
       "      <td>0.0</td>\n",
       "      <td>11.0</td>\n",
       "      <td>0.0</td>\n",
       "      <td>0.0</td>\n",
       "      <td>...</td>\n",
       "      <td>0.0</td>\n",
       "      <td>0.0</td>\n",
       "      <td>8.1</td>\n",
       "      <td>0.0</td>\n",
       "      <td>51.0</td>\n",
       "      <td>30.19</td>\n",
       "      <td>24.1</td>\n",
       "      <td>10.0</td>\n",
       "      <td>0.0</td>\n",
       "      <td>0</td>\n",
       "    </tr>\n",
       "  </tbody>\n",
       "</table>\n",
       "<p>5 rows × 277 columns</p>\n",
       "</div>"
      ],
      "text/plain": [
       "   Year  Month  Day  Hour    1    2    3     4    5    6       ...        264  \\\n",
       "0  2015      2    1     0  0.0  0.0  4.0  39.0  0.0  0.0       ...        0.0   \n",
       "1  2015      2    1     1  0.0  0.0  0.0  58.0  0.0  0.0       ...        0.0   \n",
       "2  2015      2    1     2  0.0  0.0  0.0  30.0  0.0  0.0       ...        0.0   \n",
       "3  2015      2    1     3  0.0  0.0  0.0  23.0  0.0  0.0       ...        0.0   \n",
       "4  2015      2    1     4  0.0  0.0  0.0  11.0  0.0  0.0       ...        0.0   \n",
       "\n",
       "   265  Dew PointF  Gust SpeedMPH  Humidity  Sea Level PressureIn  \\\n",
       "0  0.0         6.1            0.0      55.0                 30.19   \n",
       "1  0.0         6.1            0.0      53.0                 30.19   \n",
       "2  0.0         6.1            0.0      51.0                 30.19   \n",
       "3  1.0         7.0            0.0      50.0                 30.19   \n",
       "4  0.0         8.1            0.0      51.0                 30.19   \n",
       "\n",
       "   TemperatureF  VisibilityMPH  Wind SpeedMPH  WindDirDegrees  \n",
       "0          19.9           10.0            0.0               0  \n",
       "1          21.0           10.0            3.5             250  \n",
       "2          21.9           10.0            3.5               0  \n",
       "3          23.0           10.0            3.5               0  \n",
       "4          24.1           10.0            0.0               0  \n",
       "\n",
       "[5 rows x 277 columns]"
      ]
     },
     "execution_count": 3,
     "metadata": {},
     "output_type": "execute_result"
    }
   ],
   "source": [
    "uber = pd.read_csv('/Users/austinwhaley/Desktop/DSI-SF-4-austinmwhaley/other_datasets/uber_data2.csv').drop('Unnamed: 0', 1)\n",
    "uber.head()"
   ]
  },
  {
   "cell_type": "code",
   "execution_count": 5,
   "metadata": {
    "collapsed": true
   },
   "outputs": [],
   "source": [
    "from sklearn.preprocessing import MinMaxScaler"
   ]
  },
  {
   "cell_type": "code",
   "execution_count": 6,
   "metadata": {
    "collapsed": false
   },
   "outputs": [
    {
     "name": "stdout",
     "output_type": "stream",
     "text": [
      "3598 3598\n"
     ]
    }
   ],
   "source": [
    "#Scale data between 0,1 for LSTM/GRU\n",
    "MMS = MinMaxScaler()\n",
    "uber = pd.DataFrame(MMS.fit_transform(uber), columns=uber.columns)\n",
    "\n",
    "#  Remember to shift the data so we are predicting one time step future\n",
    "X = uber.iloc[:-1,:]\n",
    "y = uber.iloc[1:,4:269] #265 locationIDs\n",
    "#y = uber.ix[:, 4:] #Non_Weather Set\n",
    "\n",
    "# Train-Test-Split-80/20\n",
    "X_train, X_test = X[:int(round(len(X)*0.8, 0))], X[int(round(len(X)*0.8, 0)):]\n",
    "y_train, y_test = y[:int(round(len(y)*0.8, 0))], y[int(round(len(y)*0.8, 0)):]\n",
    "\n",
    "#Check data validity\n",
    "print len(X_train) + len(X_test), len(y_train) + len(y_test)"
   ]
  },
  {
   "cell_type": "code",
   "execution_count": 8,
   "metadata": {
    "collapsed": true
   },
   "outputs": [],
   "source": [
    "from sklearn.linear_model import LinearRegression\n",
    "from sklearn.model_selection import cross_val_score"
   ]
  },
  {
   "cell_type": "code",
   "execution_count": 30,
   "metadata": {
    "collapsed": false
   },
   "outputs": [
    {
     "name": "stdout",
     "output_type": "stream",
     "text": [
      "Executing || 2017-01-21 12:05:06.954230 \n",
      "\n",
      "train_score = 0.548645594969\n",
      "test_score = 0.366275832198\n",
      "Runtime = 0.27 seconds\n"
     ]
    }
   ],
   "source": [
    "start_time = time.time()\n",
    "print 'Executing ||', str(datetime.now()), '\\n'\n",
    "\n",
    "LR = LinearRegression(n_jobs=cpu_cores-1).fit(X_train, y_train)\n",
    "#train_scores = cross_val_score(LR, X_train, y_train, cv=10, verbose=0, n_jobs=cpu_cores - 1)\n",
    "#print 'train_scores_mean =', np.mean(train_scores)\n",
    "\n",
    "print 'train_score =', LR.score(X_train, y_train)\n",
    "print 'test_score =', LR.score(X_test, y_test)\n",
    "print 'Runtime =', round((time.time() - start_time), 2), 'seconds'"
   ]
  },
  {
   "cell_type": "code",
   "execution_count": 28,
   "metadata": {
    "collapsed": false
   },
   "outputs": [
    {
     "name": "stdout",
     "output_type": "stream",
     "text": [
      "[[  2.89970568e+10  -7.19838859e-05   8.04416409e-04 ...,   2.90809835e-03\n",
      "    2.56289057e-03   3.87812591e-03]\n",
      " [ -1.06608336e+09  -4.94271239e-03  -1.36303466e-03 ...,  -2.94476274e-03\n",
      "   -3.03418989e-03  -1.54493951e-03]\n",
      " [ -3.54276825e+11   1.00223273e-02  -6.10388904e-03 ...,  -4.13720725e-03\n",
      "    3.54085871e-02  -1.46556991e-03]\n",
      " ..., \n",
      " [ -4.66663303e+11   3.08724959e-02   1.85741305e-03 ...,  -1.98210409e-03\n",
      "    1.47765226e-02   8.05639001e-03]\n",
      " [  8.73668321e+10  -9.80553219e-03  -7.17520832e-04 ...,  -1.65586981e-03\n",
      "    6.45555473e-04  -3.20985238e-03]\n",
      " [ -9.17160833e+11   8.56977453e-03   8.96225589e-03 ...,  -2.09958786e-02\n",
      "   -2.28010459e-02   1.14500883e-02]]\n"
     ]
    }
   ],
   "source": [
    "print LR.coef_"
   ]
  },
  {
   "cell_type": "code",
   "execution_count": null,
   "metadata": {
    "collapsed": true
   },
   "outputs": [],
   "source": []
  }
 ],
 "metadata": {
  "kernelspec": {
   "display_name": "Python [dsi]",
   "language": "python",
   "name": "Python [dsi]"
  },
  "language_info": {
   "codemirror_mode": {
    "name": "ipython",
    "version": 2
   },
   "file_extension": ".py",
   "mimetype": "text/x-python",
   "name": "python",
   "nbconvert_exporter": "python",
   "pygments_lexer": "ipython2",
   "version": "2.7.12"
  }
 },
 "nbformat": 4,
 "nbformat_minor": 0
}
