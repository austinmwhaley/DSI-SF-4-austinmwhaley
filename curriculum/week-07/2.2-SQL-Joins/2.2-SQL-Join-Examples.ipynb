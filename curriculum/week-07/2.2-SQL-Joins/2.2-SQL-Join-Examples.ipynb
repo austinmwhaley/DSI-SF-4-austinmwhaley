{
 "cells": [
  {
   "cell_type": "markdown",
   "metadata": {},
   "source": [
    "<img style=\"float: left;\" src=\"https://ga-dash.s3.amazonaws.com/production/assets/logo-9f88ae6c9c3871690e33280fcf557f33.png\">     \n",
    "##       SQL Join Practice\n",
    "Week 7 | Lesson 2.2\n",
    "\n",
    "The [Northwind Database Schema](https://northwinddatabase.codeplex.com/) will come in handy for writing your solutions to the problems below. "
   ]
  },
  {
   "cell_type": "code",
   "execution_count": null,
   "metadata": {
    "collapsed": true
   },
   "outputs": [],
   "source": [
    "from sqlalchemy import create_engine\n",
    "import psycopg2\n",
    "import pandas as pd\n",
    "\n",
    "conn_str = \"host='dsi.c20gkj5cvu3l.us-east-1.rds.amazonaws.com' dbname='northwind' user='dsi_student' password='gastudents'\"\n",
    "conn = psycopg2.connect(conn_str)"
   ]
  },
  {
   "cell_type": "code",
   "execution_count": null,
   "metadata": {
    "collapsed": true
   },
   "outputs": [],
   "source": [
    "SQL_STRING = '''\n",
    "\n",
    "SELECT \"ProductID\" as \"PID\",\"ProductName\",\"SupplierID\",\"UnitPrice\"\n",
    "FROM Products as P\n",
    "WHERE Products.\"UnitPrice\" > 25 \n",
    "ORDER BY \"SupplierID\" DESC,\"UnitPrice\" ASC\n",
    "\n",
    "'''\n",
    "\n",
    "df = pd.read_sql(SQL_STRING, con=conn)\n",
    "df"
   ]
  },
  {
   "cell_type": "markdown",
   "metadata": {},
   "source": [
    "### 1. How many products per category does the catalog contain?\n",
    "Print the answer with the CategoryName, and Count."
   ]
  },
  {
   "cell_type": "code",
   "execution_count": null,
   "metadata": {
    "collapsed": true
   },
   "outputs": [],
   "source": []
  },
  {
   "cell_type": "markdown",
   "metadata": {},
   "source": [
    "### 2. What 5 customers are generating the highest revenue?\n",
    "Print a table with CustomerID and Total Revenue. You will need to use data from 3 tables."
   ]
  },
  {
   "cell_type": "code",
   "execution_count": null,
   "metadata": {
    "collapsed": true
   },
   "outputs": [],
   "source": []
  },
  {
   "cell_type": "markdown",
   "metadata": {},
   "source": [
    "### 3. In which country are the top 5 suppliers by number of units supplied?\n",
    "Print a table with the supplier's CompanyName, Country and total number of units supplied."
   ]
  },
  {
   "cell_type": "code",
   "execution_count": null,
   "metadata": {
    "collapsed": true
   },
   "outputs": [],
   "source": []
  }
 ],
 "metadata": {
  "anaconda-cloud": {}
 },
 "nbformat": 4,
 "nbformat_minor": 0
}
