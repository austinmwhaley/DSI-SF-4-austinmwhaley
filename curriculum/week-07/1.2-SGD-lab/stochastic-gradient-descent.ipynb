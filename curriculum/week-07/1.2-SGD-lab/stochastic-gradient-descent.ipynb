{
 "cells": [
  {
   "cell_type": "markdown",
   "metadata": {},
   "source": [
    "<img src=\"https://ga-dash.s3.amazonaws.com/production/assets/logo-9f88ae6c9c3871690e33280fcf557f33.png\" style=\"float: left; margin: 15px;\">\n",
    "\n",
    "## Gradient Descent Lab\n",
    "\n",
    "Week 7 | 1.2\n",
    "\n",
    "---\n",
    "\n",
    "In this lab you will be investigating airline delays during the time period between October 2015 and January 2016. The airline data has been pulled down from the [Bureau of Transportation and Statistics](http://www.transtats.bts.gov/DL_SelectFields.asp?Table_ID=236). \n",
    "\n",
    "The data is split into csvs for each month. There is also a `codebook.csv` that describes the fields in the data."
   ]
  },
  {
   "cell_type": "markdown",
   "metadata": {},
   "source": [
    "---\n",
    "\n",
    "### Load packages and data"
   ]
  },
  {
   "cell_type": "code",
   "execution_count": 2,
   "metadata": {
    "collapsed": true
   },
   "outputs": [],
   "source": [
    "import numpy as np\n",
    "import scipy \n",
    "import seaborn as sns\n",
    "import pandas as pd\n",
    "\n",
    "import patsy\n",
    "\n",
    "import matplotlib\n",
    "import matplotlib.pyplot as plt\n",
    "\n",
    "%config InlineBackend.figure_format = 'retina'\n",
    "%matplotlib inline\n",
    "\n",
    "plt.style.use('fivethirtyeight')"
   ]
  },
  {
   "cell_type": "markdown",
   "metadata": {},
   "source": [
    "The csvs are located in the `flight_delays` folder. They are initially compressed since they are hundreds of MB in size.\n",
    "\n",
    "    DSI-SF-4/datasets/flight_delays/oct2015.csv.zip\n",
    "    DSI-SF-4/datasets/flight_delays/nov2015.csv.zip\n",
    "    DSI-SF-4/datasets/flight_delays/dec2015.csv.zip\n",
    "    DSI-SF-4/datasets/flight_delays/jan2015.csv.zip\n",
    "    DSI-SF-4/datasets/flight_delays/codebook.csv\n",
    "    \n",
    "Please take a look at the codebook to identify what information each column contains.\n",
    "\n",
    "The csvs may have a column full of nan values as the final column, and this can be removed."
   ]
  },
  {
   "cell_type": "markdown",
   "metadata": {},
   "source": [
    "---\n",
    "\n",
    "### 1. Predict whether a flight was delayed 15 minutes or more (`DEP_DEL15`) using `SGDClassifier` with one month of data\n",
    "\n",
    "The `SGDClassifier` class in sklearn solves classification problems using stochastic gradient descent. This is useful for datasets that are quite large.\n",
    "\n",
    "The `SGDClassifier` is very general and flexible, and can be customized with a variety of keyword arguments.\n",
    "\n",
    "- `loss`: `['log', ...]`\n",
    "    - The `'log'` loss corresponds to solving a logistic regression classifier. This is what I expect you'll use, but there are many other options, most of which we haven't covered.\n",
    "- `penalty`: `['none','l1','l2','elasticnet']`\n",
    "    - This defines the penalty on the regression that you would like to solve. The l1 and l2 are the Lasso and Ridge, while the elasticnet is the combination of them both.\n",
    "- `alpha`\n",
    "    - The regularization strength to be used with a chosen penalty. Same as in Lasso and Ridge.\n",
    "- `l1_ratio`\n",
    "    - The mix of the Lasso and Ridge penalties when elasticnet is chosen as the penalty.\n",
    "- `n_iter`\n",
    "    - The number of training \"epochs\" over the data. This is the number of passes that the gradient descent algorithm will make over the data to iteratively fit the weights (defaults to 5).\n",
    "\n",
    "Like the other models you have been using, `SGDClassifier` can be used in tandem with grid searching to find the optimal parameters for certain models. \n",
    "\n",
    "It is up to you how you want to define the model as far as predictors. You should:\n",
    "\n",
    "1. Perform any necessary cleaning of the data. \n",
    "- Do any feature engineering you think is interesting. For example, you may create a variable indicating whether a day is a holiday or the eve of a holiday.\n",
    "- Choose predictors that seem relevant/interesting. Be careful not to include predictors that include information about the target variable you wouldn't expect to have for future data.\n",
    "- Fit a model using stochastic gradient descent. You may want to find the optimal parameters for your model, but since this data is large don't go overboard on the search space.\n",
    "- Validate your model. Explain, ideally visually, how well your model performs over baseline (or not).\n",
    "- What can you interpret about airline delays from your model?\n",
    "\n",
    "**Don't forget to standardize if you're using regularization!**\n"
   ]
  },
  {
   "cell_type": "code",
   "execution_count": 17,
   "metadata": {
    "collapsed": false
   },
   "outputs": [],
   "source": [
    "oct2015 = pd.read_csv('/Users/austinwhaley/Desktop/DSI-SF-4-austinmwhaley/datasets/flight_delays/oct2015.csv')"
   ]
  },
  {
   "cell_type": "code",
   "execution_count": 18,
   "metadata": {
    "collapsed": false,
    "scrolled": true
   },
   "outputs": [
    {
     "data": {
      "text/html": [
       "<div>\n",
       "<table border=\"1\" class=\"dataframe\">\n",
       "  <thead>\n",
       "    <tr style=\"text-align: right;\">\n",
       "      <th></th>\n",
       "      <th>YEAR</th>\n",
       "      <th>MONTH</th>\n",
       "      <th>DAY_OF_MONTH</th>\n",
       "      <th>DAY_OF_WEEK</th>\n",
       "      <th>FL_DATE</th>\n",
       "      <th>UNIQUE_CARRIER</th>\n",
       "      <th>TAIL_NUM</th>\n",
       "      <th>ORIGIN</th>\n",
       "      <th>ORIGIN_CITY_NAME</th>\n",
       "      <th>ORIGIN_STATE_NM</th>\n",
       "      <th>...</th>\n",
       "      <th>CANCELLATION_CODE</th>\n",
       "      <th>ACTUAL_ELAPSED_TIME</th>\n",
       "      <th>AIR_TIME</th>\n",
       "      <th>DISTANCE</th>\n",
       "      <th>CARRIER_DELAY</th>\n",
       "      <th>WEATHER_DELAY</th>\n",
       "      <th>NAS_DELAY</th>\n",
       "      <th>SECURITY_DELAY</th>\n",
       "      <th>LATE_AIRCRAFT_DELAY</th>\n",
       "      <th>Unnamed: 29</th>\n",
       "    </tr>\n",
       "  </thead>\n",
       "  <tbody>\n",
       "    <tr>\n",
       "      <th>0</th>\n",
       "      <td>2015</td>\n",
       "      <td>10</td>\n",
       "      <td>22</td>\n",
       "      <td>4</td>\n",
       "      <td>2015-10-22</td>\n",
       "      <td>DL</td>\n",
       "      <td>N975DL</td>\n",
       "      <td>DSM</td>\n",
       "      <td>Des Moines, IA</td>\n",
       "      <td>Iowa</td>\n",
       "      <td>...</td>\n",
       "      <td>NaN</td>\n",
       "      <td>123.0</td>\n",
       "      <td>101.0</td>\n",
       "      <td>743.0</td>\n",
       "      <td>NaN</td>\n",
       "      <td>NaN</td>\n",
       "      <td>NaN</td>\n",
       "      <td>NaN</td>\n",
       "      <td>NaN</td>\n",
       "      <td>NaN</td>\n",
       "    </tr>\n",
       "    <tr>\n",
       "      <th>1</th>\n",
       "      <td>2015</td>\n",
       "      <td>10</td>\n",
       "      <td>22</td>\n",
       "      <td>4</td>\n",
       "      <td>2015-10-22</td>\n",
       "      <td>DL</td>\n",
       "      <td>N354NW</td>\n",
       "      <td>MCI</td>\n",
       "      <td>Kansas City, MO</td>\n",
       "      <td>Missouri</td>\n",
       "      <td>...</td>\n",
       "      <td>NaN</td>\n",
       "      <td>68.0</td>\n",
       "      <td>52.0</td>\n",
       "      <td>393.0</td>\n",
       "      <td>NaN</td>\n",
       "      <td>NaN</td>\n",
       "      <td>NaN</td>\n",
       "      <td>NaN</td>\n",
       "      <td>NaN</td>\n",
       "      <td>NaN</td>\n",
       "    </tr>\n",
       "    <tr>\n",
       "      <th>2</th>\n",
       "      <td>2015</td>\n",
       "      <td>10</td>\n",
       "      <td>22</td>\n",
       "      <td>4</td>\n",
       "      <td>2015-10-22</td>\n",
       "      <td>DL</td>\n",
       "      <td>N354NW</td>\n",
       "      <td>MSP</td>\n",
       "      <td>Minneapolis, MN</td>\n",
       "      <td>Minnesota</td>\n",
       "      <td>...</td>\n",
       "      <td>NaN</td>\n",
       "      <td>85.0</td>\n",
       "      <td>64.0</td>\n",
       "      <td>393.0</td>\n",
       "      <td>NaN</td>\n",
       "      <td>NaN</td>\n",
       "      <td>NaN</td>\n",
       "      <td>NaN</td>\n",
       "      <td>NaN</td>\n",
       "      <td>NaN</td>\n",
       "    </tr>\n",
       "    <tr>\n",
       "      <th>3</th>\n",
       "      <td>2015</td>\n",
       "      <td>10</td>\n",
       "      <td>22</td>\n",
       "      <td>4</td>\n",
       "      <td>2015-10-22</td>\n",
       "      <td>DL</td>\n",
       "      <td>N922DX</td>\n",
       "      <td>ATL</td>\n",
       "      <td>Atlanta, GA</td>\n",
       "      <td>Georgia</td>\n",
       "      <td>...</td>\n",
       "      <td>NaN</td>\n",
       "      <td>81.0</td>\n",
       "      <td>64.0</td>\n",
       "      <td>432.0</td>\n",
       "      <td>NaN</td>\n",
       "      <td>NaN</td>\n",
       "      <td>NaN</td>\n",
       "      <td>NaN</td>\n",
       "      <td>NaN</td>\n",
       "      <td>NaN</td>\n",
       "    </tr>\n",
       "    <tr>\n",
       "      <th>4</th>\n",
       "      <td>2015</td>\n",
       "      <td>10</td>\n",
       "      <td>22</td>\n",
       "      <td>4</td>\n",
       "      <td>2015-10-22</td>\n",
       "      <td>DL</td>\n",
       "      <td>N922DX</td>\n",
       "      <td>IND</td>\n",
       "      <td>Indianapolis, IN</td>\n",
       "      <td>Indiana</td>\n",
       "      <td>...</td>\n",
       "      <td>NaN</td>\n",
       "      <td>87.0</td>\n",
       "      <td>63.0</td>\n",
       "      <td>432.0</td>\n",
       "      <td>NaN</td>\n",
       "      <td>NaN</td>\n",
       "      <td>NaN</td>\n",
       "      <td>NaN</td>\n",
       "      <td>NaN</td>\n",
       "      <td>NaN</td>\n",
       "    </tr>\n",
       "  </tbody>\n",
       "</table>\n",
       "<p>5 rows × 30 columns</p>\n",
       "</div>"
      ],
      "text/plain": [
       "   YEAR  MONTH  DAY_OF_MONTH  DAY_OF_WEEK     FL_DATE UNIQUE_CARRIER TAIL_NUM  \\\n",
       "0  2015     10            22            4  2015-10-22             DL   N975DL   \n",
       "1  2015     10            22            4  2015-10-22             DL   N354NW   \n",
       "2  2015     10            22            4  2015-10-22             DL   N354NW   \n",
       "3  2015     10            22            4  2015-10-22             DL   N922DX   \n",
       "4  2015     10            22            4  2015-10-22             DL   N922DX   \n",
       "\n",
       "  ORIGIN  ORIGIN_CITY_NAME ORIGIN_STATE_NM     ...      CANCELLATION_CODE  \\\n",
       "0    DSM    Des Moines, IA            Iowa     ...                    NaN   \n",
       "1    MCI   Kansas City, MO        Missouri     ...                    NaN   \n",
       "2    MSP   Minneapolis, MN       Minnesota     ...                    NaN   \n",
       "3    ATL       Atlanta, GA         Georgia     ...                    NaN   \n",
       "4    IND  Indianapolis, IN         Indiana     ...                    NaN   \n",
       "\n",
       "  ACTUAL_ELAPSED_TIME AIR_TIME  DISTANCE  CARRIER_DELAY  WEATHER_DELAY  \\\n",
       "0               123.0    101.0     743.0            NaN            NaN   \n",
       "1                68.0     52.0     393.0            NaN            NaN   \n",
       "2                85.0     64.0     393.0            NaN            NaN   \n",
       "3                81.0     64.0     432.0            NaN            NaN   \n",
       "4                87.0     63.0     432.0            NaN            NaN   \n",
       "\n",
       "   NAS_DELAY  SECURITY_DELAY  LATE_AIRCRAFT_DELAY  Unnamed: 29  \n",
       "0        NaN             NaN                  NaN          NaN  \n",
       "1        NaN             NaN                  NaN          NaN  \n",
       "2        NaN             NaN                  NaN          NaN  \n",
       "3        NaN             NaN                  NaN          NaN  \n",
       "4        NaN             NaN                  NaN          NaN  \n",
       "\n",
       "[5 rows x 30 columns]"
      ]
     },
     "execution_count": 18,
     "metadata": {},
     "output_type": "execute_result"
    }
   ],
   "source": [
    "oct2015.head()"
   ]
  },
  {
   "cell_type": "code",
   "execution_count": 19,
   "metadata": {
    "collapsed": false
   },
   "outputs": [],
   "source": [
    "oct2015 = oct2015[['MONTH','UNIQUE_CARRIER', 'ORIGIN', 'DEST', 'DEP_TIME', 'DEP_DELAY']]"
   ]
  },
  {
   "cell_type": "code",
   "execution_count": 20,
   "metadata": {
    "collapsed": true
   },
   "outputs": [],
   "source": [
    "from sklearn.preprocessing import StandardScaler"
   ]
  },
  {
   "cell_type": "code",
   "execution_count": 21,
   "metadata": {
    "collapsed": false
   },
   "outputs": [
    {
     "name": "stdout",
     "output_type": "stream",
     "text": [
      "<class 'pandas.core.frame.DataFrame'>\n",
      "RangeIndex: 486165 entries, 0 to 486164\n",
      "Data columns (total 6 columns):\n",
      "MONTH             486165 non-null int64\n",
      "UNIQUE_CARRIER    486165 non-null object\n",
      "ORIGIN            486165 non-null object\n",
      "DEST              486165 non-null object\n",
      "DEP_TIME          483826 non-null float64\n",
      "DEP_DELAY         483826 non-null float64\n",
      "dtypes: float64(2), int64(1), object(3)\n",
      "memory usage: 22.3+ MB\n"
     ]
    }
   ],
   "source": [
    "oct2015.info()"
   ]
  },
  {
   "cell_type": "code",
   "execution_count": 22,
   "metadata": {
    "collapsed": false
   },
   "outputs": [],
   "source": [
    "oct2015 = oct2015.dropna()"
   ]
  },
  {
   "cell_type": "code",
   "execution_count": 23,
   "metadata": {
    "collapsed": false
   },
   "outputs": [
    {
     "name": "stdout",
     "output_type": "stream",
     "text": [
      "<class 'pandas.core.frame.DataFrame'>\n",
      "Int64Index: 483826 entries, 0 to 486164\n",
      "Data columns (total 6 columns):\n",
      "MONTH             483826 non-null int64\n",
      "UNIQUE_CARRIER    483826 non-null object\n",
      "ORIGIN            483826 non-null object\n",
      "DEST              483826 non-null object\n",
      "DEP_TIME          483826 non-null float64\n",
      "DEP_DELAY         483826 non-null float64\n",
      "dtypes: float64(2), int64(1), object(3)\n",
      "memory usage: 25.8+ MB\n"
     ]
    }
   ],
   "source": [
    "oct2015.info()"
   ]
  },
  {
   "cell_type": "code",
   "execution_count": 24,
   "metadata": {
    "collapsed": false
   },
   "outputs": [],
   "source": [
    "X = oct2015[['MONTH','UNIQUE_CARRIER', 'ORIGIN', 'DEST', 'DEP_TIME']]"
   ]
  },
  {
   "cell_type": "code",
   "execution_count": 25,
   "metadata": {
    "collapsed": true
   },
   "outputs": [],
   "source": [
    "y = oct2015['DEP_DELAY']"
   ]
  },
  {
   "cell_type": "code",
   "execution_count": 26,
   "metadata": {
    "collapsed": false
   },
   "outputs": [],
   "source": [
    "X = pd.get_dummies(X)"
   ]
  },
  {
   "cell_type": "code",
   "execution_count": 27,
   "metadata": {
    "collapsed": false
   },
   "outputs": [
    {
     "data": {
      "text/plain": [
       "array([[ 0.        ,  0.67815893, -0.43369375, ..., -0.04395572,\n",
       "        -0.01122917, -0.01913029],\n",
       "       [ 0.        , -0.85230589, -0.43369375, ..., -0.04395572,\n",
       "        -0.01122917, -0.01913029],\n",
       "       [ 0.        , -1.28693318, -0.43369375, ..., -0.04395572,\n",
       "        -0.01122917, -0.01913029],\n",
       "       ..., \n",
       "       [ 0.        , -1.37344667, -0.43369375, ..., -0.04395572,\n",
       "        -0.01122917, -0.01913029],\n",
       "       [ 0.        , -1.43730186, -0.43369375, ..., -0.04395572,\n",
       "        -0.01122917, -0.01913029],\n",
       "       [ 0.        ,  0.24559148, -0.43369375, ..., -0.04395572,\n",
       "        -0.01122917, -0.01913029]])"
      ]
     },
     "execution_count": 27,
     "metadata": {},
     "output_type": "execute_result"
    }
   ],
   "source": [
    "SS = StandardScaler()\n",
    "SS.fit_transform(X)"
   ]
  },
  {
   "cell_type": "code",
   "execution_count": 28,
   "metadata": {
    "collapsed": true
   },
   "outputs": [],
   "source": [
    "from sklearn.linear_model import SGDClassifier\n",
    "from sklearn.model_selection import GridSearchCV\n",
    "from sklearn.model_selection import train_test_split\n",
    "from sklearn.model_selection import cross_val_score"
   ]
  },
  {
   "cell_type": "code",
   "execution_count": 29,
   "metadata": {
    "collapsed": false
   },
   "outputs": [],
   "source": [
    "X_train, X_test, y_train, y_test = train_test_split(X, y, train_size=0.75)"
   ]
  },
  {
   "cell_type": "code",
   "execution_count": 30,
   "metadata": {
    "collapsed": false
   },
   "outputs": [
    {
     "name": "stdout",
     "output_type": "stream",
     "text": [
      "[CV]  ................................................................\n",
      "[CV]  ................................................................\n",
      "[CV]  ................................................................\n",
      "[CV]  ................................................................\n",
      "[CV] ................................................. , total= 4.3min\n",
      "[CV]  ................................................................\n",
      "[CV] ................................................. , total= 5.9min\n",
      "[CV] ................................................. , total= 5.9min\n",
      "[CV] ................................................. , total= 5.8min\n",
      "[CV] ................................................. , total= 4.1min\n"
     ]
    },
    {
     "name": "stderr",
     "output_type": "stream",
     "text": [
      "[Parallel(n_jobs=-1)]: Done   5 out of   5 | elapsed:  8.5min finished\n"
     ]
    },
    {
     "name": "stdout",
     "output_type": "stream",
     "text": [
      "[ 0.01792804  0.00090722  0.01249948  0.00020754  0.00457895] \n",
      "\n",
      "0.0072242448646\n"
     ]
    }
   ],
   "source": [
    "SGDC = SGDClassifier()\n",
    "SGDC.fit(X_train, y_train)\n",
    "scores = cross_val_score(SGDC, X_test, y_test, cv=5, verbose=2, n_jobs=-1)\n",
    "\n",
    "print scores, '\\n'\n",
    "print np.mean(scores)"
   ]
  },
  {
   "cell_type": "markdown",
   "metadata": {
    "collapsed": true
   },
   "source": [
    "---\n",
    "\n",
    "### 2. Fit your model on all 4 months of data.\n",
    "\n",
    "Now that you have determined a good model for the data, concatenate all four of the months and fit the model on all of the data.\n",
    "\n",
    "You may need to re-clean the data if concatenation causes trouble.\n",
    "\n",
    "1. How does your model perform on all of the data?\n",
    "2. Do your findings from the one month of data change with 4 months of data?"
   ]
  },
  {
   "cell_type": "code",
   "execution_count": null,
   "metadata": {
    "collapsed": true
   },
   "outputs": [],
   "source": []
  },
  {
   "cell_type": "markdown",
   "metadata": {},
   "source": [
    "---\n",
    "\n",
    "### 3. Fit a regression using `SGDRegressor` on the actual number of minutes a flight is delayed (`DEP_DELAY`)\n",
    "\n",
    "I recommend going back to just 1 month if you are going to do any gridsearching for optimal model hyperparameters.\n",
    "\n",
    "The `SGDRegressor` object is for the most part the same as its classification counterpart. The primary difference will be that you change the loss function to a regresion loss function instead of classification.\n",
    "\n",
    "1. How does your regression perform? Explain the metric and process you used to evaluate the model.\n",
    "2. What is your interpretation of the regression results? How do your results compare with the results from your classification model?"
   ]
  },
  {
   "cell_type": "code",
   "execution_count": null,
   "metadata": {
    "collapsed": true
   },
   "outputs": [],
   "source": []
  }
 ],
 "metadata": {
  "anaconda-cloud": {},
  "kernelspec": {
   "display_name": "Python [dsi]",
   "language": "python",
   "name": "Python [dsi]"
  },
  "language_info": {
   "codemirror_mode": {
    "name": "ipython",
    "version": 2
   },
   "file_extension": ".py",
   "mimetype": "text/x-python",
   "name": "python",
   "nbconvert_exporter": "python",
   "pygments_lexer": "ipython2",
   "version": "2.7.12"
  }
 },
 "nbformat": 4,
 "nbformat_minor": 0
}
