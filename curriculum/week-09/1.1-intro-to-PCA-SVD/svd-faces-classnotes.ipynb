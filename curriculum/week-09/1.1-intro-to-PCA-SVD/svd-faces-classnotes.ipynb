{
 "cells": [
  {
   "cell_type": "markdown",
   "metadata": {},
   "source": [
    "<img src=\"https://ga-dash.s3.amazonaws.com/production/assets/logo-9f88ae6c9c3871690e33280fcf557f33.png\" style=\"float: left; margin: 15px;\">\n",
    "\n",
    "## Visual overview of SVD and principal components\n",
    "\n",
    "Week 9 | 1.1\n",
    "\n",
    "---\n"
   ]
  },
  {
   "cell_type": "code",
   "execution_count": 1,
   "metadata": {
    "collapsed": true
   },
   "outputs": [],
   "source": [
    "import matplotlib.pyplot as plt\n",
    "import numpy as np\n",
    "import pandas as pd\n",
    "import seaborn as sns\n",
    "\n",
    "sns.set_style(\"whitegrid\")\n",
    "\n",
    "%matplotlib inline\n",
    "%config InlineBackend.figure_format = 'retina'"
   ]
  },
  {
   "cell_type": "code",
   "execution_count": 2,
   "metadata": {
    "collapsed": true
   },
   "outputs": [],
   "source": [
    "from sklearn.datasets import fetch_olivetti_faces\n",
    "from sklearn.preprocessing import MinMaxScaler"
   ]
  },
  {
   "cell_type": "code",
   "execution_count": 3,
   "metadata": {
    "collapsed": false
   },
   "outputs": [
    {
     "name": "stdout",
     "output_type": "stream",
     "text": [
      "downloading Olivetti faces from http://cs.nyu.edu/~roweis/data/olivettifaces.mat to /Users/austinwhaley/scikit_learn_data\n"
     ]
    }
   ],
   "source": [
    "dataset = fetch_olivetti_faces()\n",
    "faces = dataset.data\n"
   ]
  },
  {
   "cell_type": "code",
   "execution_count": 4,
   "metadata": {
    "collapsed": false
   },
   "outputs": [
    {
     "data": {
      "text/plain": [
       "(400, 4096)"
      ]
     },
     "execution_count": 4,
     "metadata": {},
     "output_type": "execute_result"
    }
   ],
   "source": [
    "faces.shape"
   ]
  },
  {
   "cell_type": "code",
   "execution_count": 6,
   "metadata": {
    "collapsed": false
   },
   "outputs": [
    {
     "data": {
      "text/plain": [
       "(4096,)"
      ]
     },
     "execution_count": 6,
     "metadata": {},
     "output_type": "execute_result"
    }
   ],
   "source": [
    "face10 = faces[10]\n",
    "face10.shape"
   ]
  },
  {
   "cell_type": "code",
   "execution_count": 23,
   "metadata": {
    "collapsed": true
   },
   "outputs": [],
   "source": [
    "def plot_image_matrix(face_image):\n",
    "    fig, ax = plt.subplots(figsize=(5,5))\n",
    "    max_pixel_value = max(face_image.max(), -face_image.min()) # makes sure that there's enough contrast\n",
    "    ax.imshow(face_image, cmap=plt.cm.gray,\n",
    "              interpolation = 'nearest', vmin=-max_pixel_value,\n",
    "              vmax = max_pixel_value)\n",
    "    ax.set_xticks(())\n",
    "    ax.set_yticks(())"
   ]
  },
  {
   "cell_type": "code",
   "execution_count": 24,
   "metadata": {
    "collapsed": true
   },
   "outputs": [],
   "source": [
    "def process_image(image):\n",
    "    image = image - image.min()\n",
    "    image = (image / image.max()) - 0.5\n",
    "    image = image.reshape((64, 64))\n",
    "    return image"
   ]
  },
  {
   "cell_type": "code",
   "execution_count": 25,
   "metadata": {
    "collapsed": false
   },
   "outputs": [
    {
     "data": {
      "image/png": "[encoded data removed]",
      "text/plain": [
       "<matplotlib.figure.Figure at 0x11c674b90>"
      ]
     },
     "metadata": {
      "image/png": {
       "height": 407,
       "width": 407
      }
     },
     "output_type": "display_data"
    }
   ],
   "source": [
    "plot_image_matrix(process_image(faces[199]))"
   ]
  },
  {
   "cell_type": "markdown",
   "metadata": {},
   "source": [
    "---\n",
    "\n",
    "### \"Diagonalization\" of a matrix and principal components\n",
    "\n",
    "If a matrix $X$ is centered, meaning the mean of the columns has been subtracted out, then the covariance matrix of $X$ is:\n",
    "\n",
    "### $$ Cov = \\frac{X^T X}{n-1} $$\n",
    "\n",
    "Covariance matrices are symmetric, meaning that the matrix is equal to its transpose (upper and lower triangles of the square matrix are mirror images).\n",
    "\n",
    "Symmetric matrices can be \"diagonalized\". The process of diagonalization is depicted below [(see wikipedia for more on this)](https://en.wikipedia.org/wiki/Diagonalizable_matrix):\n",
    "\n",
    "### $$ Q^{-1}AQ=\\begin{pmatrix}\\lambda_{1} \\\\\n",
    "& \\lambda_{2} \\\\\n",
    "& & \\ddots \\\\\n",
    "& & & \\lambda_{n}\\end{pmatrix} $$\n",
    "\n",
    "or alternatively,\n",
    "\n",
    "### $$ AQ=Q\\begin{pmatrix}\\lambda_{1} \\\\\n",
    "& \\lambda_{2} \\\\\n",
    "& & \\ddots \\\\\n",
    "& & & \\lambda_{n}\\end{pmatrix} $$\n",
    "\n",
    "Where $Q$ is a matrix of \"eigenvectors\" and the matrix of lambda values is the matrix of \"eigenvalues\". \n",
    "\n",
    "If our eigenvalue matrix is denoted $Q$ and the eigenvector matrix is denoted $\\Lambda$, we can write the eigendecomposition of the covariance matrix of $X$ as:\n",
    "\n",
    "### $$ Cov = Q \\Lambda Q^T $$\n",
    "\n",
    "If we \"project\" our original matrix $X$ using the matrix of eigenvectors, we get a matrix of the principal components. The principal components have the property of being totally uncorrelated with each other (due to the diagonalization of the covariance matrix). We can call the matrix of principal components $P$:\n",
    "\n",
    "### $$ P = QX $$"
   ]
  },
  {
   "cell_type": "markdown",
   "metadata": {},
   "source": [
    "---\n",
    "\n",
    "### Singular value decomposition\n",
    "\n",
    "The singular value decomposition extends the process of diagonalization to apply to matrices of any shape, not just square matrices. It is the most commonly used technique to perform principal component analysis.\n",
    "\n",
    "The singular value decomposition of $X$ is written:\n",
    "\n",
    "### $$ X = USV^T $$\n",
    "\n",
    "Where $U$ is a matrix of the left singular vectors of $X$, $S$ is the matrix of singular values which is again a diagonal matrix, and $V$ are the right singular values of $X$. \n",
    "\n",
    "You can plug this representation of $X$ into the formula for the covariance matrix:\n",
    "\n",
    "### $$ Cov = \\frac{VSU^T USV^T}{n-1} = V \\frac{S^2}{n-1}V^T = Q \\Lambda Q^T $$\n",
    "\n",
    "The left singular vectors $U$ are the eigenvectors. We can create the principal components of $X$ with $UX$. The singular values $S$ are direct transformations of the eigenvalues of the covariance matrix we got with the eigendecomposition.\n",
    "\n",
    "### $$ QX = USV^T V = US $$"
   ]
  },
  {
   "cell_type": "code",
   "execution_count": 28,
   "metadata": {
    "collapsed": false
   },
   "outputs": [],
   "source": [
    "face = process_image(faces[199])\n",
    "U, S, VT = np.linalg.svd(face)"
   ]
  },
  {
   "cell_type": "code",
   "execution_count": 29,
   "metadata": {
    "collapsed": false
   },
   "outputs": [
    {
     "name": "stdout",
     "output_type": "stream",
     "text": [
      "(64, 64) (64,) (64, 64)\n"
     ]
    }
   ],
   "source": [
    "print U.shape, S.shape, VT.shape"
   ]
  },
  {
   "cell_type": "code",
   "execution_count": 30,
   "metadata": {
    "collapsed": true
   },
   "outputs": [],
   "source": [
    "Sd = np.diag(S)"
   ]
  },
  {
   "cell_type": "code",
   "execution_count": 31,
   "metadata": {
    "collapsed": false
   },
   "outputs": [
    {
     "data": {
      "text/plain": [
       "(64, 64)"
      ]
     },
     "execution_count": 31,
     "metadata": {},
     "output_type": "execute_result"
    }
   ],
   "source": [
    "Sd.shape"
   ]
  },
  {
   "cell_type": "code",
   "execution_count": 33,
   "metadata": {
    "collapsed": false
   },
   "outputs": [
    {
     "data": {
      "image/png": "[encoded data removed]",
      "text/plain": [
       "<matplotlib.figure.Figure at 0x11c6dfa90>"
      ]
     },
     "metadata": {
      "image/png": {
       "height": 407,
       "width": 407
      }
     },
     "output_type": "display_data"
    }
   ],
   "source": [
    "plot_image_matrix(U)"
   ]
  },
  {
   "cell_type": "code",
   "execution_count": null,
   "metadata": {
    "collapsed": true
   },
   "outputs": [],
   "source": []
  }
 ],
 "metadata": {
  "anaconda-cloud": {},
  "kernelspec": {
   "display_name": "Python [dsi]",
   "language": "python",
   "name": "Python [dsi]"
  },
  "language_info": {
   "codemirror_mode": {
    "name": "ipython",
    "version": 2
   },
   "file_extension": ".py",
   "mimetype": "text/x-python",
   "name": "python",
   "nbconvert_exporter": "python",
   "pygments_lexer": "ipython2",
   "version": "2.7.12"
  }
 },
 "nbformat": 4,
 "nbformat_minor": 0
}
