{
 "cells": [
  {
   "cell_type": "markdown",
   "metadata": {},
   "source": [
    "# Monty Hall\n",
    "\n",
    "If you've ever heard of the \"Monty Hall Problem,\" it is a famous problem in statistics based on the game show \"Let's Make a Deal.\" (Monty Hall was the original host of this game show.) If you haven't heard of this game show, no worries.\n",
    "\n",
    "As part of \"Let's Make a Deal,\" there are three doors labeled \"A,\" \"B,\" and \"C.\" You are the contestant and are informed that behind exactly one door, there is a new car. Behind the other two doors are goats. Obviously, your goal as the contestant is to select the door with the car.\n",
    "\n",
    "The game goes as follows:\n",
    "1. You select a door.\n",
    "2. The game show host, knowing which door hides the car, opens one of the doors you do not select to reveal a goat. (Important: If you selected a door with a goat, the host picks the other door with a goat. If you started by selecting the door with the car, the host picks from the remaining two doors at random.)\n",
    "3. The host then asks you if you would like to stick with the door you originally picked, or if you would want to switch to the other remaining door."
   ]
  },
  {
   "cell_type": "markdown",
   "metadata": {},
   "source": [
    "---\n",
    "\n",
    "**Question 1:** Suppose you pick a door. The host opens one of the remaining doors. You are then asked to stick with your original door or to switch to the remaining door. Based on your intuition, is it more advantageous to stick with your original door, to switch to the remaining door, or does your probability of success not change?"
   ]
  },
  {
   "cell_type": "markdown",
   "metadata": {
    "collapsed": true
   },
   "source": [
    "What is $\\theta$ ?\n"
   ]
  },
  {
   "cell_type": "code",
   "execution_count": null,
   "metadata": {
    "collapsed": true
   },
   "outputs": [],
   "source": [
    "'''\n",
    "Theta is the symbol above\n",
    "Theta is the car in this example\n",
    "P(theta) = A/B/C(Total Choice) = 1/3\n",
    "y = which door monty opens\n",
    "theta = which door is the car behind\n",
    "\n",
    "'''"
   ]
  },
  {
   "cell_type": "markdown",
   "metadata": {},
   "source": [
    "Now let's apply some Bayesian reasoning to this problem. Recall that the formula for Bayes' Rule, as applied to some data $y$ and an unknown parameter $\\theta$, is:\n",
    "\n",
    "$$P(\\theta|y) = \\frac{P(y|\\theta)P(\\theta)}{P(y)}$$\n",
    "\n",
    "Further recall that:\n",
    "- $P(\\theta)$ is the **prior probability** of $\\theta$.\n",
    "- $P(y|\\theta)$ is the **likelihood** of our data $y$ given $\\theta$.\n",
    "- $P(y)$ is the **marginal likelihood** of our data $y$.\n",
    "\n",
    "Our strategy here will be to find $P(\\theta|y)$ for $\\theta=A,B,C$ and decide which probability is highest."
   ]
  },
  {
   "cell_type": "markdown",
   "metadata": {},
   "source": [
    "For these scenarios, the data $y$ is that the host selects door B *and* that door B does not contain the car."
   ]
  },
  {
   "cell_type": "markdown",
   "metadata": {},
   "source": [
    "---\n",
    "\n",
    "**Question 2:** Suppose you pick door A. The host opens door B to reveal a goat.\n",
    "\n",
    "For $P(\\theta=A|y=B)$, identify the prior $P(\\theta=A)$, the likelihood $P(y=B|\\theta=A)$, and the marginal likelihood $P(y=B)$. Then calculate the posterior $P(\\theta=A|y=B)$."
   ]
  },
  {
   "cell_type": "code",
   "execution_count": null,
   "metadata": {
    "collapsed": true
   },
   "outputs": [],
   "source": [
    "## Answer 2: Probability that the winning door is A and monty chose door B\n",
    "#Prior -> Theta = A = 1/3 change (Probability of the door we picked in the PRIOR step to have the car)\n",
    "#(y = B | theta = A) = What is the probability that monty's choice is the winning car given our choice -> 50/50 = .50\n",
    "#Marginal Likelihood of marty openning door B regardless of our choice (remaining selection of winners) -> 50/50 = .5\n",
    "\n"
   ]
  },
  {
   "cell_type": "markdown",
   "metadata": {},
   "source": [
    "$P(\\theta = A) = \\frac{1}{3}$\n",
    "\n",
    "$P(y = B | \\theta = A) = \\frac{1}{2}$\n",
    "\n",
    "$P(y = B) = (y=B | \\theta = A)P(\\theta = A) + P(y=B | \\theta = B)P(\\theta = B) + P(y=B | \\theta = C)P(\\theta = C)$\n",
    "\n",
    "$P(y = B) = (1/2 * 1/3) + (0 * 1/3) + (1 * 1/3) = 1/2$\n",
    "\n",
    "$P(\\theta = A | y = B) = \\frac{1/2 * 1/3}{1/2} = 1/3$"
   ]
  },
  {
   "cell_type": "markdown",
   "metadata": {},
   "source": [
    "---\n",
    "\n",
    "**Question 3:** Suppose you pick door A. The host opens door B to reveal a goat.\n",
    "\n",
    "For $P(\\theta=B|y=B)$, identify the prior $P(\\theta=B)$, the likelihood $P(y=B|\\theta=B)$, and the marginal likelihood $P(y=B)$. Then calculate the posterior $P(\\theta=B|y=B)$."
   ]
  },
  {
   "cell_type": "markdown",
   "metadata": {
    "collapsed": true
   },
   "source": [
    "Answer\n",
    "\n",
    "$P(\\theta = B | y = B) = 0$"
   ]
  },
  {
   "cell_type": "markdown",
   "metadata": {},
   "source": [
    "---\n",
    "\n",
    "**Question 4:** Suppose you pick door A. The host opens door B to reveal a goat.\n",
    "\n",
    "For $P(\\theta=C|y)$, identify the prior $P(\\theta=C)$, the likelihood $P(y|\\theta=C)$, and the marginal likelihood $P(y)$. Then calculate the posterior $P(\\theta=C|y)$."
   ]
  },
  {
   "cell_type": "markdown",
   "metadata": {
    "collapsed": true
   },
   "source": [
    "$P(\\theta = C) = \\frac{1}{3}$\n",
    "\n",
    "$P(y = B | \\theta = C) = 1$\n",
    "\n",
    "$P(y = B) = (y=B | \\theta = A)P(\\theta = A) + P(y=B | \\theta = B)P(\\theta = B) + P(y=B | \\theta = C)P(\\theta = C)$\n",
    "\n",
    "$P(y = B) = (1/2 * 1/3) + (0 * 1/3) + (1 * 1/3) = 1/2$\n",
    "\n",
    "$P(\\theta = C | y = B) = \\frac{1 * 1/3}{1/2} = 2/3$"
   ]
  },
  {
   "cell_type": "markdown",
   "metadata": {},
   "source": [
    "---\n",
    "\n",
    "**Question 5:** Build a function called lets_make_a_deal that runs the Let's Make a Deal game by taking:\n",
    "- 'A', 'B', or 'C' as the input for the door\n",
    "- 'K' or 'S' as the input indicating \"keep\" or \"switch\" when asked\n",
    "\n",
    "The function should return:\n",
    "- 'win' if the contestant won.\n",
    "- 'lose' if the contestant lost.\n",
    "\n",
    "Note that you'll need to make sure that, before anything else, the computer selects a random entry."
   ]
  },
  {
   "cell_type": "code",
   "execution_count": null,
   "metadata": {
    "collapsed": true
   },
   "outputs": [],
   "source": [
    "## Answer 5: "
   ]
  },
  {
   "cell_type": "markdown",
   "metadata": {},
   "source": [
    "---\n",
    "\n",
    "**Question 6:** Simulate 10,000 games where the person always switched. Report your results."
   ]
  },
  {
   "cell_type": "code",
   "execution_count": null,
   "metadata": {
    "collapsed": true
   },
   "outputs": [],
   "source": [
    "## Answer 6:"
   ]
  }
 ],
 "metadata": {
  "anaconda-cloud": {},
  "kernelspec": {
   "display_name": "Python [dsi]",
   "language": "python",
   "name": "Python [dsi]"
  },
  "language_info": {
   "codemirror_mode": {
    "name": "ipython",
    "version": 2
   },
   "file_extension": ".py",
   "mimetype": "text/x-python",
   "name": "python",
   "nbconvert_exporter": "python",
   "pygments_lexer": "ipython2",
   "version": "2.7.12"
  }
 },
 "nbformat": 4,
 "nbformat_minor": 1
}
