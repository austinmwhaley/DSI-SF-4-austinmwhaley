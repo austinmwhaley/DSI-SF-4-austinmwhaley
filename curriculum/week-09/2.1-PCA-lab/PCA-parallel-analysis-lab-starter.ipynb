{
 "cells": [
  {
   "cell_type": "markdown",
   "metadata": {},
   "source": [
    "# PCA and Horn's Parallel Analysis Lab\n",
    "\n",
    "In this lab you'll practice using PCA on two datasets: heptathalon performance and the wine dataset that you have seen previously.\n",
    "\n",
    "Horn's Parallel Analysis is a way to determine how many components you should keep after using a PCA on your data. Essentially it will tell you which of your components are likely noise which can be discarded.\n",
    "\n",
    "---\n",
    "\n",
    "### Load packages and heptathalon data"
   ]
  },
  {
   "cell_type": "code",
   "execution_count": 1,
   "metadata": {
    "collapsed": true
   },
   "outputs": [],
   "source": [
    "import matplotlib.pyplot as plt\n",
    "import numpy as np\n",
    "import pandas as pd\n",
    "import seaborn as sns\n",
    "\n",
    "plt.style.use('fivethirtyeight')\n",
    "\n",
    "from ipywidgets import *\n",
    "from IPython.display import display\n",
    "\n",
    "%matplotlib inline\n",
    "%config InlineBackend.figure_format = 'retina'"
   ]
  },
  {
   "cell_type": "code",
   "execution_count": 2,
   "metadata": {
    "collapsed": false
   },
   "outputs": [],
   "source": [
    "hep = pd.read_csv('/Users/austinwhaley/Desktop/DSI-SF-4-austinmwhaley/datasets/heptathlon/heptathlon.csv')"
   ]
  },
  {
   "cell_type": "code",
   "execution_count": 3,
   "metadata": {
    "collapsed": false
   },
   "outputs": [
    {
     "data": {
      "text/html": [
       "<div>\n",
       "<table border=\"1\" class=\"dataframe\">\n",
       "  <thead>\n",
       "    <tr style=\"text-align: right;\">\n",
       "      <th></th>\n",
       "      <th>Unnamed: 0</th>\n",
       "      <th>hurdles</th>\n",
       "      <th>highjump</th>\n",
       "      <th>shot</th>\n",
       "      <th>run200m</th>\n",
       "      <th>longjump</th>\n",
       "      <th>javelin</th>\n",
       "      <th>run800m</th>\n",
       "      <th>score</th>\n",
       "    </tr>\n",
       "  </thead>\n",
       "  <tbody>\n",
       "    <tr>\n",
       "      <th>0</th>\n",
       "      <td>Joyner-Kersee (USA)</td>\n",
       "      <td>12.69</td>\n",
       "      <td>1.86</td>\n",
       "      <td>15.80</td>\n",
       "      <td>22.56</td>\n",
       "      <td>7.27</td>\n",
       "      <td>45.66</td>\n",
       "      <td>128.51</td>\n",
       "      <td>7291</td>\n",
       "    </tr>\n",
       "    <tr>\n",
       "      <th>1</th>\n",
       "      <td>John (GDR)</td>\n",
       "      <td>12.85</td>\n",
       "      <td>1.80</td>\n",
       "      <td>16.23</td>\n",
       "      <td>23.65</td>\n",
       "      <td>6.71</td>\n",
       "      <td>42.56</td>\n",
       "      <td>126.12</td>\n",
       "      <td>6897</td>\n",
       "    </tr>\n",
       "    <tr>\n",
       "      <th>2</th>\n",
       "      <td>Behmer (GDR)</td>\n",
       "      <td>13.20</td>\n",
       "      <td>1.83</td>\n",
       "      <td>14.20</td>\n",
       "      <td>23.10</td>\n",
       "      <td>6.68</td>\n",
       "      <td>44.54</td>\n",
       "      <td>124.20</td>\n",
       "      <td>6858</td>\n",
       "    </tr>\n",
       "    <tr>\n",
       "      <th>3</th>\n",
       "      <td>Sablovskaite (URS)</td>\n",
       "      <td>13.61</td>\n",
       "      <td>1.80</td>\n",
       "      <td>15.23</td>\n",
       "      <td>23.92</td>\n",
       "      <td>6.25</td>\n",
       "      <td>42.78</td>\n",
       "      <td>132.24</td>\n",
       "      <td>6540</td>\n",
       "    </tr>\n",
       "    <tr>\n",
       "      <th>4</th>\n",
       "      <td>Choubenkova (URS)</td>\n",
       "      <td>13.51</td>\n",
       "      <td>1.74</td>\n",
       "      <td>14.76</td>\n",
       "      <td>23.93</td>\n",
       "      <td>6.32</td>\n",
       "      <td>47.46</td>\n",
       "      <td>127.90</td>\n",
       "      <td>6540</td>\n",
       "    </tr>\n",
       "  </tbody>\n",
       "</table>\n",
       "</div>"
      ],
      "text/plain": [
       "            Unnamed: 0  hurdles  highjump   shot  run200m  longjump  javelin  \\\n",
       "0  Joyner-Kersee (USA)    12.69      1.86  15.80    22.56      7.27    45.66   \n",
       "1           John (GDR)    12.85      1.80  16.23    23.65      6.71    42.56   \n",
       "2         Behmer (GDR)    13.20      1.83  14.20    23.10      6.68    44.54   \n",
       "3   Sablovskaite (URS)    13.61      1.80  15.23    23.92      6.25    42.78   \n",
       "4    Choubenkova (URS)    13.51      1.74  14.76    23.93      6.32    47.46   \n",
       "\n",
       "   run800m  score  \n",
       "0   128.51   7291  \n",
       "1   126.12   6897  \n",
       "2   124.20   6858  \n",
       "3   132.24   6540  \n",
       "4   127.90   6540  "
      ]
     },
     "execution_count": 3,
     "metadata": {},
     "output_type": "execute_result"
    }
   ],
   "source": [
    "hep.head()"
   ]
  },
  {
   "cell_type": "code",
   "execution_count": 31,
   "metadata": {
    "collapsed": true
   },
   "outputs": [],
   "source": [
    "hep['hurdles'] = 110./hep['hurdles']\n",
    "hep['run200m'] = 200./hep['run200m']\n",
    "hep['run800m'] = 800./hep['run800m']"
   ]
  },
  {
   "cell_type": "code",
   "execution_count": 32,
   "metadata": {
    "collapsed": false
   },
   "outputs": [
    {
     "data": {
      "text/html": [
       "<div>\n",
       "<table border=\"1\" class=\"dataframe\">\n",
       "  <thead>\n",
       "    <tr style=\"text-align: right;\">\n",
       "      <th></th>\n",
       "      <th>Unnamed: 0</th>\n",
       "      <th>hurdles</th>\n",
       "      <th>highjump</th>\n",
       "      <th>shot</th>\n",
       "      <th>run200m</th>\n",
       "      <th>longjump</th>\n",
       "      <th>javelin</th>\n",
       "      <th>run800m</th>\n",
       "      <th>score</th>\n",
       "    </tr>\n",
       "  </thead>\n",
       "  <tbody>\n",
       "    <tr>\n",
       "      <th>0</th>\n",
       "      <td>Joyner-Kersee (USA)</td>\n",
       "      <td>8.668243</td>\n",
       "      <td>1.86</td>\n",
       "      <td>15.80</td>\n",
       "      <td>8.865248</td>\n",
       "      <td>7.27</td>\n",
       "      <td>45.66</td>\n",
       "      <td>6.225196</td>\n",
       "      <td>7291</td>\n",
       "    </tr>\n",
       "    <tr>\n",
       "      <th>1</th>\n",
       "      <td>John (GDR)</td>\n",
       "      <td>8.560311</td>\n",
       "      <td>1.80</td>\n",
       "      <td>16.23</td>\n",
       "      <td>8.456660</td>\n",
       "      <td>6.71</td>\n",
       "      <td>42.56</td>\n",
       "      <td>6.343165</td>\n",
       "      <td>6897</td>\n",
       "    </tr>\n",
       "    <tr>\n",
       "      <th>2</th>\n",
       "      <td>Behmer (GDR)</td>\n",
       "      <td>8.333333</td>\n",
       "      <td>1.83</td>\n",
       "      <td>14.20</td>\n",
       "      <td>8.658009</td>\n",
       "      <td>6.68</td>\n",
       "      <td>44.54</td>\n",
       "      <td>6.441224</td>\n",
       "      <td>6858</td>\n",
       "    </tr>\n",
       "    <tr>\n",
       "      <th>3</th>\n",
       "      <td>Sablovskaite (URS)</td>\n",
       "      <td>8.082292</td>\n",
       "      <td>1.80</td>\n",
       "      <td>15.23</td>\n",
       "      <td>8.361204</td>\n",
       "      <td>6.25</td>\n",
       "      <td>42.78</td>\n",
       "      <td>6.049607</td>\n",
       "      <td>6540</td>\n",
       "    </tr>\n",
       "    <tr>\n",
       "      <th>4</th>\n",
       "      <td>Choubenkova (URS)</td>\n",
       "      <td>8.142117</td>\n",
       "      <td>1.74</td>\n",
       "      <td>14.76</td>\n",
       "      <td>8.357710</td>\n",
       "      <td>6.32</td>\n",
       "      <td>47.46</td>\n",
       "      <td>6.254887</td>\n",
       "      <td>6540</td>\n",
       "    </tr>\n",
       "  </tbody>\n",
       "</table>\n",
       "</div>"
      ],
      "text/plain": [
       "            Unnamed: 0   hurdles  highjump   shot   run200m  longjump  \\\n",
       "0  Joyner-Kersee (USA)  8.668243      1.86  15.80  8.865248      7.27   \n",
       "1           John (GDR)  8.560311      1.80  16.23  8.456660      6.71   \n",
       "2         Behmer (GDR)  8.333333      1.83  14.20  8.658009      6.68   \n",
       "3   Sablovskaite (URS)  8.082292      1.80  15.23  8.361204      6.25   \n",
       "4    Choubenkova (URS)  8.142117      1.74  14.76  8.357710      6.32   \n",
       "\n",
       "   javelin   run800m  score  \n",
       "0    45.66  6.225196   7291  \n",
       "1    42.56  6.343165   6897  \n",
       "2    44.54  6.441224   6858  \n",
       "3    42.78  6.049607   6540  \n",
       "4    47.46  6.254887   6540  "
      ]
     },
     "execution_count": 32,
     "metadata": {},
     "output_type": "execute_result"
    }
   ],
   "source": [
    "hep.head()"
   ]
  },
  {
   "cell_type": "markdown",
   "metadata": {},
   "source": [
    "---\n",
    "\n",
    "### Create dataframe excluding athlete and score"
   ]
  },
  {
   "cell_type": "markdown",
   "metadata": {},
   "source": [
    "---\n",
    "\n",
    "### Examine the correlation between the different events\n",
    "\n",
    "Plot a heatmap if you want to get fancy. What does the correlation matrix tell you?"
   ]
  },
  {
   "cell_type": "code",
   "execution_count": 37,
   "metadata": {
    "collapsed": false
   },
   "outputs": [
    {
     "data": {
      "text/html": [
       "<div>\n",
       "<table border=\"1\" class=\"dataframe\">\n",
       "  <thead>\n",
       "    <tr style=\"text-align: right;\">\n",
       "      <th></th>\n",
       "      <th>hurdles</th>\n",
       "      <th>highjump</th>\n",
       "      <th>shot</th>\n",
       "      <th>run200m</th>\n",
       "      <th>longjump</th>\n",
       "      <th>javelin</th>\n",
       "      <th>run800m</th>\n",
       "      <th>score</th>\n",
       "    </tr>\n",
       "  </thead>\n",
       "  <tbody>\n",
       "    <tr>\n",
       "      <th>hurdles</th>\n",
       "      <td>1.000000</td>\n",
       "      <td>0.779116</td>\n",
       "      <td>0.683805</td>\n",
       "      <td>0.802977</td>\n",
       "      <td>0.923797</td>\n",
       "      <td>0.043982</td>\n",
       "      <td>0.751634</td>\n",
       "      <td>0.934811</td>\n",
       "    </tr>\n",
       "    <tr>\n",
       "      <th>highjump</th>\n",
       "      <td>0.779116</td>\n",
       "      <td>1.000000</td>\n",
       "      <td>0.440786</td>\n",
       "      <td>0.473068</td>\n",
       "      <td>0.782442</td>\n",
       "      <td>0.002153</td>\n",
       "      <td>0.555286</td>\n",
       "      <td>0.767359</td>\n",
       "    </tr>\n",
       "    <tr>\n",
       "      <th>shot</th>\n",
       "      <td>0.683805</td>\n",
       "      <td>0.440786</td>\n",
       "      <td>1.000000</td>\n",
       "      <td>0.680184</td>\n",
       "      <td>0.743073</td>\n",
       "      <td>0.268989</td>\n",
       "      <td>0.447601</td>\n",
       "      <td>0.799699</td>\n",
       "    </tr>\n",
       "    <tr>\n",
       "      <th>run200m</th>\n",
       "      <td>0.802977</td>\n",
       "      <td>0.473068</td>\n",
       "      <td>0.680184</td>\n",
       "      <td>1.000000</td>\n",
       "      <td>0.814783</td>\n",
       "      <td>0.336934</td>\n",
       "      <td>0.633435</td>\n",
       "      <td>0.860900</td>\n",
       "    </tr>\n",
       "    <tr>\n",
       "      <th>longjump</th>\n",
       "      <td>0.923797</td>\n",
       "      <td>0.782442</td>\n",
       "      <td>0.743073</td>\n",
       "      <td>0.814783</td>\n",
       "      <td>1.000000</td>\n",
       "      <td>0.067108</td>\n",
       "      <td>0.697887</td>\n",
       "      <td>0.950437</td>\n",
       "    </tr>\n",
       "    <tr>\n",
       "      <th>javelin</th>\n",
       "      <td>0.043982</td>\n",
       "      <td>0.002153</td>\n",
       "      <td>0.268989</td>\n",
       "      <td>0.336934</td>\n",
       "      <td>0.067108</td>\n",
       "      <td>1.000000</td>\n",
       "      <td>0.025919</td>\n",
       "      <td>0.253147</td>\n",
       "    </tr>\n",
       "    <tr>\n",
       "      <th>run800m</th>\n",
       "      <td>0.751634</td>\n",
       "      <td>0.555286</td>\n",
       "      <td>0.447601</td>\n",
       "      <td>0.633435</td>\n",
       "      <td>0.697887</td>\n",
       "      <td>0.025919</td>\n",
       "      <td>1.000000</td>\n",
       "      <td>0.777813</td>\n",
       "    </tr>\n",
       "    <tr>\n",
       "      <th>score</th>\n",
       "      <td>0.934811</td>\n",
       "      <td>0.767359</td>\n",
       "      <td>0.799699</td>\n",
       "      <td>0.860900</td>\n",
       "      <td>0.950437</td>\n",
       "      <td>0.253147</td>\n",
       "      <td>0.777813</td>\n",
       "      <td>1.000000</td>\n",
       "    </tr>\n",
       "  </tbody>\n",
       "</table>\n",
       "</div>"
      ],
      "text/plain": [
       "           hurdles  highjump      shot   run200m  longjump   javelin  \\\n",
       "hurdles   1.000000  0.779116  0.683805  0.802977  0.923797  0.043982   \n",
       "highjump  0.779116  1.000000  0.440786  0.473068  0.782442  0.002153   \n",
       "shot      0.683805  0.440786  1.000000  0.680184  0.743073  0.268989   \n",
       "run200m   0.802977  0.473068  0.680184  1.000000  0.814783  0.336934   \n",
       "longjump  0.923797  0.782442  0.743073  0.814783  1.000000  0.067108   \n",
       "javelin   0.043982  0.002153  0.268989  0.336934  0.067108  1.000000   \n",
       "run800m   0.751634  0.555286  0.447601  0.633435  0.697887  0.025919   \n",
       "score     0.934811  0.767359  0.799699  0.860900  0.950437  0.253147   \n",
       "\n",
       "           run800m     score  \n",
       "hurdles   0.751634  0.934811  \n",
       "highjump  0.555286  0.767359  \n",
       "shot      0.447601  0.799699  \n",
       "run200m   0.633435  0.860900  \n",
       "longjump  0.697887  0.950437  \n",
       "javelin   0.025919  0.253147  \n",
       "run800m   1.000000  0.777813  \n",
       "score     0.777813  1.000000  "
      ]
     },
     "execution_count": 37,
     "metadata": {},
     "output_type": "execute_result"
    }
   ],
   "source": [
    "hep.iloc[:,1:].corr()"
   ]
  },
  {
   "cell_type": "code",
   "execution_count": 38,
   "metadata": {
    "collapsed": true
   },
   "outputs": [],
   "source": [
    "events = hep.drop(['Unnamed: 0', 'score'], 1)"
   ]
  },
  {
   "cell_type": "code",
   "execution_count": 39,
   "metadata": {
    "collapsed": false
   },
   "outputs": [
    {
     "data": {
      "text/html": [
       "<div>\n",
       "<table border=\"1\" class=\"dataframe\">\n",
       "  <thead>\n",
       "    <tr style=\"text-align: right;\">\n",
       "      <th></th>\n",
       "      <th>hurdles</th>\n",
       "      <th>highjump</th>\n",
       "      <th>shot</th>\n",
       "      <th>run200m</th>\n",
       "      <th>longjump</th>\n",
       "      <th>javelin</th>\n",
       "      <th>run800m</th>\n",
       "    </tr>\n",
       "  </thead>\n",
       "  <tbody>\n",
       "    <tr>\n",
       "      <th>0</th>\n",
       "      <td>8.668243</td>\n",
       "      <td>1.86</td>\n",
       "      <td>15.80</td>\n",
       "      <td>8.865248</td>\n",
       "      <td>7.27</td>\n",
       "      <td>45.66</td>\n",
       "      <td>6.225196</td>\n",
       "    </tr>\n",
       "    <tr>\n",
       "      <th>1</th>\n",
       "      <td>8.560311</td>\n",
       "      <td>1.80</td>\n",
       "      <td>16.23</td>\n",
       "      <td>8.456660</td>\n",
       "      <td>6.71</td>\n",
       "      <td>42.56</td>\n",
       "      <td>6.343165</td>\n",
       "    </tr>\n",
       "    <tr>\n",
       "      <th>2</th>\n",
       "      <td>8.333333</td>\n",
       "      <td>1.83</td>\n",
       "      <td>14.20</td>\n",
       "      <td>8.658009</td>\n",
       "      <td>6.68</td>\n",
       "      <td>44.54</td>\n",
       "      <td>6.441224</td>\n",
       "    </tr>\n",
       "    <tr>\n",
       "      <th>3</th>\n",
       "      <td>8.082292</td>\n",
       "      <td>1.80</td>\n",
       "      <td>15.23</td>\n",
       "      <td>8.361204</td>\n",
       "      <td>6.25</td>\n",
       "      <td>42.78</td>\n",
       "      <td>6.049607</td>\n",
       "    </tr>\n",
       "    <tr>\n",
       "      <th>4</th>\n",
       "      <td>8.142117</td>\n",
       "      <td>1.74</td>\n",
       "      <td>14.76</td>\n",
       "      <td>8.357710</td>\n",
       "      <td>6.32</td>\n",
       "      <td>47.46</td>\n",
       "      <td>6.254887</td>\n",
       "    </tr>\n",
       "  </tbody>\n",
       "</table>\n",
       "</div>"
      ],
      "text/plain": [
       "    hurdles  highjump   shot   run200m  longjump  javelin   run800m\n",
       "0  8.668243      1.86  15.80  8.865248      7.27    45.66  6.225196\n",
       "1  8.560311      1.80  16.23  8.456660      6.71    42.56  6.343165\n",
       "2  8.333333      1.83  14.20  8.658009      6.68    44.54  6.441224\n",
       "3  8.082292      1.80  15.23  8.361204      6.25    42.78  6.049607\n",
       "4  8.142117      1.74  14.76  8.357710      6.32    47.46  6.254887"
      ]
     },
     "execution_count": 39,
     "metadata": {},
     "output_type": "execute_result"
    }
   ],
   "source": [
    "events.head()"
   ]
  },
  {
   "cell_type": "markdown",
   "metadata": {},
   "source": [
    "---\n",
    "\n",
    "### Standardize the data"
   ]
  },
  {
   "cell_type": "code",
   "execution_count": 40,
   "metadata": {
    "collapsed": true
   },
   "outputs": [],
   "source": [
    "from sklearn.preprocessing import StandardScaler"
   ]
  },
  {
   "cell_type": "code",
   "execution_count": 43,
   "metadata": {
    "collapsed": false
   },
   "outputs": [],
   "source": [
    "SS = StandardScaler()\n",
    "Xn = pd.DataFrame(SS.fit_transform(events), columns=events.columns)\n",
    "event_names = events.columns"
   ]
  },
  {
   "cell_type": "code",
   "execution_count": 44,
   "metadata": {
    "collapsed": false
   },
   "outputs": [
    {
     "data": {
      "text/html": [
       "<div>\n",
       "<table border=\"1\" class=\"dataframe\">\n",
       "  <thead>\n",
       "    <tr style=\"text-align: right;\">\n",
       "      <th></th>\n",
       "      <th>hurdles</th>\n",
       "      <th>highjump</th>\n",
       "      <th>shot</th>\n",
       "      <th>run200m</th>\n",
       "      <th>longjump</th>\n",
       "      <th>javelin</th>\n",
       "      <th>run800m</th>\n",
       "    </tr>\n",
       "  </thead>\n",
       "  <tbody>\n",
       "    <tr>\n",
       "      <th>0</th>\n",
       "      <td>1.806431</td>\n",
       "      <td>1.021376</td>\n",
       "      <td>1.835071</td>\n",
       "      <td>2.336591</td>\n",
       "      <td>2.405348</td>\n",
       "      <td>1.202526</td>\n",
       "      <td>0.987676</td>\n",
       "    </tr>\n",
       "    <tr>\n",
       "      <th>1</th>\n",
       "      <td>1.527957</td>\n",
       "      <td>0.235702</td>\n",
       "      <td>2.129240</td>\n",
       "      <td>1.045082</td>\n",
       "      <td>1.200091</td>\n",
       "      <td>0.310188</td>\n",
       "      <td>1.345538</td>\n",
       "    </tr>\n",
       "    <tr>\n",
       "      <th>2</th>\n",
       "      <td>0.942332</td>\n",
       "      <td>0.628539</td>\n",
       "      <td>0.740486</td>\n",
       "      <td>1.681527</td>\n",
       "      <td>1.135524</td>\n",
       "      <td>0.880133</td>\n",
       "      <td>1.643002</td>\n",
       "    </tr>\n",
       "    <tr>\n",
       "      <th>3</th>\n",
       "      <td>0.294621</td>\n",
       "      <td>0.235702</td>\n",
       "      <td>1.445125</td>\n",
       "      <td>0.743356</td>\n",
       "      <td>0.210059</td>\n",
       "      <td>0.373515</td>\n",
       "      <td>0.455019</td>\n",
       "    </tr>\n",
       "    <tr>\n",
       "      <th>4</th>\n",
       "      <td>0.448975</td>\n",
       "      <td>-0.549972</td>\n",
       "      <td>1.123591</td>\n",
       "      <td>0.732312</td>\n",
       "      <td>0.360716</td>\n",
       "      <td>1.720658</td>\n",
       "      <td>1.077742</td>\n",
       "    </tr>\n",
       "  </tbody>\n",
       "</table>\n",
       "</div>"
      ],
      "text/plain": [
       "    hurdles  highjump      shot   run200m  longjump   javelin   run800m\n",
       "0  1.806431  1.021376  1.835071  2.336591  2.405348  1.202526  0.987676\n",
       "1  1.527957  0.235702  2.129240  1.045082  1.200091  0.310188  1.345538\n",
       "2  0.942332  0.628539  0.740486  1.681527  1.135524  0.880133  1.643002\n",
       "3  0.294621  0.235702  1.445125  0.743356  0.210059  0.373515  0.455019\n",
       "4  0.448975 -0.549972  1.123591  0.732312  0.360716  1.720658  1.077742"
      ]
     },
     "execution_count": 44,
     "metadata": {},
     "output_type": "execute_result"
    }
   ],
   "source": [
    "Xn.head()"
   ]
  },
  {
   "cell_type": "markdown",
   "metadata": {},
   "source": [
    "---\n",
    "\n",
    "### Fit a PCA on the standardized data using sklearn"
   ]
  },
  {
   "cell_type": "code",
   "execution_count": 27,
   "metadata": {
    "collapsed": true
   },
   "outputs": [],
   "source": [
    "from sklearn.decomposition import PCA"
   ]
  },
  {
   "cell_type": "code",
   "execution_count": 45,
   "metadata": {
    "collapsed": false
   },
   "outputs": [
    {
     "data": {
      "text/plain": [
       "PCA(copy=True, iterated_power='auto', n_components=None, random_state=None,\n",
       "  svd_solver='auto', tol=0.0, whiten=False)"
      ]
     },
     "execution_count": 45,
     "metadata": {},
     "output_type": "execute_result"
    }
   ],
   "source": [
    "pca = PCA()\n",
    "pca.fit(Xn)"
   ]
  },
  {
   "cell_type": "code",
   "execution_count": 46,
   "metadata": {
    "collapsed": false,
    "scrolled": true
   },
   "outputs": [
    {
     "data": {
      "text/plain": [
       "array([[-0.4537067 , -0.36742524, -0.36917476, -0.41103609, -0.45596971,\n",
       "        -0.08614954, -0.37226083],\n",
       "       [-0.13505313, -0.27633985,  0.25347623,  0.24712711, -0.09221975,\n",
       "         0.86114134, -0.17322253],\n",
       "       [ 0.00846058,  0.41435647, -0.67952134, -0.09809294, -0.11066596,\n",
       "         0.4308221 ,  0.39876187],\n",
       "       [ 0.01388192,  0.65705272,  0.14288476, -0.3166502 ,  0.12238373,\n",
       "         0.14596634, -0.6411877 ],\n",
       "       [ 0.15563941, -0.06564944, -0.51893625,  0.64775707,  0.15926353,\n",
       "        -0.11223419, -0.49459184],\n",
       "       [ 0.8317523 , -0.12923811,  0.00570046, -0.16327155, -0.49834774,\n",
       "         0.05774845, -0.11449967],\n",
       "       [ 0.2441538 , -0.40523215, -0.21901407, -0.46242959,  0.69472805,\n",
       "         0.16783506, -0.05959757]])"
      ]
     },
     "execution_count": 46,
     "metadata": {},
     "output_type": "execute_result"
    }
   ],
   "source": [
    "pca.components_"
   ]
  },
  {
   "cell_type": "code",
   "execution_count": 47,
   "metadata": {
    "collapsed": false
   },
   "outputs": [
    {
     "name": "stdout",
     "output_type": "stream",
     "text": [
      "-0.453706704635 hurdles\n",
      "-0.36742523852 highjump\n",
      "-0.36917476409 shot\n",
      "-0.41103609297 run200m\n",
      "-0.455969710954 longjump\n",
      "-0.0861495393229 javelin\n",
      "-0.37226082747 run800m\n"
     ]
    }
   ],
   "source": [
    "pc1_ev = pca.components_[0]\n",
    "for weight, event in zip(pc1_ev, event_names):\n",
    "    print weight, event"
   ]
  },
  {
   "cell_type": "code",
   "execution_count": 48,
   "metadata": {
    "collapsed": false
   },
   "outputs": [
    {
     "name": "stdout",
     "output_type": "stream",
     "text": [
      "-0.135053127902 hurdles\n",
      "-0.276339849049 highjump\n",
      "0.253476234859 shot\n",
      "0.247127112846 run200m\n",
      "-0.0922197539573 longjump\n",
      "0.861141336217 javelin\n",
      "-0.173222530198 run800m\n"
     ]
    }
   ],
   "source": [
    "pc1_ev = pca.components_[1]\n",
    "for weight, event in zip(pc1_ev, event_names):\n",
    "    print weight, event"
   ]
  },
  {
   "cell_type": "markdown",
   "metadata": {},
   "source": [
    "---\n",
    "\n",
    "### Create a DataFrame with the principal components\n",
    "\n",
    "Add back in the athelete and score columns from the original data."
   ]
  },
  {
   "cell_type": "code",
   "execution_count": 49,
   "metadata": {
    "collapsed": false
   },
   "outputs": [
    {
     "data": {
      "text/html": [
       "<div>\n",
       "<table border=\"1\" class=\"dataframe\">\n",
       "  <thead>\n",
       "    <tr style=\"text-align: right;\">\n",
       "      <th></th>\n",
       "      <th>PC0</th>\n",
       "      <th>PC1</th>\n",
       "      <th>PC2</th>\n",
       "      <th>PC3</th>\n",
       "      <th>PC4</th>\n",
       "      <th>PC5</th>\n",
       "      <th>PC6</th>\n",
       "      <th>athlete</th>\n",
       "      <th>score</th>\n",
       "    </tr>\n",
       "  </thead>\n",
       "  <tbody>\n",
       "    <tr>\n",
       "      <th>0</th>\n",
       "      <td>-0.453707</td>\n",
       "      <td>-0.367425</td>\n",
       "      <td>-0.369175</td>\n",
       "      <td>-0.411036</td>\n",
       "      <td>-0.455970</td>\n",
       "      <td>-0.086150</td>\n",
       "      <td>-0.372261</td>\n",
       "      <td>Joyner-Kersee (USA)</td>\n",
       "      <td>7291</td>\n",
       "    </tr>\n",
       "    <tr>\n",
       "      <th>1</th>\n",
       "      <td>-0.135053</td>\n",
       "      <td>-0.276340</td>\n",
       "      <td>0.253476</td>\n",
       "      <td>0.247127</td>\n",
       "      <td>-0.092220</td>\n",
       "      <td>0.861141</td>\n",
       "      <td>-0.173223</td>\n",
       "      <td>John (GDR)</td>\n",
       "      <td>6897</td>\n",
       "    </tr>\n",
       "    <tr>\n",
       "      <th>2</th>\n",
       "      <td>0.008461</td>\n",
       "      <td>0.414356</td>\n",
       "      <td>-0.679521</td>\n",
       "      <td>-0.098093</td>\n",
       "      <td>-0.110666</td>\n",
       "      <td>0.430822</td>\n",
       "      <td>0.398762</td>\n",
       "      <td>Behmer (GDR)</td>\n",
       "      <td>6858</td>\n",
       "    </tr>\n",
       "    <tr>\n",
       "      <th>3</th>\n",
       "      <td>0.013882</td>\n",
       "      <td>0.657053</td>\n",
       "      <td>0.142885</td>\n",
       "      <td>-0.316650</td>\n",
       "      <td>0.122384</td>\n",
       "      <td>0.145966</td>\n",
       "      <td>-0.641188</td>\n",
       "      <td>Sablovskaite (URS)</td>\n",
       "      <td>6540</td>\n",
       "    </tr>\n",
       "    <tr>\n",
       "      <th>4</th>\n",
       "      <td>0.155639</td>\n",
       "      <td>-0.065649</td>\n",
       "      <td>-0.518936</td>\n",
       "      <td>0.647757</td>\n",
       "      <td>0.159264</td>\n",
       "      <td>-0.112234</td>\n",
       "      <td>-0.494592</td>\n",
       "      <td>Choubenkova (URS)</td>\n",
       "      <td>6540</td>\n",
       "    </tr>\n",
       "  </tbody>\n",
       "</table>\n",
       "</div>"
      ],
      "text/plain": [
       "        PC0       PC1       PC2       PC3       PC4       PC5       PC6  \\\n",
       "0 -0.453707 -0.367425 -0.369175 -0.411036 -0.455970 -0.086150 -0.372261   \n",
       "1 -0.135053 -0.276340  0.253476  0.247127 -0.092220  0.861141 -0.173223   \n",
       "2  0.008461  0.414356 -0.679521 -0.098093 -0.110666  0.430822  0.398762   \n",
       "3  0.013882  0.657053  0.142885 -0.316650  0.122384  0.145966 -0.641188   \n",
       "4  0.155639 -0.065649 -0.518936  0.647757  0.159264 -0.112234 -0.494592   \n",
       "\n",
       "               athlete  score  \n",
       "0  Joyner-Kersee (USA)   7291  \n",
       "1           John (GDR)   6897  \n",
       "2         Behmer (GDR)   6858  \n",
       "3   Sablovskaite (URS)   6540  \n",
       "4    Choubenkova (URS)   6540  "
      ]
     },
     "execution_count": 49,
     "metadata": {},
     "output_type": "execute_result"
    }
   ],
   "source": [
    "hep_pcs = pca.transform(Xn)\n",
    "hep_pcs = pd.DataFrame(pca.components_, columns=['PC'+str(i) for i in range(len(event_names))])\n",
    "hep_pcs['athlete'] = hep['Unnamed: 0']\n",
    "hep_pcs['score'] = hep['score']\n",
    "hep_pcs.head()"
   ]
  },
  {
   "cell_type": "markdown",
   "metadata": {},
   "source": [
    "---\n",
    "\n",
    "### Plot the variance explained (ratio) of your components\n",
    "\n",
    "Explain what this chart tells you about your components."
   ]
  },
  {
   "cell_type": "code",
   "execution_count": 51,
   "metadata": {
    "collapsed": false,
    "scrolled": true
   },
   "outputs": [
    {
     "data": {
      "text/plain": [
       "array([ 0.63832499,  0.16512568,  0.07267193,  0.06981022,  0.03691008,\n",
       "        0.01029863,  0.00685847])"
      ]
     },
     "execution_count": 51,
     "metadata": {},
     "output_type": "execute_result"
    }
   ],
   "source": [
    "exp_var = pca.explained_variance_ratio_\n",
    "exp_var"
   ]
  },
  {
   "cell_type": "code",
   "execution_count": 52,
   "metadata": {
    "collapsed": false
   },
   "outputs": [
    {
     "data": {
      "image/png": "[encoded data removed]",
      "text/plain": [
       "<matplotlib.figure.Figure at 0x115987150>"
      ]
     },
     "metadata": {
      "image/png": {
       "height": 591,
       "width": 784
      }
     },
     "output_type": "display_data"
    }
   ],
   "source": [
    "fig, ax = plt.subplots(figsize=(8,6))\n",
    "ax.plot(range(1, len(exp_var)+1), exp_var, lw=2)\n",
    "ax.scatter(range(1, len(exp_var)+1), exp_var, s=200)\n",
    "ax.set_title('Explained variance pct\\n', fontsize=20)\n",
    "ax.set_xlabel('Principle Component', fontsize=16)\n",
    "ax.set_ylabel('Variance Explained (%)', fontsize=16)\n",
    "plt.show()"
   ]
  },
  {
   "cell_type": "markdown",
   "metadata": {},
   "source": [
    "---\n",
    "\n",
    "### Print out the weights/eigenvectors (.components_ ) with their corresponding variables for PC1 and PC2\n",
    "\n",
    "Based on how the original variables are weighted to calculate the components, how would you describe PC1 and PC2?"
   ]
  },
  {
   "cell_type": "code",
   "execution_count": 29,
   "metadata": {
    "collapsed": true
   },
   "outputs": [],
   "source": [
    "events_n_components = pca.components_"
   ]
  },
  {
   "cell_type": "code",
   "execution_count": 30,
   "metadata": {
    "collapsed": true
   },
   "outputs": [
    {
     "name": "stdout",
     "output_type": "stream",
     "text": [
      "Index([u'hurdles', u'highjump', u'shot', u'run200m', u'longjump', u'javelin',\n",
      "       u'run800m'],\n",
      "      dtype='object') \n",
      "\n",
      "-------------------------------------\n",
      "\n",
      "PC1 weighting vector: [ 0.40001859 -0.35819903 -0.41849199  0.46477473 -0.41053548 -0.17170179\n",
      "  0.35000943]\n",
      "-------------------------------------\n",
      "\n",
      "PC2 weighting vector: [ 0.17142039 -0.20157694  0.10957568 -0.11479637 -0.11892165  0.92342989\n",
      "  0.19476046]\n",
      "-------------------------------------\n",
      "\n",
      "PC3 weighting vector: [-0.10759129  0.46349815 -0.72524483  0.13828779 -0.05390794  0.2958274\n",
      " -0.37157783]\n",
      "-------------------------------------\n",
      "\n",
      "PC4 weighting vector: [-0.02592548  0.64487187  0.25907412  0.47189867  0.10025049  0.07522117\n",
      "  0.52721154]\n",
      "-------------------------------------\n",
      "\n",
      "PC5 weighting vector: [-0.06309342  0.09154077 -0.4244149  -0.61368564  0.17259414 -0.10377775\n",
      "  0.62477426]\n",
      "-------------------------------------\n",
      "\n",
      "PC6 weighting vector: [-0.80337223 -0.10735107  0.03153473  0.03457204 -0.56396447  0.0221069\n",
      "  0.14944732]\n",
      "-------------------------------------\n",
      "\n",
      "PC7 weighting vector: [-0.38595911 -0.42481286 -0.19655969  0.38883041  0.6756607   0.11560765\n",
      "  0.10422232]\n",
      "-------------------------------------\n",
      "\n"
     ]
    }
   ],
   "source": [
    "print events_n.columns, '\\n'\n",
    "print '-------------------------------------\\n'\n",
    "\n",
    "for i, pc in enumerate(['PC1','PC2','PC3','PC4','PC5', 'PC6', 'PC7']):\n",
    "    print pc, 'weighting vector:', event_n_components[i]\n",
    "    print '-------------------------------------\\n'"
   ]
  },
  {
   "cell_type": "markdown",
   "metadata": {},
   "source": [
    "---\n",
    "\n",
    "### Plot PC1 vs. PC2. Which athletes are notable on each component?"
   ]
  },
  {
   "cell_type": "code",
   "execution_count": null,
   "metadata": {
    "collapsed": true
   },
   "outputs": [],
   "source": []
  },
  {
   "cell_type": "markdown",
   "metadata": {},
   "source": [
    "---\n",
    "\n",
    "### Plot PC1 vs. score and PC2 vs. score. What does this tell you about the relationship between the events and the score?"
   ]
  },
  {
   "cell_type": "code",
   "execution_count": null,
   "metadata": {
    "collapsed": true
   },
   "outputs": [],
   "source": []
  },
  {
   "cell_type": "markdown",
   "metadata": {},
   "source": [
    "---\n",
    "\n",
    "### Load the wine data"
   ]
  },
  {
   "cell_type": "code",
   "execution_count": 4,
   "metadata": {
    "collapsed": true
   },
   "outputs": [],
   "source": [
    "wine = pd.read_csv('/Users/kiefer/github-repos/DSI-SF-2/datasets/wine_quality/winequality_merged.csv')"
   ]
  },
  {
   "cell_type": "markdown",
   "metadata": {},
   "source": [
    "---\n",
    "\n",
    "### Subset the wine data to everything except the `red_wine` column"
   ]
  },
  {
   "cell_type": "code",
   "execution_count": null,
   "metadata": {
    "collapsed": true
   },
   "outputs": [],
   "source": []
  },
  {
   "cell_type": "markdown",
   "metadata": {},
   "source": [
    "---\n",
    "\n",
    "### Examine the correlation between variables"
   ]
  },
  {
   "cell_type": "code",
   "execution_count": null,
   "metadata": {
    "collapsed": false
   },
   "outputs": [],
   "source": []
  },
  {
   "cell_type": "markdown",
   "metadata": {},
   "source": [
    "---\n",
    "\n",
    "### Standardize the variables"
   ]
  },
  {
   "cell_type": "code",
   "execution_count": null,
   "metadata": {
    "collapsed": true
   },
   "outputs": [],
   "source": []
  },
  {
   "cell_type": "markdown",
   "metadata": {},
   "source": [
    "---\n",
    "\n",
    "### Fit a PCA on the standardized data\n",
    "\n",
    "Create a new dataframe with the principal components and the `red_wine` column added back in from the original data."
   ]
  },
  {
   "cell_type": "code",
   "execution_count": null,
   "metadata": {
    "collapsed": true
   },
   "outputs": [],
   "source": []
  },
  {
   "cell_type": "markdown",
   "metadata": {},
   "source": [
    "---\n",
    "\n",
    "### Plot the variance explained ratio of the components"
   ]
  },
  {
   "cell_type": "code",
   "execution_count": null,
   "metadata": {
    "collapsed": true
   },
   "outputs": [],
   "source": []
  },
  {
   "cell_type": "markdown",
   "metadata": {},
   "source": [
    "---\n",
    "\n",
    "### Print out the component weights with their corresponding variables for PC1, PC2, and PC3\n",
    "\n",
    "How would you label the components based on the weights?"
   ]
  },
  {
   "cell_type": "code",
   "execution_count": null,
   "metadata": {
    "collapsed": true
   },
   "outputs": [],
   "source": []
  },
  {
   "cell_type": "markdown",
   "metadata": {},
   "source": [
    "---\n",
    "\n",
    "### Plot a seaborn pairplot of PC1, PC2, and PC3 with `hue='red_wine'`\n",
    "\n",
    "Do any of the components differentiate red and white wine? If so, what does this tell you about the difference between red and white wine based on the component weights?"
   ]
  },
  {
   "cell_type": "code",
   "execution_count": null,
   "metadata": {
    "collapsed": true
   },
   "outputs": [],
   "source": []
  },
  {
   "cell_type": "markdown",
   "metadata": {},
   "source": [
    "---\n",
    "\n",
    "### Horn's parallel analysis\n",
    "\n",
    "You can determine the appropriate number of components to keep by using a bootstrapping procedure known as Horn's Parallel Analysis. This is (as far as I know) the gold standard in determining which components aren't noise.\n",
    "\n",
    "How to do the parallel analysis (pseudocode):\n",
    "\n",
    "    for n iterations:\n",
    "        create normally distributed random data the same shape as your data\n",
    "        fit a PCA on the random data\n",
    "        pull out the eigenvalues\n",
    "    select a percentile of the eigenvalues as your threshold (0.5 = median, 0.95 = 95% confidence, etc.)\n",
    "    plot the random component eigenvalues at that percentile against your data's pca eigenvalues\n",
    "    components above the selected percentile are not noise, those under are\n",
    "    \n",
    "    \n",
    "Write a function to perform the parallel analysis."
   ]
  },
  {
   "cell_type": "code",
   "execution_count": null,
   "metadata": {
    "collapsed": true
   },
   "outputs": [],
   "source": []
  },
  {
   "cell_type": "markdown",
   "metadata": {},
   "source": [
    "---\n",
    "\n",
    "### Run parallel analysis for the wine data"
   ]
  },
  {
   "cell_type": "code",
   "execution_count": null,
   "metadata": {
    "collapsed": true
   },
   "outputs": [],
   "source": []
  },
  {
   "cell_type": "markdown",
   "metadata": {},
   "source": [
    "---\n",
    "\n",
    "### Plot the wine eigenvalues (`.variance_explained_`) against the parallel analysis random eigenvalue cutoffs\n",
    "\n",
    "How many components are not noise, based on the chart?"
   ]
  },
  {
   "cell_type": "code",
   "execution_count": null,
   "metadata": {
    "collapsed": true
   },
   "outputs": [],
   "source": []
  }
 ],
 "metadata": {
  "anaconda-cloud": {},
  "kernelspec": {
   "display_name": "Python [dsi]",
   "language": "python",
   "name": "Python [dsi]"
  },
  "language_info": {
   "codemirror_mode": {
    "name": "ipython",
    "version": 2
   },
   "file_extension": ".py",
   "mimetype": "text/x-python",
   "name": "python",
   "nbconvert_exporter": "python",
   "pygments_lexer": "ipython2",
   "version": "2.7.12"
  }
 },
 "nbformat": 4,
 "nbformat_minor": 0
}
