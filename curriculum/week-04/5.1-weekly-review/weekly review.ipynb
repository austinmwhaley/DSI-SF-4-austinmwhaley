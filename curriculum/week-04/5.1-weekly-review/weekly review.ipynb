{
 "cells": [
  {
   "cell_type": "code",
   "execution_count": 4,
   "metadata": {
    "collapsed": false
   },
   "outputs": [],
   "source": [
    "import numpy as np\n",
    "import scipy.stats as stats\n",
    "import seaborn as sns\n",
    "import matplotlib.pyplot as plt\n",
    "import pandas as pd\n",
    "import imp\n",
    "\n",
    "sns.set_style('whitegrid')\n",
    "\n",
    "%config InlineBackend.figure_format = 'retina'\n",
    "%matplotlib inline"
   ]
  },
  {
   "cell_type": "code",
   "execution_count": 5,
   "metadata": {
    "collapsed": true
   },
   "outputs": [],
   "source": [
    "df = pd.read_csv('/Users/austinwhaley/Desktop/DSI-SF-4-austinmwhaley/datasets/combine.csv')"
   ]
  },
  {
   "cell_type": "code",
   "execution_count": 11,
   "metadata": {
    "collapsed": false,
    "scrolled": true
   },
   "outputs": [
    {
     "data": {
      "text/plain": [
       "'Justin Ernest'"
      ]
     },
     "execution_count": 11,
     "metadata": {},
     "output_type": "execute_result"
    }
   ],
   "source": [
    "df['Name'].ix[2777]"
   ]
  },
  {
   "cell_type": "code",
   "execution_count": 9,
   "metadata": {
    "collapsed": false
   },
   "outputs": [
    {
     "data": {
      "text/html": [
       "<div>\n",
       "<table border=\"1\" class=\"dataframe\">\n",
       "  <thead>\n",
       "    <tr style=\"text-align: right;\">\n",
       "      <th></th>\n",
       "      <th>id</th>\n",
       "      <th>Year</th>\n",
       "      <th>Name</th>\n",
       "      <th>Position</th>\n",
       "      <th>HeightFeet</th>\n",
       "      <th>HeightInches</th>\n",
       "      <th>Weight</th>\n",
       "      <th>Arms</th>\n",
       "      <th>Hands</th>\n",
       "      <th>FortyYD</th>\n",
       "      <th>...</th>\n",
       "      <th>Bench</th>\n",
       "      <th>Round</th>\n",
       "      <th>College</th>\n",
       "      <th>Pick</th>\n",
       "      <th>PickRound</th>\n",
       "      <th>PickTotal</th>\n",
       "      <th>FirstName</th>\n",
       "      <th>LastName</th>\n",
       "      <th>HeightInchesTotal</th>\n",
       "      <th>Wonderlic</th>\n",
       "    </tr>\n",
       "  </thead>\n",
       "  <tbody>\n",
       "    <tr>\n",
       "      <th>0</th>\n",
       "      <td>8984</td>\n",
       "      <td>2013</td>\n",
       "      <td>Quanterus Smith</td>\n",
       "      <td>DE</td>\n",
       "      <td>6</td>\n",
       "      <td>5.0</td>\n",
       "      <td>250</td>\n",
       "      <td>33.25</td>\n",
       "      <td>10.375</td>\n",
       "      <td>0.0</td>\n",
       "      <td>...</td>\n",
       "      <td>0</td>\n",
       "      <td>5</td>\n",
       "      <td>Western Kentucky</td>\n",
       "      <td>13(146)</td>\n",
       "      <td>13</td>\n",
       "      <td>146</td>\n",
       "      <td>Quanterus</td>\n",
       "      <td>Smith</td>\n",
       "      <td>77.0</td>\n",
       "      <td>0</td>\n",
       "    </tr>\n",
       "    <tr>\n",
       "      <th>1</th>\n",
       "      <td>9002</td>\n",
       "      <td>2013</td>\n",
       "      <td>Abry Jones</td>\n",
       "      <td>DT</td>\n",
       "      <td>6</td>\n",
       "      <td>3.0</td>\n",
       "      <td>313</td>\n",
       "      <td>35.00</td>\n",
       "      <td>9.750</td>\n",
       "      <td>0.0</td>\n",
       "      <td>...</td>\n",
       "      <td>30</td>\n",
       "      <td>0</td>\n",
       "      <td>NaN</td>\n",
       "      <td>NaN</td>\n",
       "      <td>0</td>\n",
       "      <td>0</td>\n",
       "      <td>Abry</td>\n",
       "      <td>Jones</td>\n",
       "      <td>75.0</td>\n",
       "      <td>0</td>\n",
       "    </tr>\n",
       "    <tr>\n",
       "      <th>2</th>\n",
       "      <td>9004</td>\n",
       "      <td>2013</td>\n",
       "      <td>Bennie Logan</td>\n",
       "      <td>DT</td>\n",
       "      <td>6</td>\n",
       "      <td>2.0</td>\n",
       "      <td>309</td>\n",
       "      <td>34.00</td>\n",
       "      <td>10.250</td>\n",
       "      <td>0.0</td>\n",
       "      <td>...</td>\n",
       "      <td>30</td>\n",
       "      <td>3</td>\n",
       "      <td>LSU</td>\n",
       "      <td>5(67)</td>\n",
       "      <td>5</td>\n",
       "      <td>67</td>\n",
       "      <td>Bennie</td>\n",
       "      <td>Logan</td>\n",
       "      <td>74.0</td>\n",
       "      <td>0</td>\n",
       "    </tr>\n",
       "    <tr>\n",
       "      <th>3</th>\n",
       "      <td>9012</td>\n",
       "      <td>2013</td>\n",
       "      <td>John Boyett</td>\n",
       "      <td>FS</td>\n",
       "      <td>5</td>\n",
       "      <td>10.0</td>\n",
       "      <td>204</td>\n",
       "      <td>30.50</td>\n",
       "      <td>8.500</td>\n",
       "      <td>0.0</td>\n",
       "      <td>...</td>\n",
       "      <td>27</td>\n",
       "      <td>6</td>\n",
       "      <td>Oregon</td>\n",
       "      <td>24(192)</td>\n",
       "      <td>24</td>\n",
       "      <td>192</td>\n",
       "      <td>John</td>\n",
       "      <td>Boyett</td>\n",
       "      <td>70.0</td>\n",
       "      <td>0</td>\n",
       "    </tr>\n",
       "    <tr>\n",
       "      <th>4</th>\n",
       "      <td>9018</td>\n",
       "      <td>2013</td>\n",
       "      <td>Bacarri Rambo</td>\n",
       "      <td>FS</td>\n",
       "      <td>6</td>\n",
       "      <td>0.0</td>\n",
       "      <td>211</td>\n",
       "      <td>31.00</td>\n",
       "      <td>9.250</td>\n",
       "      <td>0.0</td>\n",
       "      <td>...</td>\n",
       "      <td>17</td>\n",
       "      <td>6</td>\n",
       "      <td>Georgia</td>\n",
       "      <td>23(191)</td>\n",
       "      <td>23</td>\n",
       "      <td>191</td>\n",
       "      <td>Bacarri</td>\n",
       "      <td>Rambo</td>\n",
       "      <td>72.0</td>\n",
       "      <td>0</td>\n",
       "    </tr>\n",
       "  </tbody>\n",
       "</table>\n",
       "<p>5 rows × 26 columns</p>\n",
       "</div>"
      ],
      "text/plain": [
       "     id  Year             Name Position  HeightFeet  HeightInches  Weight  \\\n",
       "0  8984  2013  Quanterus Smith       DE           6           5.0     250   \n",
       "1  9002  2013       Abry Jones       DT           6           3.0     313   \n",
       "2  9004  2013     Bennie Logan       DT           6           2.0     309   \n",
       "3  9012  2013      John Boyett       FS           5          10.0     204   \n",
       "4  9018  2013    Bacarri Rambo       FS           6           0.0     211   \n",
       "\n",
       "    Arms   Hands  FortyYD    ...     Bench  Round           College     Pick  \\\n",
       "0  33.25  10.375      0.0    ...         0      5  Western Kentucky  13(146)   \n",
       "1  35.00   9.750      0.0    ...        30      0               NaN      NaN   \n",
       "2  34.00  10.250      0.0    ...        30      3               LSU    5(67)   \n",
       "3  30.50   8.500      0.0    ...        27      6            Oregon  24(192)   \n",
       "4  31.00   9.250      0.0    ...        17      6           Georgia  23(191)   \n",
       "\n",
       "   PickRound  PickTotal  FirstName  LastName HeightInchesTotal Wonderlic  \n",
       "0         13        146  Quanterus     Smith              77.0         0  \n",
       "1          0          0       Abry     Jones              75.0         0  \n",
       "2          5         67     Bennie     Logan              74.0         0  \n",
       "3         24        192       John    Boyett              70.0         0  \n",
       "4         23        191    Bacarri     Rambo              72.0         0  \n",
       "\n",
       "[5 rows x 26 columns]"
      ]
     },
     "execution_count": 9,
     "metadata": {},
     "output_type": "execute_result"
    }
   ],
   "source": [
    "df.head()"
   ]
  },
  {
   "cell_type": "code",
   "execution_count": null,
   "metadata": {
    "collapsed": true
   },
   "outputs": [],
   "source": []
  }
 ],
 "metadata": {
  "anaconda-cloud": {},
  "kernelspec": {
   "display_name": "Python [default]",
   "language": "python",
   "name": "python2"
  },
  "language_info": {
   "codemirror_mode": {
    "name": "ipython",
    "version": 2
   },
   "file_extension": ".py",
   "mimetype": "text/x-python",
   "name": "python",
   "nbconvert_exporter": "python",
   "pygments_lexer": "ipython2",
   "version": "2.7.12"
  }
 },
 "nbformat": 4,
 "nbformat_minor": 0
}
