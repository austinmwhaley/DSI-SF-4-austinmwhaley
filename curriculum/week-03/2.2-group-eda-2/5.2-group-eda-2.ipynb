{
 "cells": [
  {
   "cell_type": "markdown",
   "metadata": {},
   "source": [
    "<img src=\"https://ga-dash.s3.amazonaws.com/production/assets/logo-9f88ae6c9c3871690e33280fcf557f33.png\" style=\"float: left; margin: 15px;\">\n",
    "# Group EDA II\n",
    "<br>\n",
    "<img src=\"https://snag.gy/LZToF2.jpg\" style=\"width: 500px\">\n",
    "<br>\n",
    "The focus of this group EDA practice, is to present within the given frame, to a high level, non-technical audience.  Please give focus to the given goals and how achievable they are in terms of factual numbers.  Not everything is achievable, so it's important to explain why to an audience that doesn't know anything about numbers.  In the event that a goal can't be achieved, explain why in simple language, backing up your reasoning with measurable details.\n",
    "\n",
    "However, it's also important to look at the details and address the class with your approach.  A notebook presentation is fine for the technical aspect but your main priority should be to address a non-technical audience.  Keep in mind that it's good to explain your code, but **always frame everything you present in terms of the goals**.  If what you're choosing to present isn't relevent to the goals, please consider ommitting those details.\n",
    "\n",
    "Each group has a slightly different challenge but it is possible to use what we learned about linear regression, regularization, and exploratory analysis so far.\n",
    "\n",
    "---"
   ]
  },
  {
   "cell_type": "code",
   "execution_count": 78,
   "metadata": {
    "collapsed": true
   },
   "outputs": [],
   "source": [
    "import numpy as np\n",
    "import scipy.stats as stats\n",
    "import seaborn as sns\n",
    "import matplotlib.pyplot as plt\n",
    "import pandas as pd\n",
    "import imp\n",
    "\n",
    "sns.set_style('whitegrid')\n",
    "\n",
    "%config InlineBackend.figure_format = 'retina'\n",
    "%matplotlib inline"
   ]
  },
  {
   "cell_type": "markdown",
   "metadata": {},
   "source": [
    "## Adult Education\n",
    "\n",
    "You are on the data science team at a private school.  The marketing department has approached us to help write a series of blog posts that can help sell the value proposition of the school.  Secondarily, business development is very interested in developing online products in emerging markets.\n",
    "\n",
    "The goals are:\n",
    "\n",
    "- Describe the areas of highest value within the dataset\n",
    "- Describe the characteristics that target value\n",
    "- Identify possible markets and demographic characteristics for business development\n",
    "\n",
    "Presentation requirements:\n",
    "\n",
    "- %50 of presentation must address a non-technical audience \n",
    "- Someone who hasn't presented yet must take lead on presentation"
   ]
  },
  {
   "cell_type": "code",
   "execution_count": 79,
   "metadata": {
    "collapsed": false
   },
   "outputs": [],
   "source": [
    "import pandas as pd\n",
    "\n",
    "df = pd.read_csv(\"../../../datasets/adult_salary/adult.csv\")\n"
   ]
  },
  {
   "cell_type": "markdown",
   "metadata": {},
   "source": [
    "## FIFA\n",
    "\n",
    "You are working for an advertising analytics consulting company.  Your client, a name brand television network, needs help deciding how to re-prioritize the pricing structure for new customers, but also incentivize existing clients to convert to new partnerships sponsors for teams and players.\n",
    "\n",
    "Goals:\n",
    "- Determine a metric to decide how exciting a game is\n",
    "  - Engineer this feature using existing data\n",
    "- Suggest a pricing structure tied to overall value of \"game excitement\"\n",
    "\n",
    "Presentation requirements:\n",
    "\n",
    "- %50 of presentation must address a non-technical audience \n",
    "- Someone who hasn't presented yet must take lead on presentation\n"
   ]
  },
  {
   "cell_type": "code",
   "execution_count": 80,
   "metadata": {
    "collapsed": false,
    "scrolled": false
   },
   "outputs": [],
   "source": [
    "df = pd.read_csv(\"/Users/austinwhaley/Desktop/DSI-SF-4-austinmwhaley/datasets/fifa_goals/fifa_goals.csv\")"
   ]
  },
  {
   "cell_type": "code",
   "execution_count": 81,
   "metadata": {
    "collapsed": false
   },
   "outputs": [
    {
     "ename": "SyntaxError",
     "evalue": "invalid syntax (<ipython-input-81-5bd1c63cee15>, line 1)",
     "output_type": "error",
     "traceback": [
      "\u001b[0;36m  File \u001b[0;32m\"<ipython-input-81-5bd1c63cee15>\"\u001b[0;36m, line \u001b[0;32m1\u001b[0m\n\u001b[0;31m    df['minute'].applymap(?)\u001b[0m\n\u001b[0m                          ^\u001b[0m\n\u001b[0;31mSyntaxError\u001b[0m\u001b[0;31m:\u001b[0m invalid syntax\n"
     ]
    }
   ],
   "source": [
    "df['minute'].applymap(?)"
   ]
  },
  {
   "cell_type": "code",
   "execution_count": null,
   "metadata": {
    "collapsed": false
   },
   "outputs": [],
   "source": [
    "df[['minute']]"
   ]
  },
  {
   "cell_type": "code",
   "execution_count": null,
   "metadata": {
    "collapsed": false
   },
   "outputs": [],
   "source": [
    "df['offset'] = df.index\n",
    "for row in df.values:\n",
    "    print row[-1]"
   ]
  },
  {
   "cell_type": "code",
   "execution_count": null,
   "metadata": {
    "collapsed": false,
    "scrolled": true
   },
   "outputs": [],
   "source": [
    "def calc_group(group_df):\n",
    "    group_df['game100'] = group_df['game_id'] * 100\n",
    "    \n",
    "    max_\n",
    "    \n",
    "    return group_df\n",
    "\n",
    "df.groupby('game_id').apply(calc_group)"
   ]
  },
  {
   "cell_type": "code",
   "execution_count": null,
   "metadata": {
    "collapsed": false
   },
   "outputs": [],
   "source": [
    "updated"
   ]
  },
  {
   "cell_type": "markdown",
   "metadata": {},
   "source": [
    "## Mobile Madness\n",
    "\n",
    "In an effort to extend account lifetime of existing customers, we NEED to identify customers for targeted A/B experiments.  Before we do that, we need to really have a good level of certainty around who is going to churn and why.\n",
    "\n",
    "Goals:\n",
    "\n",
    "- Research the concept of \"churn\"\n",
    "- Identify behaviors strongly coorelated with churn in this dataset\n",
    "- Suggest what we should look for to consider A/B tests\n",
    "\n",
    "Presentation requirements:\n",
    "- %50 of presentation must address a non-technical audience\n",
    "- Someone who hasn't presented yet must take lead on presentation\n"
   ]
  },
  {
   "cell_type": "code",
   "execution_count": null,
   "metadata": {
    "collapsed": false
   },
   "outputs": [],
   "source": [
    "df = pd.read_csv(\"../../../datasets/churn_rate/churn-bigml-20.csv\")"
   ]
  },
  {
   "cell_type": "markdown",
   "metadata": {},
   "source": [
    "## Marathon\n",
    "\n",
    "The overlords of marathon planning committees have petitioned a group of DSI students to help with their decision to plan future sites for marathons.  The the marathon super-pac believes that people who engage with events are drawn to the challenege aspects of the event as a core value (harder marathons == better value).  However, a small contingency within the ranks of the marathon super-pac believe that the spirit of events supercedes the element of difficulty because of the phenomena of spectatorship.\n",
    "\n",
    "Goals\n",
    "- Suggest qualities of high performing events \n",
    "  - Engineer new features / metrics to evaluate\n",
    "  - The goal of the committee is to use these metrics to decide future sites for events\n",
    "- Settle the dispute within the committee about the value of challenege vs popularity\n",
    "  - Which is most important?\n",
    "  - Are they valuable for different reasons?\n",
    "  \n",
    "Presentation requirements:\n",
    "- %75 of presentation must address a non-technical audience\n",
    "- Someone who hasn't presented yet must take lead on presentation"
   ]
  },
  {
   "cell_type": "code",
   "execution_count": null,
   "metadata": {
    "collapsed": true
   },
   "outputs": [],
   "source": []
  },
  {
   "cell_type": "code",
   "execution_count": null,
   "metadata": {
    "collapsed": false
   },
   "outputs": [],
   "source": [
    "# This project contains multiple datasets\n",
    "df = pd.read_csv(\"/Users/austinwhaley/Desktop/DSI-SF-4-austinmwhaley/datasets/marathons/Winners.csv\")"
   ]
  },
  {
   "cell_type": "code",
   "execution_count": null,
   "metadata": {
    "collapsed": false
   },
   "outputs": [],
   "source": [
    "df"
   ]
  },
  {
   "cell_type": "code",
   "execution_count": null,
   "metadata": {
    "collapsed": true
   },
   "outputs": [],
   "source": []
  },
  {
   "cell_type": "code",
   "execution_count": null,
   "metadata": {
    "collapsed": true
   },
   "outputs": [],
   "source": []
  },
  {
   "cell_type": "code",
   "execution_count": null,
   "metadata": {
    "collapsed": true
   },
   "outputs": [],
   "source": [
    "df = pd.read_csv('/Users/austinwhaley/Desktop/DSI-SF-4-austinmwhaley/datasets/movie_weekend/movie_weekend.csv')"
   ]
  },
  {
   "cell_type": "code",
   "execution_count": null,
   "metadata": {
    "collapsed": false
   },
   "outputs": [],
   "source": [
    "df.head()"
   ]
  },
  {
   "cell_type": "code",
   "execution_count": null,
   "metadata": {
    "collapsed": true
   },
   "outputs": [],
   "source": [
    "# convert date to proper type\n",
    "df['WEEKEND_DATE'] = pd.to_datetime(df['WEEKEND_DATE'])"
   ]
  },
  {
   "cell_type": "code",
   "execution_count": null,
   "metadata": {
    "collapsed": false
   },
   "outputs": [],
   "source": [
    "df.info()"
   ]
  },
  {
   "cell_type": "code",
   "execution_count": null,
   "metadata": {
    "collapsed": false
   },
   "outputs": [],
   "source": [
    "# set of index to a datetime\n",
    "df.index = df['WEEKEND_DATE']\n",
    "df.head()"
   ]
  },
  {
   "cell_type": "code",
   "execution_count": null,
   "metadata": {
    "collapsed": false
   },
   "outputs": [],
   "source": [
    "df['WEEKEND_PER_THEATER'].resample('M').sum().plot()"
   ]
  },
  {
   "cell_type": "code",
   "execution_count": null,
   "metadata": {
    "collapsed": false,
    "scrolled": true
   },
   "outputs": [],
   "source": [
    "#df['year'] = df.index.map(lambda value: value.year)\n",
    "df.index.map(lambda value: value.day)"
   ]
  },
  {
   "cell_type": "code",
   "execution_count": null,
   "metadata": {
    "collapsed": true
   },
   "outputs": [],
   "source": []
  },
  {
   "cell_type": "code",
   "execution_count": null,
   "metadata": {
    "collapsed": true
   },
   "outputs": [],
   "source": []
  },
  {
   "cell_type": "code",
   "execution_count": 109,
   "metadata": {
    "collapsed": true
   },
   "outputs": [],
   "source": [
    "df = pd.read_csv('/Users/austinwhaley/Desktop/DSI-SF-4-austinmwhaley/datasets/highest_paid_athletes/Athletes.csv')"
   ]
  },
  {
   "cell_type": "code",
   "execution_count": 110,
   "metadata": {
    "collapsed": false
   },
   "outputs": [
    {
     "data": {
      "text/plain": [
       "Index([u'Rank', u'Name', u'Sport', u'Total Pay', u'Salary/Winnings',\n",
       "       u'Endorsements', u'Nation', u'Gender', u'Year of birth', u'Birth Date',\n",
       "       u'Place of Birth', u'Height (cm)', u'Wikipedia Page', u'dbpedia Page',\n",
       "       u'Image', u'Description'],\n",
       "      dtype='object')"
      ]
     },
     "execution_count": 110,
     "metadata": {},
     "output_type": "execute_result"
    }
   ],
   "source": [
    "df.columns"
   ]
  },
  {
   "cell_type": "code",
   "execution_count": 111,
   "metadata": {
    "collapsed": false
   },
   "outputs": [],
   "source": [
    "df.columns = df.columns.map(lambda x: x.replace(\" \", \"_\").lower().replace(\"(\", \"\").replace(')', \"\").replace(\"/\", \"_\"))"
   ]
  },
  {
   "cell_type": "code",
   "execution_count": 112,
   "metadata": {
    "collapsed": false
   },
   "outputs": [
    {
     "name": "stdout",
     "output_type": "stream",
     "text": [
      "<class 'pandas.core.frame.DataFrame'>\n",
      "RangeIndex: 100 entries, 0 to 99\n",
      "Data columns (total 16 columns):\n",
      "rank               100 non-null int64\n",
      "name               100 non-null object\n",
      "sport              100 non-null object\n",
      "total_pay          100 non-null object\n",
      "salary_winnings    100 non-null object\n",
      "endorsements       100 non-null object\n",
      "nation             100 non-null object\n",
      "gender             100 non-null object\n",
      "year_of_birth      100 non-null int64\n",
      "birth_date         100 non-null object\n",
      "place_of_birth     100 non-null object\n",
      "height_cm          100 non-null int64\n",
      "wikipedia_page     100 non-null object\n",
      "dbpedia_page       100 non-null object\n",
      "image              99 non-null object\n",
      "description        100 non-null object\n",
      "dtypes: int64(3), object(13)\n",
      "memory usage: 12.6+ KB\n"
     ]
    }
   ],
   "source": [
    "#total_pay\n",
    "#salary_winnings\n",
    "#year_of_birth? datetime?\n",
    "#birth_date? datetime?\n",
    "df.info()"
   ]
  },
  {
   "cell_type": "code",
   "execution_count": 113,
   "metadata": {
    "collapsed": false
   },
   "outputs": [],
   "source": [
    "#df['total_pay'] = df['total_pay'].map(lambda x: float(x.replace('$', \",\").replace(',',\"\")))"
   ]
  },
  {
   "cell_type": "code",
   "execution_count": 114,
   "metadata": {
    "collapsed": true
   },
   "outputs": [],
   "source": [
    "#df['salary_winnings'] = df['salary_winnings'].map(lambda x: float(x.replace('$', \",\").replace(',',\"\")))"
   ]
  },
  {
   "cell_type": "code",
   "execution_count": 115,
   "metadata": {
    "collapsed": true
   },
   "outputs": [],
   "source": [
    "#df['endorsements'] = df['endorsements'].map(lambda x: float(x.replace('$', \",\").replace(',',\"\")))"
   ]
  },
  {
   "cell_type": "code",
   "execution_count": 116,
   "metadata": {
    "collapsed": false
   },
   "outputs": [],
   "source": [
    "#Alternative apply function\n",
    "\n",
    "df[['total_pay', 'salary_winnings', 'endorsements']] = df[['total_pay', 'salary_winnings', 'endorsements']].apply(lambda x: x.str.replace('$', \",\").str.replace(',',\"\")).astype(float)"
   ]
  },
  {
   "cell_type": "code",
   "execution_count": 117,
   "metadata": {
    "collapsed": false
   },
   "outputs": [],
   "source": [
    "df['birth_date'] = pd.to_datetime(df['birth_date'])"
   ]
  },
  {
   "cell_type": "code",
   "execution_count": 118,
   "metadata": {
    "collapsed": false
   },
   "outputs": [
    {
     "name": "stdout",
     "output_type": "stream",
     "text": [
      "<class 'pandas.core.frame.DataFrame'>\n",
      "RangeIndex: 100 entries, 0 to 99\n",
      "Data columns (total 16 columns):\n",
      "rank               100 non-null int64\n",
      "name               100 non-null object\n",
      "sport              100 non-null object\n",
      "total_pay          100 non-null float64\n",
      "salary_winnings    100 non-null float64\n",
      "endorsements       100 non-null float64\n",
      "nation             100 non-null object\n",
      "gender             100 non-null object\n",
      "year_of_birth      100 non-null int64\n",
      "birth_date         100 non-null datetime64[ns]\n",
      "place_of_birth     100 non-null object\n",
      "height_cm          100 non-null int64\n",
      "wikipedia_page     100 non-null object\n",
      "dbpedia_page       100 non-null object\n",
      "image              99 non-null object\n",
      "description        100 non-null object\n",
      "dtypes: datetime64[ns](1), float64(3), int64(3), object(9)\n",
      "memory usage: 12.6+ KB\n"
     ]
    }
   ],
   "source": [
    "df.info()"
   ]
  },
  {
   "cell_type": "code",
   "execution_count": null,
   "metadata": {
    "collapsed": true
   },
   "outputs": [],
   "source": [
    "#Create new column -> birthdate year and birthdate month"
   ]
  },
  {
   "cell_type": "code",
   "execution_count": 119,
   "metadata": {
    "collapsed": false
   },
   "outputs": [
    {
     "data": {
      "text/html": [
       "<div>\n",
       "<table border=\"1\" class=\"dataframe\">\n",
       "  <thead>\n",
       "    <tr style=\"text-align: right;\">\n",
       "      <th></th>\n",
       "      <th>rank</th>\n",
       "      <th>name</th>\n",
       "      <th>sport</th>\n",
       "      <th>total_pay</th>\n",
       "      <th>salary_winnings</th>\n",
       "      <th>endorsements</th>\n",
       "      <th>nation</th>\n",
       "      <th>gender</th>\n",
       "      <th>year_of_birth</th>\n",
       "      <th>birth_date</th>\n",
       "      <th>place_of_birth</th>\n",
       "      <th>height_cm</th>\n",
       "      <th>wikipedia_page</th>\n",
       "      <th>dbpedia_page</th>\n",
       "      <th>image</th>\n",
       "      <th>description</th>\n",
       "    </tr>\n",
       "  </thead>\n",
       "  <tbody>\n",
       "    <tr>\n",
       "      <th>0</th>\n",
       "      <td>55</td>\n",
       "      <td>Aaron Rodgers</td>\n",
       "      <td>Football</td>\n",
       "      <td>22000000.0</td>\n",
       "      <td>14500000.0</td>\n",
       "      <td>7500000.0</td>\n",
       "      <td>United States</td>\n",
       "      <td>Male</td>\n",
       "      <td>1983</td>\n",
       "      <td>1983-02-12</td>\n",
       "      <td>Chico, California, United States</td>\n",
       "      <td>188</td>\n",
       "      <td>http://en.wikipedia.org/wiki/Aaron_Rodgers</td>\n",
       "      <td>dbpedia.org/resource/Aaron_Rodgers</td>\n",
       "      <td>http://commons.wikimedia.org/wiki/Special:File...</td>\n",
       "      <td>Aaron Charles Rodgers (born December 2, 1983) ...</td>\n",
       "    </tr>\n",
       "  </tbody>\n",
       "</table>\n",
       "</div>"
      ],
      "text/plain": [
       "   rank           name     sport   total_pay  salary_winnings  endorsements  \\\n",
       "0    55  Aaron Rodgers  Football  22000000.0       14500000.0     7500000.0   \n",
       "\n",
       "          nation gender  year_of_birth birth_date  \\\n",
       "0  United States   Male           1983 1983-02-12   \n",
       "\n",
       "                     place_of_birth  height_cm  \\\n",
       "0  Chico, California, United States        188   \n",
       "\n",
       "                               wikipedia_page  \\\n",
       "0  http://en.wikipedia.org/wiki/Aaron_Rodgers   \n",
       "\n",
       "                         dbpedia_page  \\\n",
       "0  dbpedia.org/resource/Aaron_Rodgers   \n",
       "\n",
       "                                               image  \\\n",
       "0  http://commons.wikimedia.org/wiki/Special:File...   \n",
       "\n",
       "                                         description  \n",
       "0  Aaron Charles Rodgers (born December 2, 1983) ...  "
      ]
     },
     "execution_count": 119,
     "metadata": {},
     "output_type": "execute_result"
    }
   ],
   "source": [
    "df.head(1)"
   ]
  },
  {
   "cell_type": "code",
   "execution_count": 120,
   "metadata": {
    "collapsed": false
   },
   "outputs": [],
   "source": [
    "df.insert(9, 'year_of_birth2', df['birth_date'].dt.year)\n",
    "df.insert(10, 'birth_month', df['birth_date'].dt.month) #v useful for datetime objects"
   ]
  },
  {
   "cell_type": "code",
   "execution_count": 127,
   "metadata": {
    "collapsed": false
   },
   "outputs": [],
   "source": [
    "df.insert(9, 'gender_binary', [0 if x == 'Male' else 1 for x in df['gender']])"
   ]
  },
  {
   "cell_type": "code",
   "execution_count": null,
   "metadata": {
    "collapsed": false
   },
   "outputs": [],
   "source": []
  },
  {
   "cell_type": "code",
   "execution_count": 130,
   "metadata": {
    "collapsed": false
   },
   "outputs": [
    {
     "data": {
      "text/plain": [
       "<matplotlib.axes._subplots.AxesSubplot at 0x122fc6b10>"
      ]
     },
     "execution_count": 130,
     "metadata": {},
     "output_type": "execute_result"
    },
    {
     "data": {
      "image/png": "[encoded data removed]",
      "text/plain": [
       "<matplotlib.figure.Figure at 0x122f617d0>"
      ]
     },
     "metadata": {
      "image/png": {
       "height": 352,
       "width": 566
      }
     },
     "output_type": "display_data"
    }
   ],
   "source": [
    "df['sport'].value_counts().plot(kind='barh')"
   ]
  },
  {
   "cell_type": "code",
   "execution_count": 132,
   "metadata": {
    "collapsed": false
   },
   "outputs": [
    {
     "data": {
      "text/plain": [
       "<matplotlib.axes._subplots.AxesSubplot at 0x122f95390>"
      ]
     },
     "execution_count": 132,
     "metadata": {},
     "output_type": "execute_result"
    },
    {
     "data": {
      "image/png": "[encoded data removed]",
      "text/plain": [
       "<matplotlib.figure.Figure at 0x122dabad0>"
      ]
     },
     "metadata": {
      "image/png": {
       "height": 352,
       "width": 552
      }
     },
     "output_type": "display_data"
    }
   ],
   "source": [
    "df['gender'].value_counts().plot(kind='barh')"
   ]
  },
  {
   "cell_type": "code",
   "execution_count": null,
   "metadata": {
    "collapsed": true
   },
   "outputs": [],
   "source": [
    "#plot female not in united stats and not baseball"
   ]
  },
  {
   "cell_type": "code",
   "execution_count": 136,
   "metadata": {
    "collapsed": false
   },
   "outputs": [
    {
     "data": {
      "text/plain": [
       "<matplotlib.axes._subplots.AxesSubplot at 0x128641290>"
      ]
     },
     "execution_count": 136,
     "metadata": {},
     "output_type": "execute_result"
    },
    {
     "data": {
      "image/png": "[encoded data removed]",
      "text/plain": [
       "<matplotlib.figure.Figure at 0x1229e2d50>"
      ]
     },
     "metadata": {
      "image/png": {
       "height": 369,
       "width": 513
      }
     },
     "output_type": "display_data"
    }
   ],
   "source": [
    "df[(df['nation'] != 'United States') & (df['sport'] != 'Baseball') & (df['gender'] == 'Female')].plot(kind='bar')"
   ]
  },
  {
   "cell_type": "code",
   "execution_count": null,
   "metadata": {
    "collapsed": true
   },
   "outputs": [],
   "source": []
  }
 ],
 "metadata": {
  "anaconda-cloud": {},
  "kernelspec": {
   "display_name": "Python [conda env:dsi]",
   "language": "python",
   "name": "conda-env-dsi-py"
  },
  "language_info": {
   "codemirror_mode": {
    "name": "ipython",
    "version": 2
   },
   "file_extension": ".py",
   "mimetype": "text/x-python",
   "name": "python",
   "nbconvert_exporter": "python",
   "pygments_lexer": "ipython2",
   "version": "2.7.12"
  }
 },
 "nbformat": 4,
 "nbformat_minor": 0
}
