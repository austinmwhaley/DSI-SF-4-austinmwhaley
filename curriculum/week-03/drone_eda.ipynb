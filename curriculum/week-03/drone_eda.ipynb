{
 "cells": [
  {
   "cell_type": "code",
   "execution_count": 1,
   "metadata": {
    "collapsed": true
   },
   "outputs": [],
   "source": [
    "import numpy as np\n",
    "import scipy.stats as stats\n",
    "import csv\n",
    "import pandas as pd\n",
    "\n",
    "# this line tells jupyter notebook to put the plots in the notebook rather than saving them to file.\n",
    "%matplotlib inline\n",
    "\n",
    "# this line makes plots prettier on mac retina screens. If you don't have one it shouldn't do anything.\n",
    "%config InlineBackend.figure_format = 'retina'"
   ]
  },
  {
   "cell_type": "code",
   "execution_count": 2,
   "metadata": {
    "collapsed": true
   },
   "outputs": [],
   "source": [
    "df = pd.read_csv('/Users/austinwhaley/Desktop/DSI-SF-4-austinmwhaley/datasets/drone_strikes/drones.csv')"
   ]
  },
  {
   "cell_type": "code",
   "execution_count": 4,
   "metadata": {
    "collapsed": false,
    "scrolled": true
   },
   "outputs": [
    {
     "name": "stdout",
     "output_type": "stream",
     "text": [
      "<class 'pandas.core.frame.DataFrame'>\n",
      "RangeIndex: 381 entries, 0 to 380\n",
      "Data columns (total 27 columns):\n",
      "Strike ID                   381 non-null int64\n",
      "Bureau ID                   381 non-null object\n",
      "Date                        381 non-null object\n",
      "Time                        77 non-null object\n",
      "Location                    381 non-null object\n",
      "Area                        381 non-null object\n",
      "Target                      65 non-null object\n",
      "Target Group                124 non-null object\n",
      "Westerners involved         2 non-null object\n",
      "Minimum Total Killed        381 non-null int64\n",
      "Mean Total Killed           283 non-null float64\n",
      "Maximum Total Killed        381 non-null int64\n",
      "Number of deaths            373 non-null object\n",
      "AQ/TB Killed                41 non-null object\n",
      "Minimum civilians killed    173 non-null float64\n",
      "Maximum civilians killed    173 non-null float64\n",
      "Civilians Killed            267 non-null object\n",
      "Min injured                 305 non-null float64\n",
      "Max injured                 305 non-null float64\n",
      "Injured                     332 non-null object\n",
      "Minimum children killed     69 non-null float64\n",
      "Max children killed         68 non-null float64\n",
      "Children Killed             100 non-null object\n",
      "Pakistani approval          19 non-null object\n",
      "Short Summary               380 non-null object\n",
      "Related ID                  47 non-null object\n",
      "Notes                       3 non-null object\n",
      "dtypes: float64(7), int64(3), object(17)\n",
      "memory usage: 80.4+ KB\n"
     ]
    }
   ],
   "source": [
    "df.info()"
   ]
  },
  {
   "cell_type": "code",
   "execution_count": 12,
   "metadata": {
    "collapsed": false
   },
   "outputs": [],
   "source": [
    "mean_tar = df['Mean Total Killed'].mean()"
   ]
  },
  {
   "cell_type": "code",
   "execution_count": 13,
   "metadata": {
    "collapsed": false
   },
   "outputs": [],
   "source": [
    "mean_civ = (df['Minimum civilians killed'].mean() + df['Maximum civilians killed'].mean()) / 2"
   ]
  },
  {
   "cell_type": "code",
   "execution_count": 21,
   "metadata": {
    "collapsed": false
   },
   "outputs": [],
   "source": [
    "mean_error = (mean_civ/ mean_tar) * 100"
   ]
  },
  {
   "cell_type": "code",
   "execution_count": 24,
   "metadata": {
    "collapsed": false
   },
   "outputs": [
    {
     "data": {
      "text/plain": [
       "43.47"
      ]
     },
     "execution_count": 24,
     "metadata": {},
     "output_type": "execute_result"
    }
   ],
   "source": [
    "#43.5% of all people killed on overage are civilians\n",
    "round(mean_error, 2)"
   ]
  },
  {
   "cell_type": "code",
   "execution_count": null,
   "metadata": {
    "collapsed": true
   },
   "outputs": [],
   "source": []
  },
  {
   "cell_type": "code",
   "execution_count": 29,
   "metadata": {
    "collapsed": false
   },
   "outputs": [
    {
     "data": {
      "text/plain": [
       "North Waziristan                 269\n",
       "South Waziristan                  87\n",
       "Kurram Agency                      7\n",
       "Khyber Agency                      5\n",
       "Bajaur Agency                      4\n",
       "Bannu Frontier                     3\n",
       "Khyber Pakhtunkhwa province        1\n",
       "Orakzai Agency                     1\n",
       "Orakzai/North Waziristan           1\n",
       "South/North Waziristan border      1\n",
       "North/South Waziristan             1\n",
       "Unknown                            1\n",
       "Name: Area, dtype: int64"
      ]
     },
     "execution_count": 29,
     "metadata": {},
     "output_type": "execute_result"
    }
   ],
   "source": [
    "#381 non-null values\n",
    "df['Area'].value_counts()"
   ]
  },
  {
   "cell_type": "code",
   "execution_count": 49,
   "metadata": {
    "collapsed": false
   },
   "outputs": [],
   "source": [
    "plot = sns.distplot()"
   ]
  }
 ],
 "metadata": {
  "anaconda-cloud": {},
  "kernelspec": {
   "display_name": "Python [dsi]",
   "language": "python",
   "name": "Python [dsi]"
  },
  "language_info": {
   "codemirror_mode": {
    "name": "ipython",
    "version": 2
   },
   "file_extension": ".py",
   "mimetype": "text/x-python",
   "name": "python",
   "nbconvert_exporter": "python",
   "pygments_lexer": "ipython2",
   "version": "2.7.12"
  }
 },
 "nbformat": 4,
 "nbformat_minor": 0
}
