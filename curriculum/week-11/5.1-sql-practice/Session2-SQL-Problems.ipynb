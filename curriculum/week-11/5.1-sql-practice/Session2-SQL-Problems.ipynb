{
 "cells": [
  {
   "cell_type": "markdown",
   "metadata": {},
   "source": [
    "# <img style=\"float: left;\" src=\"https://ga-dash.s3.amazonaws.com/production/assets/logo-9f88ae6c9c3871690e33280fcf557f33.png\">  \n",
    "\n",
    "### Tracking Pipeline Table Schema\n",
    "\n",
    "\n",
    "##### Transactions Table\n",
    "| user_id| time_stamp             |  action_id  | session_id \n",
    "|------  | ----------             | ----------- | ---------- \n",
    "|   1    | 2016-01-24 10:23:54    |  1          | 1\n",
    "|   1    | 2016-01-24 10:23:60    |  2          | 1\n",
    "|   1    | 2016-01-24 10:24:60    |  3          | 1\n",
    "|   1    | 2016-01-24 10:25:60    |  4          | 1\n",
    "|   2    | 2016-01-24 10:25:60    |  1          | 2\n",
    "|   2    | 2016-01-24 10:26:60    |  2          | 2\n",
    "\n",
    "##### Action Types:\n",
    "\n",
    "| action_id| action_type         |  \n",
    "|----------| ----------          |\n",
    "|   1      | Viewed home page    |\n",
    "|   2      | Viewed cape page    |\n",
    "|   3      | Added cape to cart  |\n",
    "|   4      | Purchased item      |\n",
    "\n",
    "##### Users\n",
    "| user_id | first_name| last_nam   | gender | City         | \n",
    "|---------| ----------| ---------- | ------ | --------     |\n",
    "|   1     | Clark     | Kent       |    M   |  Smallville  |\n",
    "|   2     | Bruce     | Wayne      |    M   |  Gotham      |\n",
    "|   3     | Barry     | Allen      |    M   |  Central City|\n",
    "|   4     | Diane     | Prince     |    F   |  Themyscira  |\n",
    "\n",
    "\n",
    "\n",
    "\n"
   ]
  },
  {
   "cell_type": "markdown",
   "metadata": {},
   "source": [
    "#### 1) What is the maximum level in the funnel that was reached in each session?"
   ]
  },
  {
   "cell_type": "markdown",
   "metadata": {},
   "source": [
    "```sql\n",
    "SELECT session_id, MAX(action_id) AS MAX_DEPTH\n",
    "FROM transactions\n",
    "GROUP BY session_id\n",
    "```"
   ]
  },
  {
   "cell_type": "markdown",
   "metadata": {
    "collapsed": true
   },
   "source": [
    "#### 2) What city had the most purchases?"
   ]
  },
  {
   "cell_type": "markdown",
   "metadata": {},
   "source": [
    "```sql\n",
    "SELECT u.city, count(*)\n",
    "FROM transactions t\n",
    "INNER JOIN users u\n",
    "ON t.user_id = u.user_id\n",
    "WHERE action_id = 4\n",
    "GROUP BY u.city\n",
    "ORDER BY count(*) DESC\n",
    "LIMIT 1\n",
    "```"
   ]
  },
  {
   "cell_type": "markdown",
   "metadata": {},
   "source": [
    "#### 3) How many users made it to each level of the funnel? (Show the count of each level as a seperate column)"
   ]
  },
  {
   "cell_type": "markdown",
   "metadata": {},
   "source": [
    "```sql\n",
    "SELECT\n",
    "SUM(CASE WHEN action_id = 1 THEN 1 ELSE 0 END) AS ONE,\n",
    "SUM(CASE WHEN action_id = 2 THEN 1 ELSE 0 END) AS TWO,\n",
    "SUM(CASE WHEN action_id = 3 THEN 1 ELSE 0 END) AS THREE,\n",
    "SUM(CASE WHEN action_id = 4 THEN 1 ELSE 0 END) AS FOUR\n",
    "from transactions\n",
    "```"
   ]
  },
  {
   "cell_type": "markdown",
   "metadata": {},
   "source": [
    "#### 4) What percentage of sessions end at each level of the funnel?"
   ]
  },
  {
   "cell_type": "markdown",
   "metadata": {},
   "source": [
    "### Tracking Users and Churn\n",
    "\n",
    "\n",
    "##### Transactions Table\n",
    "| user_id| time_stamp             |  tweet_id   | \n",
    "|------  | ----------             | ----------- |  \n",
    "|   1    | 2016-01-24 10:23:54    |  1          | \n",
    "|   2    | 2016-01-24 10:23:60    |  2          | \n",
    "|   3    | 2016-01-24 10:24:60    |  3          | \n",
    "|   1    | 2016-02-24 10:25:60    |  4          | \n",
    "|   2    | 2016-02-24 10:25:60    |  5          | \n",
    "|   1    | 2016-03-24 10:26:60    |  6          | \n",
    "        \n",
    "##### Users\n",
    "|id     | full_name      | login_id   |\n",
    "|-------| ---------      | -------    |\n",
    "| 1     | Oscar Grouch   | OG         |\n",
    "| 2     | Cookie Monster | MyCookie   |\n",
    "| 3     | Burt Doe       | IHeartErnie|\n",
    "\n",
    "##### Tweets\n",
    "|id     | tweet                                  |\n",
    "|-------|------------------------------          |\n",
    "| 1     | I need a shower                        |\n",
    "| 2     | Is it Girl Scout cookie season?        |\n",
    "| 3     | Eernie, where are you?                 |\n",
    "| 4     | I can't fit my trash can in the shower.|\n",
    "| 5     | Does anyone have some milk?            |\n",
    "| 6     | So fresh and so clean clean            |\n",
    "\n",
    "##### 3) How many distinct users were there each month? Each month's count should be a seperate column. "
   ]
  },
  {
   "cell_type": "markdown",
   "metadata": {},
   "source": [
    "#### 1) What users have posted at least 2 tweets in between Jan 1 and Feb 28?"
   ]
  },
  {
   "cell_type": "markdown",
   "metadata": {},
   "source": [
    "```sql\n",
    "SELECT user_id \n",
    "FROM posts\n",
    "WHERE time_stamp between '1/1/2016' and '2/28/2016'\n",
    "GROUP BY user_id\n",
    "HAVING count(*) >= 2\n",
    "```"
   ]
  },
  {
   "cell_type": "markdown",
   "metadata": {},
   "source": [
    "#### 2) Which user posted the most questions? Include user_id and count. "
   ]
  },
  {
   "cell_type": "markdown",
   "metadata": {},
   "source": [
    "```sql\n",
    "SELECT p.user_id, count(*)\n",
    "from posts p\n",
    "JOIN tweets t\n",
    "ON p.tweet_id = t.id\n",
    "WHERE t.tweets like ('%?')\n",
    "GROUP BY p.user_id\n",
    "ORDER BY 2 DESC\n",
    "LIMIT 1\n",
    "```"
   ]
  },
  {
   "cell_type": "markdown",
   "metadata": {},
   "source": [
    "##### 3) How many distinct users were there each month? Each month's count should be a seperate column. "
   ]
  },
  {
   "cell_type": "markdown",
   "metadata": {},
   "source": [
    "```sql\n",
    "SELECT count(DISTINCT p.user_id) AS JAN_TWEETS\n",
    ", count(DISTINCT feb.user_id) AS FEB_TWEETS\n",
    ", count(DISTINCT mar.user_id) AS MAR_TWEETS\n",
    "\n",
    "FROM posts p\n",
    "FULL OUTER JOIN \n",
    "    (\n",
    "    SELECT f.user_id \n",
    "    FROM posts f\n",
    "    WHERE f.time_stamp between '2/1/2016' and '2/28/2016'\n",
    "    ) AS feb\n",
    "ON p.user_id = feb.user_id\n",
    "FULL OUTER JOIN\n",
    "    (\n",
    "    SELECT m.user_id \n",
    "    FROM posts m\n",
    "    WHERE m.time_stamp between '3/1/2016' and '3/31/2016'\n",
    "    ) AS mar\n",
    "ON p.user_id = mar.user_id\n",
    "WHERE p.time_stamp between '1/1/2016' and '1/31/2016'\n",
    "```"
   ]
  }
 ],
 "metadata": {
  "anaconda-cloud": {},
  "kernelspec": {
   "display_name": "Python [dsi]",
   "language": "python",
   "name": "Python [dsi]"
  },
  "language_info": {
   "codemirror_mode": {
    "name": "ipython",
    "version": 2
   },
   "file_extension": ".py",
   "mimetype": "text/x-python",
   "name": "python",
   "nbconvert_exporter": "python",
   "pygments_lexer": "ipython2",
   "version": "2.7.12"
  }
 },
 "nbformat": 4,
 "nbformat_minor": 0
}
