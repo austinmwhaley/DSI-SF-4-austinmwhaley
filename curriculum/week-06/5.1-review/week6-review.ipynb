{
 "cells": [
  {
   "cell_type": "code",
   "execution_count": 2,
   "metadata": {
    "collapsed": true
   },
   "outputs": [],
   "source": [
    "import numpy as np\n",
    "import scipy \n",
    "import seaborn as sns\n",
    "import pandas as pd\n",
    "\n",
    "import patsy\n",
    "\n",
    "import matplotlib\n",
    "import matplotlib.pyplot as plt\n",
    "\n",
    "%config InlineBackend.figure_format = 'retina'\n",
    "%matplotlib inline\n",
    "\n",
    "plt.style.use('fivethirtyeight')"
   ]
  },
  {
   "cell_type": "code",
   "execution_count": 6,
   "metadata": {
    "collapsed": false
   },
   "outputs": [],
   "source": [
    "profile = pd.read_csv('/Users/austinwhaley/Desktop/DSI-SF-4-austinmwhaley/datasets/okc_profiles/OKC_profile_data/okc_no_essays.csv')\n",
    "words = pd.read_csv('/Users/austinwhaley/Desktop/DSI-SF-4-austinmwhaley/datasets/okc_profiles/OKC_profile_data/okc_essay_top1000_wordcount.csv')"
   ]
  },
  {
   "cell_type": "code",
   "execution_count": null,
   "metadata": {
    "collapsed": true
   },
   "outputs": [],
   "source": [
    "# 1. Find all the distinct ethnicity responses"
   ]
  },
  {
   "cell_type": "code",
   "execution_count": 9,
   "metadata": {
    "collapsed": false,
    "scrolled": true
   },
   "outputs": [
    {
     "data": {
      "text/plain": [
       "white                                                                                                      32831\n",
       "asian                                                                                                       6134\n",
       "hispanic / latin                                                                                            2823\n",
       "black                                                                                                       2008\n",
       "other                                                                                                       1706\n",
       "hispanic / latin, white                                                                                     1301\n",
       "indian                                                                                                      1077\n",
       "asian, white                                                                                                 811\n",
       "white, other                                                                                                 641\n",
       "pacific islander                                                                                             432\n",
       "asian, pacific islander                                                                                      395\n",
       "native american, white                                                                                       338\n",
       "middle eastern                                                                                               329\n",
       "middle eastern, white                                                                                        300\n",
       "black, white                                                                                                 298\n",
       "pacific islander, white                                                                                      156\n",
       "hispanic / latin, other                                                                                      138\n",
       "black, other                                                                                                 133\n",
       "black, hispanic / latin                                                                                      119\n",
       "hispanic / latin, white, other                                                                               117\n",
       "black, native american, white                                                                                110\n",
       "black, native american                                                                                       100\n",
       "asian, other                                                                                                  95\n",
       "asian, hispanic / latin                                                                                       88\n",
       "native american, hispanic / latin, white                                                                      87\n",
       "native american, hispanic / latin                                                                             73\n",
       "asian, white, other                                                                                           69\n",
       "native american                                                                                               67\n",
       "asian, middle eastern, black, native american, indian, pacific islander, hispanic / latin, white, other       66\n",
       "asian, black                                                                                                  59\n",
       "                                                                                                           ...  \n",
       "black, native american, pacific islander, other                                                                1\n",
       "middle eastern, black, native american, hispanic / latin, white                                                1\n",
       "asian, black, native american, indian, pacific islander, hispanic / latin                                      1\n",
       "asian, middle eastern, native american, pacific islander, white, other                                         1\n",
       "asian, middle eastern, indian, hispanic / latin                                                                1\n",
       "middle eastern, indian, white                                                                                  1\n",
       "black, native american, indian, pacific islander, hispanic / latin                                             1\n",
       "asian, native american, pacific islander, hispanic / latin, white, other                                       1\n",
       "asian, native american, indian, pacific islander, hispanic / latin, white                                      1\n",
       "asian, middle eastern, other                                                                                   1\n",
       "middle eastern, black, native american, white, other                                                           1\n",
       "asian, indian, pacific islander, hispanic / latin, white, other                                                1\n",
       "asian, middle eastern, hispanic / latin                                                                        1\n",
       "asian, middle eastern, indian, hispanic / latin, white, other                                                  1\n",
       "middle eastern, black, native american, indian, pacific islander, hispanic / latin, white, other               1\n",
       "asian, middle eastern, native american, pacific islander, other                                                1\n",
       "asian, middle eastern, native american, pacific islander, hispanic / latin, white, other                       1\n",
       "middle eastern, pacific islander                                                                               1\n",
       "asian, black, pacific islander, white, other                                                                   1\n",
       "native american, indian, white                                                                                 1\n",
       "asian, middle eastern, black, pacific islander, hispanic / latin                                               1\n",
       "middle eastern, black, pacific islander, white                                                                 1\n",
       "black, native american, indian, white                                                                          1\n",
       "asian, middle eastern, black, white, other                                                                     1\n",
       "asian, black, native american, indian, pacific islander, white                                                 1\n",
       "middle eastern, black, hispanic / latin                                                                        1\n",
       "middle eastern, black, native american, indian, hispanic / latin, white                                        1\n",
       "middle eastern, native american, white, other                                                                  1\n",
       "asian, black, pacific islander, other                                                                          1\n",
       "asian, black, native american, indian, hispanic / latin, white, other                                          1\n",
       "Name: ethnicity, dtype: int64"
      ]
     },
     "execution_count": 9,
     "metadata": {},
     "output_type": "execute_result"
    }
   ],
   "source": [
    "profile['ethnicity'].value_counts()"
   ]
  },
  {
   "cell_type": "code",
   "execution_count": 10,
   "metadata": {
    "collapsed": false
   },
   "outputs": [],
   "source": [
    "ethnicity_list = []\n",
    "for i in profile['ethnicity']:\n",
    "    try:\n",
    "        ethnicity_list.extend(i.split(', '))\n",
    "    except:\n",
    "        pass\n",
    "\n",
    "ethnicity_list = np.unique(ethnicity_list)"
   ]
  },
  {
   "cell_type": "code",
   "execution_count": 11,
   "metadata": {
    "collapsed": false
   },
   "outputs": [
    {
     "data": {
      "text/plain": [
       "array(['asian', 'black', 'hispanic / latin', 'indian', 'middle eastern',\n",
       "       'native american', 'other', 'pacific islander', 'white'], \n",
       "      dtype='|S16')"
      ]
     },
     "execution_count": 11,
     "metadata": {},
     "output_type": "execute_result"
    }
   ],
   "source": [
    "ethnicity_list"
   ]
  },
  {
   "cell_type": "code",
   "execution_count": 8,
   "metadata": {
    "collapsed": true
   },
   "outputs": [],
   "source": [
    "# 2. Create new columns of each ethnicity, where you have a 1 if you marked it and 0 if not"
   ]
  },
  {
   "cell_type": "code",
   "execution_count": 12,
   "metadata": {
    "collapsed": true
   },
   "outputs": [],
   "source": [
    "def parse_ethnicity(series_value, column_name=None):\n",
    "    try:\n",
    "        if column_name in series_value:\n",
    "            return 1\n",
    "        else:\n",
    "            return 0\n",
    "    except:\n",
    "        return 0"
   ]
  },
  {
   "cell_type": "code",
   "execution_count": 13,
   "metadata": {
    "collapsed": true
   },
   "outputs": [],
   "source": [
    "for x in ethnicity_list:\n",
    "    profile[x] = profile['ethnicity'].apply(parse_ethnicity, column_name=x)"
   ]
  },
  {
   "cell_type": "code",
   "execution_count": null,
   "metadata": {
    "collapsed": true
   },
   "outputs": [],
   "source": [
    "#Predict age from height, income, reading ease, writing grade level, essay lenghts, and ethnicity"
   ]
  },
  {
   "cell_type": "code",
   "execution_count": null,
   "metadata": {
    "collapsed": true
   },
   "outputs": [],
   "source": []
  }
 ],
 "metadata": {
  "anaconda-cloud": {},
  "kernelspec": {
   "display_name": "Python [dsi]",
   "language": "python",
   "name": "Python [dsi]"
  },
  "language_info": {
   "codemirror_mode": {
    "name": "ipython",
    "version": 2
   },
   "file_extension": ".py",
   "mimetype": "text/x-python",
   "name": "python",
   "nbconvert_exporter": "python",
   "pygments_lexer": "ipython2",
   "version": "2.7.12"
  }
 },
 "nbformat": 4,
 "nbformat_minor": 0
}
