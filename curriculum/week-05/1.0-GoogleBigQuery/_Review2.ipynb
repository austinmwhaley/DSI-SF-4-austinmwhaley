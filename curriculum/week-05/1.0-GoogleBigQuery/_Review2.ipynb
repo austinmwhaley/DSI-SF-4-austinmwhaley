{
 "cells": [
  {
   "cell_type": "code",
   "execution_count": null,
   "metadata": {
    "collapsed": true
   },
   "outputs": [],
   "source": [
    "# 1. Find duplicates in a string with a function:\n",
    "# ----------------------------------------------------\n",
    "# dups(\"programming\")\n",
    "# g : 2\n",
    "# r : 2\n",
    "# m : 2"
   ]
  },
  {
   "cell_type": "code",
   "execution_count": 47,
   "metadata": {
    "collapsed": false
   },
   "outputs": [],
   "source": [
    "def dups(s):\n",
    "    s_list = list(s) #change input string to a list\n",
    "    s_dict = {} #create an empty dictionary\n",
    "    for s in s_list: #start iteration of list\n",
    "        count = s_list.count(s) #returns count of letter in input_string\n",
    "        s_dict[s] = count\n",
    "    for k, v in s_dict.items():\n",
    "        print k, v\n",
    "        if v <= 1:\n",
    "            del s_dict[k]\n",
    "    return s_dict\n",
    "        "
   ]
  },
  {
   "cell_type": "code",
   "execution_count": 48,
   "metadata": {
    "collapsed": false
   },
   "outputs": [
    {
     "name": "stdout",
     "output_type": "stream",
     "text": [
      "a 1\n",
      "g 2\n",
      "i 1\n",
      "m 2\n",
      "o 1\n",
      "n 1\n",
      "p 1\n",
      "r 2\n",
      "{'g': 2, 'm': 2, 'r': 2}\n"
     ]
    }
   ],
   "source": [
    "print dups('programming')"
   ]
  },
  {
   "cell_type": "code",
   "execution_count": null,
   "metadata": {
    "collapsed": true
   },
   "outputs": [],
   "source": [
    "# 2. count vowels and consonants in a string:\n",
    "# ----------------------------------------------------\n",
    "# countTypes('java')\n",
    "# this has 2 vowels and 2 consonants"
   ]
  },
  {
   "cell_type": "code",
   "execution_count": 60,
   "metadata": {
    "collapsed": false
   },
   "outputs": [],
   "source": [
    "def countTypes(s):\n",
    "    length = len(s)\n",
    "    s_list = list(s)\n",
    "    vowel, con = 0, 0\n",
    "    for s in s_list:\n",
    "        if s in 'aeiou':\n",
    "            vowel += 1\n",
    "        else:\n",
    "            con += 1\n",
    "    return 'this has', vowel, 'vowels and', con, 'consanants'\n",
    "    \n",
    "    "
   ]
  },
  {
   "cell_type": "code",
   "execution_count": 61,
   "metadata": {
    "collapsed": false
   },
   "outputs": [
    {
     "name": "stdout",
     "output_type": "stream",
     "text": [
      "('this has', 2, 'vowels and', 2, 'consanants')\n"
     ]
    }
   ],
   "source": [
    "print countTypes('java')"
   ]
  },
  {
   "cell_type": "code",
   "execution_count": null,
   "metadata": {
    "collapsed": true
   },
   "outputs": [],
   "source": [
    "# 3. count number of occurances in a string\n",
    "# ----------------------------------------------------\n",
    "# occurances('java'), also return and note the maximum\n",
    "# a : 2\n",
    "# v : 1\n",
    "# j : 1\n",
    "# the maximum is a @ 2 chars"
   ]
  },
  {
   "cell_type": "code",
   "execution_count": 68,
   "metadata": {
    "collapsed": true
   },
   "outputs": [],
   "source": [
    "def occurances(s):\n",
    "    s_list = list(s.lower())\n",
    "    s_dict = {}\n",
    "    for s in s_list:\n",
    "        s_dict[s] = s_list.count(s)\n",
    "    x = max(s_dict)   \n",
    "    print x, '= MAX'\n",
    "    return s_dict"
   ]
  },
  {
   "cell_type": "code",
   "execution_count": 69,
   "metadata": {
    "collapsed": false
   },
   "outputs": [
    {
     "name": "stdout",
     "output_type": "stream",
     "text": [
      "r = MAX\n",
      "{'a': 1, 'g': 2, 'i': 1, 'm': 2, 'o': 1, 'n': 1, 'p': 1, 'r': 2}\n"
     ]
    }
   ],
   "source": [
    "print occurances('programming')"
   ]
  },
  {
   "cell_type": "code",
   "execution_count": null,
   "metadata": {
    "collapsed": true
   },
   "outputs": [],
   "source": [
    "# 6. Check to see if a word is a palidrome\n",
    "# ----------------------------------------------------\n",
    "# phrases = ['radar','madam','java']\n",
    "# ---- > True, True, False"
   ]
  },
  {
   "cell_type": "code",
   "execution_count": 90,
   "metadata": {
    "collapsed": true
   },
   "outputs": [],
   "source": [
    "def pal(lst):\n",
    "    results = []\n",
    "    results.append([True if word == word[::-1] else False for word in lst])\n",
    "    \n",
    "#     results = []\n",
    "#     for word in lst:\n",
    "#         if word == word[::-1]:\n",
    "#             results.append(True)\n",
    "#         else:\n",
    "#             results.append(False)\n",
    "    return results\n",
    "        "
   ]
  },
  {
   "cell_type": "code",
   "execution_count": 91,
   "metadata": {
    "collapsed": false
   },
   "outputs": [
    {
     "name": "stdout",
     "output_type": "stream",
     "text": [
      "[[True, True, False]]\n"
     ]
    }
   ],
   "source": [
    "print pal(['radar','madam','java'])"
   ]
  },
  {
   "cell_type": "code",
   "execution_count": 138,
   "metadata": {
    "collapsed": false
   },
   "outputs": [],
   "source": [
    "def dirReduc(arr):\n",
    "    \n",
    "    re = []\n",
    "    re_ = []\n",
    "    \n",
    "    n = arr.count('NORTH')\n",
    "    s = arr.count('SOUTH')\n",
    "    north_south = [n, s]\n",
    "    \n",
    "    e = arr.count('EAST')\n",
    "    w = arr.count('WEST')\n",
    "    east_west = [e, w]\n",
    "    \n",
    "    first = n - s\n",
    "    second = e - w\n",
    "    \n",
    "    #print first, second\n",
    "    \n",
    "    if first > 0:\n",
    "        #print 'NORTH'\n",
    "        re.append(['NORTH'] * first)\n",
    "    elif first < 0:\n",
    "        #print 'SOUTH'\n",
    "        re.append(['SOUTH'] * (-1 * first))\n",
    "    else:\n",
    "        pass\n",
    "        #print 'first = NONE'\n",
    "    \n",
    "    if second > 0:\n",
    "        #print 'EAST'\n",
    "        re.append(['EAST'] * second)\n",
    "    elif second < 0:\n",
    "        #print 'WEST'\n",
    "        re.append(['WEST'] * (-1 * second))\n",
    "    else:\n",
    "        #print 'second = NONE'\n",
    "        pass\n",
    "    \n",
    "    \n",
    "    try:\n",
    "        for i in range(len(re[0])):\n",
    "            print i\n",
    "            print re_.append(re[0][i])\n",
    "    except:\n",
    "        pass\n",
    "        \n",
    "    return re_"
   ]
  },
  {
   "cell_type": "code",
   "execution_count": 139,
   "metadata": {
    "collapsed": false
   },
   "outputs": [
    {
     "name": "stdout",
     "output_type": "stream",
     "text": [
      "0\n",
      "None\n",
      "['WEST']\n"
     ]
    }
   ],
   "source": [
    "b = [\"NORTH\", \"SOUTH\", \"SOUTH\", \"EAST\", \"WEST\", \"NORTH\", \"WEST\"]\n",
    "print dirReduc(b) #=> WEST\n",
    "#u=[\"NORTH\", \"NORTH\", \"SOUTH\", \"NORTH\"]\n",
    "#print dirReduc(u)"
   ]
  },
  {
   "cell_type": "code",
   "execution_count": 154,
   "metadata": {
    "collapsed": true
   },
   "outputs": [],
   "source": [
    "def unique_in_order(iterable):\n",
    "    re = []\n",
    "    try:\n",
    "        for i in range(len(iterable)):\n",
    "            #print iterable[i], iterable[i + 1]\n",
    "            if iterable[i] == iterable[i + 1]:\n",
    "                pass\n",
    "            else:\n",
    "                #print 'appended'\n",
    "                re.append(iterable[i])\n",
    "    except:\n",
    "        re.append(iterable[i])\n",
    "    \n",
    "    return re"
   ]
  },
  {
   "cell_type": "code",
   "execution_count": 155,
   "metadata": {
    "collapsed": false
   },
   "outputs": [
    {
     "name": "stdout",
     "output_type": "stream",
     "text": [
      "['A', 'B', 'C', 'D', 'A', 'B']\n"
     ]
    }
   ],
   "source": [
    "print unique_in_order('AAAABBBCCDAABBB')"
   ]
  },
  {
   "cell_type": "code",
   "execution_count": null,
   "metadata": {
    "collapsed": true
   },
   "outputs": [],
   "source": []
  }
 ],
 "metadata": {
  "anaconda-cloud": {},
  "kernelspec": {
   "display_name": "Python [dsi]",
   "language": "python",
   "name": "Python [dsi]"
  },
  "language_info": {
   "codemirror_mode": {
    "name": "ipython",
    "version": 2
   },
   "file_extension": ".py",
   "mimetype": "text/x-python",
   "name": "python",
   "nbconvert_exporter": "python",
   "pygments_lexer": "ipython2",
   "version": "2.7.12"
  }
 },
 "nbformat": 4,
 "nbformat_minor": 0
}
