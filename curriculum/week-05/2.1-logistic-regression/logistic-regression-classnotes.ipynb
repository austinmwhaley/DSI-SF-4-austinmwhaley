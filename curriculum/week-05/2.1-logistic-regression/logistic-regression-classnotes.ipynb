{
 "cells": [
  {
   "cell_type": "markdown",
   "metadata": {},
   "source": [
    "<img src=\"https://ga-dash.s3.amazonaws.com/production/assets/logo-9f88ae6c9c3871690e33280fcf557f33.png\" style=\"float: left; margin: 15px\">\n",
    "\n",
    "# Logistic regression\n",
    "\n",
    "Week 5 | 2.1\n",
    "\n",
    "---\n",
    "\n",
    "Logistic regression is arguably the most famous and well used classifier. It _is_ a regression, but don't let that confuse you: it estimates probabilities of class membership.\n",
    "\n",
    "It is widely used in cases where the probability of an outcome (classification) is required. In this lecture we will only be reviewing the binary outcome case with two classes, but logistic regression can be generalized to multiple classes.\n",
    "\n",
    "Some examples of when logistic regression could be used:\n",
    "\n",
    "- Predict whether or not a user will purchase a product given their demographic characteristics.\n",
    "- Predict the likelihood of a student being admitted to a college, given their scores and the characteristics of the college.\n",
    "- Diagnose a patient with a disease or not, given symptoms.\n",
    "- Predict whether a person will default on a loan and with what likelihood.\n",
    "\n",
    "And many more. "
   ]
  },
  {
   "cell_type": "code",
   "execution_count": null,
   "metadata": {
    "collapsed": true
   },
   "outputs": [],
   "source": [
    "'''\n",
    "Logistic Regression: Notes\n",
    "If you tried to fit a line to a discrete output model, you are not able too\n",
    "\n",
    "'''"
   ]
  },
  {
   "cell_type": "code",
   "execution_count": 1,
   "metadata": {
    "collapsed": true
   },
   "outputs": [],
   "source": [
    "import matplotlib.pyplot as plt\n",
    "import numpy as np\n",
    "import pandas as pd\n",
    "\n",
    "import seaborn as sns\n",
    "\n",
    "plt.style.use('fivethirtyeight')\n",
    "\n",
    "%matplotlib inline\n",
    "%config InlineBackend.figure_format = 'retina'\n",
    "\n",
    "from sklearn.linear_model import LogisticRegression, LinearRegression\n",
    "import statsmodels.api as sm"
   ]
  },
  {
   "cell_type": "code",
   "execution_count": 2,
   "metadata": {
    "collapsed": true
   },
   "outputs": [],
   "source": [
    "colors = {'blue': '#729ECE',\n",
    "          'brown': '#A8786E',\n",
    "          'green': '#67BF5C',\n",
    "          'grey': '#A2A2A2',\n",
    "          'orange': '#FF9E4A',\n",
    "          'pink': '#ED97CA',\n",
    "          'purple': '#AD8BC9',\n",
    "          'red': '#ED665D',\n",
    "          'teal': '#6DCCDA',\n",
    "          'yellow': '#CDCC5D'}"
   ]
  },
  {
   "cell_type": "code",
   "execution_count": 7,
   "metadata": {
    "collapsed": true
   },
   "outputs": [],
   "source": [
    "admissions = pd.read_csv('/Users/austinwhaley/Desktop/DSI-SF-4-austinmwhaley/datasets/admissions/admissions.csv')"
   ]
  },
  {
   "cell_type": "code",
   "execution_count": 8,
   "metadata": {
    "collapsed": false,
    "scrolled": false
   },
   "outputs": [
    {
     "data": {
      "text/html": [
       "<div>\n",
       "<table border=\"1\" class=\"dataframe\">\n",
       "  <thead>\n",
       "    <tr style=\"text-align: right;\">\n",
       "      <th></th>\n",
       "      <th>admit</th>\n",
       "      <th>gre</th>\n",
       "      <th>gpa</th>\n",
       "      <th>prestige</th>\n",
       "    </tr>\n",
       "  </thead>\n",
       "  <tbody>\n",
       "    <tr>\n",
       "      <th>0</th>\n",
       "      <td>0</td>\n",
       "      <td>380.0</td>\n",
       "      <td>3.61</td>\n",
       "      <td>3.0</td>\n",
       "    </tr>\n",
       "    <tr>\n",
       "      <th>1</th>\n",
       "      <td>1</td>\n",
       "      <td>660.0</td>\n",
       "      <td>3.67</td>\n",
       "      <td>3.0</td>\n",
       "    </tr>\n",
       "    <tr>\n",
       "      <th>2</th>\n",
       "      <td>1</td>\n",
       "      <td>800.0</td>\n",
       "      <td>4.00</td>\n",
       "      <td>1.0</td>\n",
       "    </tr>\n",
       "    <tr>\n",
       "      <th>3</th>\n",
       "      <td>1</td>\n",
       "      <td>640.0</td>\n",
       "      <td>3.19</td>\n",
       "      <td>4.0</td>\n",
       "    </tr>\n",
       "    <tr>\n",
       "      <th>4</th>\n",
       "      <td>0</td>\n",
       "      <td>520.0</td>\n",
       "      <td>2.93</td>\n",
       "      <td>4.0</td>\n",
       "    </tr>\n",
       "  </tbody>\n",
       "</table>\n",
       "</div>"
      ],
      "text/plain": [
       "   admit    gre   gpa  prestige\n",
       "0      0  380.0  3.61       3.0\n",
       "1      1  660.0  3.67       3.0\n",
       "2      1  800.0  4.00       1.0\n",
       "3      1  640.0  3.19       4.0\n",
       "4      0  520.0  2.93       4.0"
      ]
     },
     "execution_count": 8,
     "metadata": {},
     "output_type": "execute_result"
    }
   ],
   "source": [
    "admissions.head()"
   ]
  },
  {
   "cell_type": "code",
   "execution_count": 19,
   "metadata": {
    "collapsed": true
   },
   "outputs": [],
   "source": [
    "admit = admissions.dropna()\n",
    "\n",
    "X = admit.drop('admit', 1)\n",
    "y = admit['admit']"
   ]
  },
  {
   "cell_type": "markdown",
   "metadata": {},
   "source": [
    "---\n",
    "\n",
    "### 1. A (brief) review of regression models\n",
    "\n",
    "To understand how logistic regression works, we need to understand least squares regression. \n",
    "\n",
    "As you are all familiar with, a regression with variable(s) matrix $X$ predicting target $y$ is formulated as:\n",
    "\n",
    "### $$E[y|X] = \\beta_0 + \\sum_{j}^p\\beta_jx_j$$\n",
    "\n",
    "Where:\n",
    "- $E(y|X)$ is the expected value (mean) of y given variable matrix $X$\n",
    "- $\\sum_{j}^p$ are the predictors $j$ thru $p$ (columns) of the $X$ matrix\n",
    "- $beta_0$ is the intercept\n",
    "- $beta_j$ is the coefficient for the predictor $x_j$, the $j$th column in variable matrix $X$"
   ]
  },
  {
   "cell_type": "markdown",
   "metadata": {},
   "source": [
    "---\n",
    "\n",
    "### 2. What if we predicted `admit` with `gpa` using regression?"
   ]
  },
  {
   "cell_type": "code",
   "execution_count": 24,
   "metadata": {
    "collapsed": false
   },
   "outputs": [
    {
     "name": "stdout",
     "output_type": "stream",
     "text": [
      "[ 0.21342491]\n",
      "-0.406608559967\n"
     ]
    }
   ],
   "source": [
    "from sklearn.linear_model import LinearRegression\n",
    "X2 = admit[['gpa']].values \n",
    "\n",
    "LR = LinearRegression(normalize=True)\n",
    "LR.fit(X2, y)\n",
    "\n",
    "print LR.coef_\n",
    "print LR.intercept_"
   ]
  },
  {
   "cell_type": "code",
   "execution_count": 38,
   "metadata": {
    "collapsed": false
   },
   "outputs": [
    {
     "data": {
      "image/png": "[encoded data removed]",
      "text/plain": [
       "<matplotlib.figure.Figure at 0x11b099450>"
      ]
     },
     "metadata": {
      "image/png": {
       "height": 514,
       "width": 930
      }
     },
     "output_type": "display_data"
    }
   ],
   "source": [
    "fig, ax = plt.subplots(1,1,figsize=(10,6))\n",
    "ax.scatter(X2, y, c='darkgoldenrod', s=30, alpha=0.7)\n",
    "\n",
    "x_vals = np.linspace(1., 5.0, 200) #Going from 1 to 5 and 200 points in that range\n",
    "y_vals = LR.predict(x_vals[:, np.newaxis])\n",
    "\n",
    "ax.plot(x_vals, y_vals, lw=3, color='red')\n",
    "\n",
    "plt.show()"
   ]
  },
  {
   "cell_type": "code",
   "execution_count": null,
   "metadata": {
    "collapsed": true
   },
   "outputs": [],
   "source": [
    "'''\n",
    "This LinearRegression() model above is not a correct model for our data as we are trying to predict a discrete output\n",
    "while our LinearRegression() model is trying to predict a continuous output and this is going to cause issues as we\n",
    "could get probabilities below 0 as well as above 1. A different model is needed in order to successfully model this \n",
    "data and make predictions\n",
    "\n",
    "Instead: we want predicted probability of each outcome/ prediction. \n",
    "'''"
   ]
  },
  {
   "cell_type": "markdown",
   "metadata": {},
   "source": [
    "---\n",
    "\n",
    "### 3. What do those coefficients mean?  Plot admit ~ gpa\n",
    "\n",
    "What is the apparent problem with regression?"
   ]
  },
  {
   "cell_type": "code",
   "execution_count": null,
   "metadata": {
    "collapsed": true
   },
   "outputs": [],
   "source": []
  },
  {
   "cell_type": "markdown",
   "metadata": {},
   "source": [
    "---\n",
    "\n",
    "### 5. Binary classes case\n",
    "\n",
    "Logistic regression can solve multi-class problems – we will look at this another day – but the basic classification problem is binary. \n",
    "\n",
    "In our case, `1=admitted` and `0=rejected`.\n",
    "\n",
    "The logistic regression is still solving for an expected value. In the binary classification case this expected value is the probability of one class:\n",
    "\n",
    "### $$E[y \\in {0,1}] = P(y = 1)$$\n",
    "\n",
    "In regression syntax we would have:\n",
    "\n",
    "### $$P(y = 1) = \\beta_0 + \\sum_{j}^p\\beta_jx_j$$"
   ]
  },
  {
   "cell_type": "markdown",
   "metadata": {},
   "source": [
    "---\n",
    "\n",
    "### 6. The dilemma: probability estimation using regression\n",
    "\n",
    "### $$P(y = 1) = \\beta_0 + \\sum_{j}^p\\beta_jx_j$$\n",
    "\n",
    "There is an important problem with this new equation: we want to estimate a probability instead of a real number.\n",
    "\n",
    "Why is this a problem?\n"
   ]
  },
  {
   "cell_type": "markdown",
   "metadata": {},
   "source": [
    "#### We need $y$ to fall in the range `[-infinity, infinity]` for the regression to be valid!"
   ]
  },
  {
   "cell_type": "markdown",
   "metadata": {},
   "source": [
    "---\n",
    "\n",
    "### 4. The logit \"link function\"\n",
    "\n",
    "As the name implies, logistic regression is still a regression. It can still be solved by minimization of the sum of squared errors, and there is still an intercept and coefficients.\n",
    "\n",
    "Logistic regression is a twist on regression for categorical/class target variables. Instead of solving for the _mean_ of $y$, logistic regression solves for the _probability of class membership_ of $y$.\n",
    "\n",
    "How does it do this? Regressions can be generalized to $y$ targets that do not fall between `[-infinity, infinity]` through the use of **link functions**.\n",
    "\n",
    "A link function is simply a function of the expected value of the target variable:\n",
    "\n",
    "### $$logit(\\;E[\\;y \\;| \\;X\\;]\\;) = \\beta_0 + \\sum_{j}^p\\beta_jx_j$$"
   ]
  },
  {
   "cell_type": "markdown",
   "metadata": {},
   "source": [
    "1. Probabilities are guaranteed to be between 0 and 1.\n",
    "2. The regression formula makes no guarantee that the sum of predictors multiplied by coefficients will sum to a value between 0 and 1."
   ]
  },
  {
   "cell_type": "markdown",
   "metadata": {},
   "source": [
    "---\n",
    "\n",
    "### 7. Step 1: Odds ratios\n",
    "\n",
    "We have to modify the regression for it to work for predicting probabilities. The initial step in the solution depends on the use of **odds ratios**. Before we get into _why_, it's important to understand what an odds ratio is.\n",
    "\n",
    "Probabilities and odds ratios represent the same thing in different ways. Probabilities can be alternatively expressed as odds ratios. The odds ratio for probability **p** is defined:\n",
    "\n",
    "### $$\\text{odds ratio}(p) = \\frac{p}{1-p}$$\n",
    "\n",
    "The odds ratio of a probability is a measure of how many times more likely it is than the inverse case.\n",
    "\n",
    "For example:\n",
    "\n",
    "- When **`p = 0.5`**: **`odds ratio = 1`**\n",
    "    - it is equally likely to happen as it is to not happen.\n",
    "- When **`p = 0.75`**: **`odds ratio = 3`**\n",
    "    - it is 3 times more likely to happen than not happen.\n",
    "- When **`p = 0.40`**: **`odds ratio = 0.666..`**\n",
    "    - it is 2/3rds as likely to happen than not happen."
   ]
  },
  {
   "cell_type": "code",
   "execution_count": null,
   "metadata": {
    "collapsed": true
   },
   "outputs": [],
   "source": [
    "#Think of this like transforming probabilities into horse-race betting lingo"
   ]
  },
  {
   "cell_type": "markdown",
   "metadata": {},
   "source": [
    "#### What are the probabilities of admittance by prestige?"
   ]
  },
  {
   "cell_type": "code",
   "execution_count": 37,
   "metadata": {
    "collapsed": false
   },
   "outputs": [
    {
     "data": {
      "text/plain": [
       "3.0"
      ]
     },
     "execution_count": 37,
     "metadata": {},
     "output_type": "execute_result"
    }
   ],
   "source": [
    "def p_to_odds(p):\n",
    "    return p / (1. - p)\n",
    "\n",
    "p_to_odds(.75)"
   ]
  },
  {
   "cell_type": "markdown",
   "metadata": {},
   "source": [
    "#### Write a function to calculate odds ratios and calculate the odds ratios of admittance by prestige."
   ]
  },
  {
   "cell_type": "code",
   "execution_count": 40,
   "metadata": {
    "collapsed": false
   },
   "outputs": [
    {
     "data": {
      "text/plain": [
       "2.0    148\n",
       "3.0    121\n",
       "4.0     67\n",
       "1.0     61\n",
       "Name: prestige, dtype: int64"
      ]
     },
     "execution_count": 40,
     "metadata": {},
     "output_type": "execute_result"
    }
   ],
   "source": [
    "admit['prestige'].value_counts().sort_values(ascending=False)"
   ]
  },
  {
   "cell_type": "markdown",
   "metadata": {},
   "source": [
    "---\n",
    "\n",
    "### 8: Odds ratio in place of probability\n",
    "\n",
    "What happens if we put the odds ratio in place of the probability in the regression equation?\n",
    "\n",
    "Put the odds ratio in place of the probability on the left side of the regression equation.\n",
    "\n",
    "### $$ \\frac{P(y = 1)}{1-P(y = 1)} = \\beta_0 + \\sum_{j}^p\\beta_jx_j$$\n",
    "\n",
    "The range of odds ratio, our predicted value, is now restricted to be in the range **`[0, infinity]`**\n"
   ]
  },
  {
   "cell_type": "markdown",
   "metadata": {},
   "source": [
    "#### What happens if we just the odds ratio as the link function?"
   ]
  },
  {
   "cell_type": "code",
   "execution_count": null,
   "metadata": {
    "collapsed": true
   },
   "outputs": [],
   "source": []
  },
  {
   "cell_type": "markdown",
   "metadata": {},
   "source": [
    "---\n",
    "\n",
    "### 9. Step 2: Log odds (natural logarithm of the odds ratio)\n",
    "\n",
    "If we take the natural logarithm of a variable that falls between 0 and infinity, we can actually transform it into a variable that falls between the range negative infinity and infinity.\n",
    "\n",
    "This is because taking the logarithm of fractions results in negative numbers.\n",
    "\n",
    "The regression can now predict any negative or positive number, and we can convert it back into the odds ratio."
   ]
  },
  {
   "cell_type": "code",
   "execution_count": null,
   "metadata": {
    "collapsed": true
   },
   "outputs": [],
   "source": []
  },
  {
   "cell_type": "markdown",
   "metadata": {},
   "source": [
    "---\n",
    "\n",
    "## 10. The logit link function\n",
    "\n",
    "The combination of converting the probability to an odds ratio and taking the logarithm of that is called the **logit link function**, and is what regression uses to estimate probability:\n",
    "\n",
    "\n",
    "### $$\\text{logit}\\big(E[y]\\big) = \\text{logit}\\big(P(y=1)\\big) = log\\bigg(\\frac{P(y=1)}{1-P(y=1)}\\bigg) =  \\beta_0 + \\sum_{j}^p\\beta_jx_j$$\n",
    "\n"
   ]
  },
  {
   "cell_type": "code",
   "execution_count": null,
   "metadata": {
    "collapsed": true
   },
   "outputs": [],
   "source": []
  },
  {
   "cell_type": "markdown",
   "metadata": {},
   "source": [
    "---\n",
    "\n",
    "### 11. How do we get probabilities out? Inverting the logit link function with the \"logistic\"\n",
    "\n",
    "The inverse function of the logit is called the **logistic function**. \n",
    "\n",
    "By inverting the logit, we can have the right side of our regression equation explicitly solving for $P(y = 1)$:\n",
    "\n",
    "### $$P(y=1) = logit^{-1}\\left(\\beta_0 + \\sum_{j}^p\\beta_jx_j\\right)$$\n",
    "\n",
    "Where:\n",
    "\n",
    "### $$logit^{-1}(a) = logistic(a) = \\frac{e^{a}}{e^{a} + 1}$$ \n",
    "\n",
    "Giving us:\n",
    "\n",
    "### $$P(y=1) = \\frac{e^{\\left(\\beta_0 + \\sum_{j}^p\\beta_jx_j\\right)}}{e^{\\left(\\beta_0 + \\sum_{j}^p\\beta_jx_j\\right)}+1}$$"
   ]
  },
  {
   "cell_type": "markdown",
   "metadata": {},
   "source": [
    "---\n",
    "\n",
    "### 11.B Solving for the beta coefficients\n",
    "\n",
    "Logistic regression minimizes the \"deviance\", which is analagous to the residual sum of squares in linear regression. There is not a closed-form solution to the beta coefficients like in linear regression, and the betas are found through optimization procedures.\n",
    "\n",
    "If you are particularly interested in the math, these two resources are good:\n",
    "\n",
    "[A good blog post on the logistic regression beta coefficient derivation.](http://www.win-vector.com/blog/2011/09/the-simpler-derivation-of-logistic-regression/)\n",
    "\n",
    "[This paper is also a good reference.](https://www.stat.cmu.edu/~cshalizi/402/lectures/14-logistic-regression/lecture-14.pdf)\n",
    "\n"
   ]
  },
  {
   "cell_type": "markdown",
   "metadata": {},
   "source": [
    "---\n",
    "\n",
    "### 12. Interpreting logistic regression coefficients.\n",
    "\n",
    "The interpretation of logistic regression coefficients can be counter-intuitive. \n",
    "\n",
    "**To make it easier, start by centering your predictor variables (subtracting the mean):**"
   ]
  },
  {
   "cell_type": "code",
   "execution_count": 61,
   "metadata": {
    "collapsed": false
   },
   "outputs": [
    {
     "name": "stdout",
     "output_type": "stream",
     "text": [
      "Baseline: 0.3174\n",
      "LogR_CV: 0.69\n",
      "LogR: 0.72\n",
      "Mean LogR_CV_10_Folds: 0.6974\n",
      "Model Imporvement From Baseline: 0.38\n"
     ]
    }
   ],
   "source": [
    "from sklearn.linear_model import LogisticRegressionCV\n",
    "from sklearn.linear_model import LogisticRegression\n",
    "\n",
    "from sklearn.cross_validation import cross_val_score\n",
    "from sklearn.cross_validation import train_test_split\n",
    "\n",
    "X_train, X_test, y_train, y_test = train_test_split(X, y, train_size=0.75)\n",
    "\n",
    "LogR_CV = LogisticRegressionCV(cv=10)\n",
    "LogR = LogisticRegression()\n",
    "\n",
    "LogR_CV.fit(X_train, y_train)\n",
    "LogR.fit(X_train, y_train)\n",
    "\n",
    "print 'Baseline:', round(np.mean(y), 4)\n",
    "\n",
    "print 'LogR_CV:', LogR_CV.score(X_test, y_test)\n",
    "print 'LogR:', LogR.score(X_test, y_test)\n",
    "\n",
    "scores = cross_val_score(LogR_CV, X, y, cv=10)\n",
    "\n",
    "#print 'LogR_CV Cross-Validated Scores:', scores, '\\n'\n",
    "\n",
    "print 'Mean LogR_CV_10_Folds:', round(np.mean(scores), 4)\n",
    "\n",
    "print 'Model Imporvement From Baseline:', round((np.mean(scores) - np.mean(y)), 4)"
   ]
  },
  {
   "cell_type": "code",
   "execution_count": null,
   "metadata": {
    "collapsed": true
   },
   "outputs": [],
   "source": []
  },
  {
   "cell_type": "markdown",
   "metadata": {},
   "source": [
    "#### Why does centering matter?\n",
    "\n",
    "Centering helps a lot because now the \"baseline\" for the predictor, the value at 0, is the mean of the predictor. So, in our case, when gpa = 0 this is the average gpa across students.\n",
    "\n",
    "After re-running the regression we can take a look at the coefficients:"
   ]
  },
  {
   "cell_type": "code",
   "execution_count": null,
   "metadata": {
    "collapsed": true
   },
   "outputs": [],
   "source": []
  },
  {
   "cell_type": "markdown",
   "metadata": {},
   "source": [
    "#### Meaning of the betas in log odds\n",
    "\n",
    "Remember that our values are in terms of log-odds. \n",
    "\n",
    "> If $\\beta_1$ is 0, then $\\beta_0$ represents the log odds of admittance for a student with an average gpa.\n",
    "\n",
    "> $\\beta_1$ is the effect of a unit increase in gpa on the log odds of admittance. \n",
    "\n",
    "This sucks because log odds are hard to interpret. Luckily though, we can apply the logistic transform to get the probability of admittance at different $\\beta$ values."
   ]
  },
  {
   "cell_type": "code",
   "execution_count": null,
   "metadata": {
    "collapsed": true
   },
   "outputs": [],
   "source": []
  },
  {
   "cell_type": "markdown",
   "metadata": {},
   "source": [
    "The probability of admittance with an average gpa:"
   ]
  },
  {
   "cell_type": "code",
   "execution_count": null,
   "metadata": {
    "collapsed": true
   },
   "outputs": [],
   "source": []
  },
  {
   "cell_type": "markdown",
   "metadata": {},
   "source": [
    "** With more coefficients, setting $\\beta$ values other than the one of interest to zero (except the intercept) will let you see the change in probability as the corresponding $x$ variable changes.**"
   ]
  }
 ],
 "metadata": {
  "anaconda-cloud": {},
  "kernelspec": {
   "display_name": "Python [dsi]",
   "language": "python",
   "name": "Python [dsi]"
  },
  "language_info": {
   "codemirror_mode": {
    "name": "ipython",
    "version": 2
   },
   "file_extension": ".py",
   "mimetype": "text/x-python",
   "name": "python",
   "nbconvert_exporter": "python",
   "pygments_lexer": "ipython2",
   "version": "2.7.12"
  }
 },
 "nbformat": 4,
 "nbformat_minor": 0
}
