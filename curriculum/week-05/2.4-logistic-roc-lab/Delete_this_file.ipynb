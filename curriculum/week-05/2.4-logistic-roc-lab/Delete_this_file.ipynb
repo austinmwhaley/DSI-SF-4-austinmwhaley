{
 "cells": [
  {
   "cell_type": "code",
   "execution_count": 51,
   "metadata": {
    "collapsed": false
   },
   "outputs": [],
   "source": [
    "def divisors(x):\n",
    "    divs = []\n",
    "    for i in range(x):\n",
    "        if x % (i + 1) == 0 and (i + 1) != 1 and (i + 1) != x:\n",
    "            divs.append(i + 1)\n",
    "    if not divs:\n",
    "        return '{x} is prime'.format(x=x)\n",
    "    else:\n",
    "        return divs"
   ]
  },
  {
   "cell_type": "code",
   "execution_count": 52,
   "metadata": {
    "collapsed": false
   },
   "outputs": [
    {
     "name": "stdout",
     "output_type": "stream",
     "text": [
      "13 is prime\n"
     ]
    }
   ],
   "source": [
    "#print divisors(12) #Should return [2,3,4,6]\n",
    "#print divisors(15) #Should return [3,5]\n",
    "print divisors(13) #Should return '13 is prime'"
   ]
  },
  {
   "cell_type": "code",
   "execution_count": 81,
   "metadata": {
    "collapsed": false
   },
   "outputs": [],
   "source": [
    "def persistent(num):\n",
    "    counter = 0\n",
    "    while len(str(num)) != 1:\n",
    "        num = list(str(num))\n",
    "        num = reduce(lambda x, y: int(x) * int(y), num)\n",
    "        counter += 1\n",
    "    return counter"
   ]
  },
  {
   "cell_type": "code",
   "execution_count": 82,
   "metadata": {
    "collapsed": false
   },
   "outputs": [
    {
     "name": "stdout",
     "output_type": "stream",
     "text": [
      "3\n"
     ]
    }
   ],
   "source": [
    "print persistent(39) #=> 3"
   ]
  },
  {
   "cell_type": "code",
   "execution_count": 121,
   "metadata": {
    "collapsed": false
   },
   "outputs": [],
   "source": [
    "def Descending_Order(num):\n",
    "    return int(''.join(sorted(list(str(num)), reverse=True)))"
   ]
  },
  {
   "cell_type": "code",
   "execution_count": null,
   "metadata": {
    "collapsed": false
   },
   "outputs": [],
   "source": [
    "print type(Descending_Order(0))\n",
    "\n",
    "print Descending_Order(0) == 0\n",
    "print Descending_Order(15) == 51\n",
    "print Descending_Order(123456789) == 987654321"
   ]
  },
  {
   "cell_type": "code",
   "execution_count": 182,
   "metadata": {
    "collapsed": false
   },
   "outputs": [],
   "source": [
    "def is_isogram(s): #No repeating letters\n",
    "    if s == \"\":\n",
    "        return True\n",
    "    s = s.lower()\n",
    "    for i in range(len(s)):\n",
    "        if s[i] in s[i+1:]:\n",
    "            return False\n",
    "    return True"
   ]
  },
  {
   "cell_type": "code",
   "execution_count": 183,
   "metadata": {
    "collapsed": false
   },
   "outputs": [
    {
     "name": "stdout",
     "output_type": "stream",
     "text": [
      "True\n",
      "False\n",
      "True\n",
      "False\n"
     ]
    }
   ],
   "source": [
    "print is_isogram(\"\") #=> True\n",
    "print is_isogram('aba') #=> False\n",
    "print is_isogram('Dermatoglyphics') #=> True\n",
    "print is_isogram('tpdpavrhuxz') #=> False"
   ]
  },
  {
   "cell_type": "code",
   "execution_count": null,
   "metadata": {
    "collapsed": true
   },
   "outputs": [],
   "source": []
  },
  {
   "cell_type": "code",
   "execution_count": null,
   "metadata": {
    "collapsed": true
   },
   "outputs": [],
   "source": []
  }
 ],
 "metadata": {
  "kernelspec": {
   "display_name": "Python [dsi]",
   "language": "python",
   "name": "Python [dsi]"
  },
  "language_info": {
   "codemirror_mode": {
    "name": "ipython",
    "version": 2
   },
   "file_extension": ".py",
   "mimetype": "text/x-python",
   "name": "python",
   "nbconvert_exporter": "python",
   "pygments_lexer": "ipython2",
   "version": "2.7.12"
  }
 },
 "nbformat": 4,
 "nbformat_minor": 0
}
