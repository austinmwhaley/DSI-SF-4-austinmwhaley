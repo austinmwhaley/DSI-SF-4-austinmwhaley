{
 "cells": [
  {
   "cell_type": "markdown",
   "metadata": {},
   "source": [
    "---\n",
    "title: Math Primer 1 + Intro to NumPy\n",
    "duration: \"1:5\"\n",
    "creator:\n",
    "    name: Kiefer Katovich & David Yerrington\n",
    "---"
   ]
  },
  {
   "cell_type": "markdown",
   "metadata": {},
   "source": [
    "<img src=\"https://ga-dash.s3.amazonaws.com/production/assets/logo-9f88ae6c9c3871690e33280fcf557f33.png\" style=\"float: left; margin: 15px;\">\n",
    "# Math Primer 1 + Intro to NumPy\n",
    "Week 1 | Lesson 3.3"
   ]
  },
  {
   "cell_type": "markdown",
   "metadata": {},
   "source": [
    "### LEARNING OBJECTIVES\n",
    "*After this lesson, you will be able to:*\n",
    "- Understand the measures of Central Tendency (mean, median, and mode)\n",
    "- Understand how mean, median and mode are affected by skewness in data\n",
    "- Understand measures of variability (variance and standard deviation)"
   ]
  },
  {
   "cell_type": "markdown",
   "metadata": {},
   "source": [
    "### STUDENT PRE-WORK\n",
    "*Before this lesson, you should already be able to:*\n",
    "- This should've been completed as pre-work before starting the course, but if you haven't\n",
    "didn't watch it, please watch Lesson 3: Estimation\n",
    "[Intro to Stats](https://www.udacity.com/course/intro-to-statistics--st101)"
   ]
  },
  {
   "cell_type": "markdown",
   "metadata": {},
   "source": [
    "### LESSON GUIDE\n",
    "| TIMING  | TYPE  | TOPIC  |\n",
    "|:-:|---|---|\n",
    "| 5 min  | [Introduction](#introduction)   |  Descriptive Statistics |\n",
    "| 20 min  | [Demo / Guided Practice](#demo)  | Mean, Median, and Mode  |\n",
    "| 20 min  | [Demo / Guided Practice](#demo)  | Skewness  |\n",
    "| 20 min  | [Demo / Guided Practice](#demo)  | Range, Variance and Standard Deviation  |\n",
    "| 20 min  | [Independent Practice](#ind-practice)  |   |\n",
    "| 5 min  | [Conclusion](#conclusion)  |   |\n",
    "\n",
    "---"
   ]
  },
  {
   "cell_type": "markdown",
   "metadata": {},
   "source": [
    "Note:  We use inferential statistics to make judgments of the probability that an observed difference between groups is a dependable one or one that might have happened by chance in a study. Thus, we use inferential statistics to make inferences from our data to more general conditions; we use descriptive statistics simply to describe what's going on in our data.  Classic **descriptive statistics** include **mean, min, max, standard deviation, median, skew, kurtosis**. Inferential statistics are a function of the sample data that assists you to draw an inference regarding an hypothesis about a population parameter."
   ]
  },
  {
   "cell_type": "markdown",
   "metadata": {},
   "source": [
    "## Todays Lecture / Codealong\n",
    "\n",
    "By this point, we have become very comfortable with Python (hopefully!).  We will explore the definition of many summary statistics (classic descriptive statistics), code them individually, code them together, share a solution and talk about it."
   ]
  },
  {
   "cell_type": "code",
   "execution_count": 1,
   "metadata": {
    "collapsed": false
   },
   "outputs": [
    {
     "ename": "ImportError",
     "evalue": "No module named caller",
     "output_type": "error",
     "traceback": [
      "\u001b[0;31m---------------------------------------------------------------------------\u001b[0m",
      "\u001b[0;31mImportError\u001b[0m                               Traceback (most recent call last)",
      "\u001b[0;32m<ipython-input-1-51af405ffc1c>\u001b[0m in \u001b[0;36m<module>\u001b[0;34m()\u001b[0m\n\u001b[1;32m      2\u001b[0m \u001b[0msys\u001b[0m\u001b[0;34m.\u001b[0m\u001b[0mpath\u001b[0m\u001b[0;34m.\u001b[0m\u001b[0mappend\u001b[0m\u001b[0;34m(\u001b[0m\u001b[0;34m\"../../../../utils/student_caller/\"\u001b[0m\u001b[0;34m)\u001b[0m\u001b[0;34m\u001b[0m\u001b[0m\n\u001b[1;32m      3\u001b[0m \u001b[0;34m\u001b[0m\u001b[0m\n\u001b[0;32m----> 4\u001b[0;31m \u001b[0;32mfrom\u001b[0m \u001b[0mcaller\u001b[0m \u001b[0;32mimport\u001b[0m \u001b[0mStudentCaller\u001b[0m\u001b[0;34m\u001b[0m\u001b[0m\n\u001b[0m",
      "\u001b[0;31mImportError\u001b[0m: No module named caller"
     ]
    }
   ],
   "source": [
    "import sys\n",
    "sys.path.append(\"../../../../utils/student_caller/\")\n",
    "\n",
    "from caller import StudentCaller"
   ]
  },
  {
   "cell_type": "code",
   "execution_count": 2,
   "metadata": {
    "collapsed": false
   },
   "outputs": [
    {
     "ename": "NameError",
     "evalue": "name 'StudentCaller' is not defined",
     "output_type": "error",
     "traceback": [
      "\u001b[0;31m---------------------------------------------------------------------------\u001b[0m",
      "\u001b[0;31mNameError\u001b[0m                                 Traceback (most recent call last)",
      "\u001b[0;32m<ipython-input-2-3246d3bbb127>\u001b[0m in \u001b[0;36m<module>\u001b[0;34m()\u001b[0m\n\u001b[0;32m----> 1\u001b[0;31m \u001b[0mdsi\u001b[0m \u001b[0;34m=\u001b[0m \u001b[0mStudentCaller\u001b[0m\u001b[0;34m(\u001b[0m\u001b[0;34m)\u001b[0m\u001b[0;34m\u001b[0m\u001b[0m\n\u001b[0m\u001b[1;32m      2\u001b[0m \u001b[0mdsi\u001b[0m\u001b[0;34m.\u001b[0m\u001b[0mset_resource\u001b[0m\u001b[0;34m(\u001b[0m\u001b[0;34m\"students\"\u001b[0m\u001b[0;34m,\u001b[0m \u001b[0;34m\"students-dsi-sf-4.txt\"\u001b[0m\u001b[0;34m)\u001b[0m\u001b[0;34m\u001b[0m\u001b[0m\n\u001b[1;32m      3\u001b[0m \u001b[0mdsi\u001b[0m\u001b[0;34m.\u001b[0m\u001b[0mload_resource\u001b[0m\u001b[0;34m(\u001b[0m\u001b[0;34m\"students\"\u001b[0m\u001b[0;34m,\u001b[0m \u001b[0mrandomize\u001b[0m\u001b[0;34m=\u001b[0m\u001b[0mTrue\u001b[0m\u001b[0;34m)\u001b[0m\u001b[0;34m\u001b[0m\u001b[0m\n\u001b[1;32m      4\u001b[0m \u001b[0mdsi\u001b[0m\u001b[0;34m.\u001b[0m\u001b[0mset_absent_students\u001b[0m\u001b[0;34m(\u001b[0m\u001b[0;34m[\u001b[0m\u001b[0;34m\"reem\"\u001b[0m\u001b[0;34m]\u001b[0m\u001b[0;34m)\u001b[0m\u001b[0;34m\u001b[0m\u001b[0m\n\u001b[1;32m      5\u001b[0m \u001b[0;34m\u001b[0m\u001b[0m\n",
      "\u001b[0;31mNameError\u001b[0m: name 'StudentCaller' is not defined"
     ]
    }
   ],
   "source": [
    "dsi = StudentCaller()\n",
    "dsi.set_resource(\"students\", \"students-dsi-sf-4.txt\")\n",
    "dsi.load_resource(\"students\", randomize=True)\n",
    "dsi.set_absent_students([\"reem\"])\n",
    "\n",
    "print \"Loaded students: \", dsi.students"
   ]
  },
  {
   "cell_type": "markdown",
   "metadata": {},
   "source": [
    "<a name=\"Mean, median, and mode\"></a>\n",
    "## Guided Practice: Mean, median, and mode (20 mins)\n",
    "\n",
    "## Mean\n",
    "\n",
    "_The mean is the sum of the numbers divided by the length of the list._\n",
    "\n",
    "**Check:** Find the **mean** of this list using python:\n"
   ]
  },
  {
   "cell_type": "code",
   "execution_count": 3,
   "metadata": {
    "collapsed": false
   },
   "outputs": [
    {
     "data": {
      "text/plain": [
       "3.0"
      ]
     },
     "execution_count": 3,
     "metadata": {},
     "output_type": "execute_result"
    }
   ],
   "source": [
    "import numpy as np\n",
    "samples = [1,2,3,4,5]\n",
    "#mean = np.mean(samples)\n",
    "mean = sum(samples)/ len(samples)\n",
    "\n",
    "print(mean)"
   ]
  },
  {
   "cell_type": "markdown",
   "metadata": {},
   "source": [
    "---\n",
    "\n",
    "## Median\n",
    "\n",
    "We will be reviewing and coding the following cases for calculating the median of a distribution of numbers.\n",
    "\n",
    "_For **odd-length** lists: the median is the middle number of the ordered list._\n",
    "\n",
    "_For **even-length** lists: the median is the average of the two middle numbers of the ordered list._\n"
   ]
  },
  {
   "cell_type": "markdown",
   "metadata": {},
   "source": [
    "### Calculate the Median\n",
    "\n",
    "Here are two samples we will work with.  One set has an odd number of samples, while the other is even.  From  here, we will work with these basic objects."
   ]
  },
  {
   "cell_type": "code",
   "execution_count": 4,
   "metadata": {
    "collapsed": false
   },
   "outputs": [
    {
     "name": "stdout",
     "output_type": "stream",
     "text": [
      "7.0\n",
      "1.5\n"
     ]
    }
   ],
   "source": [
    "def median(lst):\n",
    "    lst = sorted(lst)\n",
    "    if len(lst) %2 == 1:\n",
    "            return lst[((len(lst)+1)/2)-1]\n",
    "    else:\n",
    "            return float(sum(lst[(len(lst)/2)-1:(len(lst)/2)+1]))/2.0\n",
    "\n",
    "n_odd = [1,5,9,2,8,3,10,15,7]\n",
    "n_even = [8,2,3,1,0,-1,-5,20]\n",
    "\n",
    "#odd_median = np.median(n_odd)\n",
    "#even_median = np.median(n_even)\n",
    "\n",
    "odd_median = median(n_odd)\n",
    "even_median = median(n_even)\n",
    "\n",
    "print(odd_median)\n",
    "print(even_median)"
   ]
  },
  {
   "cell_type": "markdown",
   "metadata": {},
   "source": [
    "### Median  STEP 1:  Order the numbers\n",
    "First step we must sort our list objects in **ascending** order, making sure to reassign / update our list objects with the new **ascending** order."
   ]
  },
  {
   "cell_type": "code",
   "execution_count": null,
   "metadata": {
    "collapsed": true
   },
   "outputs": [],
   "source": [
    "# How do we order the numbers?  Google: \"python sort a list\""
   ]
  },
  {
   "cell_type": "markdown",
   "metadata": {},
   "source": [
    "### Median STEP 2a: Find the middle (odd numbers)\n",
    "\n",
    "First, we will attempt to find the middle number in a given list sequence for our object `n_odd`.  \n",
    "\n",
    "To find the **median** for an odd sequence of numbers, we will need to perform the following operations:\n",
    "\n",
    "1. **Divide the length of our list in half.** <br>_Set to a variable._  (expected: 4.5)\n",
    "1. **Subtract .5 from the divided length.**<br>_Subtract .5 from the variable._\n",
    "1. **Select the offset of the `n_odd` list based on the halfed length - .5.** <br>_Use the variable to select the index._"
   ]
  },
  {
   "cell_type": "code",
   "execution_count": null,
   "metadata": {
    "collapsed": true
   },
   "outputs": [],
   "source": [
    "# Try it out.  Find the median "
   ]
  },
  {
   "cell_type": "markdown",
   "metadata": {},
   "source": [
    "### Median STEP 2b: Find the middle (even numbers)\n",
    "    \n",
    "The process for finding the median of a sequence of even numbers is little more straight forward.\n",
    "\n",
    "1. Divide the length of our list in half.<br><i>Set a variable called **sample_length** to store this.</i>\n",
    "1. Add the **sample_length** - 1 (Nth) item of the even list (`n_even`) with the **sample_length** item of the even list, divided by 2.<br><i>Remember, use the value of the offset of `n_even` according to (**sample_length** - 1) + (**sample_length**) to get the values.</i>"
   ]
  },
  {
   "cell_type": "code",
   "execution_count": 19,
   "metadata": {
    "collapsed": true
   },
   "outputs": [],
   "source": [
    "# Seek the median using Python!  You can do it!"
   ]
  },
  {
   "cell_type": "markdown",
   "metadata": {},
   "source": [
    "---\n",
    "\n",
    "## Mode\n",
    "\n",
    "**The mode is the most frequently occurring number.**\n",
    "\n",
    "Finding the mode is not as trivial as the mean or median, so here it is calculated using scipy.stats.mode().  With a partner, take some time to review the docs on scipy.stats.mode(), and implement the solution to find the mode of the assigned variable `sample` below.  Google is a good place to start with this activity.\n",
    "\n",
    "_Notice the output of the initial state of the code cell below.  This is the output of the correct solution, however it will disappear after you run the cell for the first time._\n",
    "\n",
    "Note: doing this without scipy.stats.mode() is a challenge problem in the independent practice section."
   ]
  },
  {
   "cell_type": "code",
   "execution_count": 14,
   "metadata": {
    "collapsed": false
   },
   "outputs": [
    {
     "name": "stdout",
     "output_type": "stream",
     "text": [
      "(2, ' = mode')\n"
     ]
    }
   ],
   "source": [
    "sample = [0,1,1,2,2,2,2,3,3,4,4,4,5]\n",
    "dct = {}\n",
    "\n",
    "for i in sample:\n",
    "    dct[sample.count(i)] = i\n",
    "    \n",
    "mode = dct[max(dct)]\n",
    "print(mode, ' = mode')"
   ]
  },
  {
   "cell_type": "markdown",
   "metadata": {},
   "source": [
    "> Additional information here:\n",
    "> [Descriptive Stats:  University of South Alabama](http://www.southalabama.edu/coe/bset/johnson/lectures/lec15.htm)\n"
   ]
  },
  {
   "cell_type": "markdown",
   "metadata": {},
   "source": [
    "### Once Again, with Scipy\n",
    "\n",
    "Thankfully, we have a library that is good, fast, and cheap, that can help us do the heavy lifting.  In most cases, it's best to use the conviences of Scipy and Numpy since they are well tested, high quality, and performant.\n",
    "\n",
    "With Scipy and Numpy, find the mean, median, and mode of the distribution `sample below`.  You will need to properly import these modules and reference the appropriate methods to complete this task.  We want you to get comfortable referencing these types of operations in the relevent documentation that exists."
   ]
  },
  {
   "cell_type": "code",
   "execution_count": 17,
   "metadata": {
    "collapsed": false
   },
   "outputs": [
    {
     "name": "stdout",
     "output_type": "stream",
     "text": [
      "(67.950000000000003, 28.0, ModeResult(mode=array([3]), count=array([2])))\n"
     ]
    }
   ],
   "source": [
    "# Import python modules here\n",
    "import numpy as np\n",
    "import scipy.stats\n",
    "sample = [3, 75, 98, 2, 10, 3, 14, 99, 44, 25, 31, 100, 356, 4, 23, 55, 327, 64, 6, 20]\n",
    "\n",
    "# Your solution here\n",
    "mean = np.mean(sample)\n",
    "median = np.median(sample)\n",
    "mode = scipy.stats.mode(sample)\n",
    "print(mean, median, mode)"
   ]
  },
  {
   "cell_type": "markdown",
   "metadata": {},
   "source": [
    "**Check:** Explain the output of the mode() function."
   ]
  },
  {
   "cell_type": "markdown",
   "metadata": {},
   "source": [
    "<a name=\"Skewness\"></a>\n",
    "## Guided Practice: Skewness (20 mins)\n",
    "\n",
    "**Skewness** is lack of symmetry in a distribution of data.\n",
    "\n",
    "[Technical note: we will be talking about skewness here in the context of _unimodal_ distributions.]\n",
    "\n",
    "![](../assets/images/skewness.png)\n",
    "\n",
    "A **positive-skewed** distribution means the right side tail of the distribution is longer or fatter than the left.\n",
    "\n",
    "Likewise a **negative-skewed** distribution means the left side tail is longer or fatter than the right.\n",
    "\n",
    "Symmetric distributions have no skewness!\n",
    "\n",
    "---"
   ]
  },
  {
   "cell_type": "markdown",
   "metadata": {},
   "source": [
    "## Skewness and measures of central tendency\n",
    "\n",
    "The mean, median, and mode are affected by skewness.\n",
    "\n",
    "When a distribution is **symmetrical**, the mean, median, and mode are the same number.\n",
    "\n",
    "When a distribution is negatively skewed, the mean is less than the median, which is less than the mode.\n",
    "\n",
    "**Negative skew: mean < median < mode**\n",
    "\n",
    "When a distribution is positively skewed, the mean is greater than the median, which is greater than the mode!\n",
    "\n",
    "**Positive skew: mode < median < mean**\n",
    "\n",
    "This way of thinking can help you, especially if you can't see a line graph of the data. All you need are the mean and the median. Nice!\n",
    "\n",
    "1. If the mean < median, the data are skewed left.\n",
    "2. If the mean > median, the data are skewed right.\n",
    "\n",
    "---"
   ]
  },
  {
   "cell_type": "markdown",
   "metadata": {},
   "source": [
    "## Practice (~5 Mins)\n",
    "\n",
    "Using our understanding of skewness, does the list of numbers form a symmetric distribution? Is it skewed left of right?\n",
    "\n",
    "Look at it again, and let's explain how it looks.\n"
   ]
  },
  {
   "cell_type": "code",
   "execution_count": 19,
   "metadata": {
    "collapsed": true
   },
   "outputs": [],
   "source": [
    "# This is our sample\n",
    "sample = [3, 75, 98, 2, 10, 3, 14, 99, 44, 25, 31, 100, 356, 4, 23, 55, 327, 64, 6, 20]"
   ]
  },
  {
   "cell_type": "code",
   "execution_count": 23,
   "metadata": {
    "collapsed": false
   },
   "outputs": [
    {
     "name": "stdout",
     "output_type": "stream",
     "text": [
      "Data are skewed left\n"
     ]
    }
   ],
   "source": [
    "# This space we may code a quick exmaple of plotting this distribution\n",
    "import numpy as np\n",
    "import scipy.stats\n",
    "\n",
    "def skew_desc(sample):\n",
    "    \n",
    "    mean = np.mean(sample)\n",
    "    median = np.median(sample)\n",
    "    mode = scipy.stats.mode(sample)\n",
    "    \n",
    "    if mean > median:\n",
    "        print('Data are skewed left')\n",
    "    if mean < median:\n",
    "        print('Data are skewed right')\n",
    "    if mean == median:\n",
    "        print('Data has no skew')\n",
    "\n",
    "skew_desc(sample)"
   ]
  },
  {
   "cell_type": "markdown",
   "metadata": {},
   "source": [
    "<a name=\"Range, Variance and Standard Deviation\"></a>\n",
    "## Guided / Idependent Practice: Range, Variance and Standard Deviation (20 mins)\n",
    "\n",
    "Measures of variability like the **range**, **variance**, and **standard deviation** tell you about the spread of your data.\n",
    "\n",
    "These measurements give complementary (and no less important!) information to the measures of central tendency (mean, median, mode).\n",
    "\n",
    "---\n",
    "\n"
   ]
  },
  {
   "cell_type": "markdown",
   "metadata": {},
   "source": [
    "## Range\n",
    "\n",
    "The **range** is the difference between the lowest and highest values of a distribution.  Since this metric only depends on two observations, it's a very simple calculation.  Range shows how much the numbers in a set vary.\n",
    "\n",
    "\n",
    "To calculate the range:\n",
    "\n",
    "1. Sort the `sample` object in `ascending` order.\n",
    "1. Subtract the first item from the last item.\n",
    "1. Compare your result with Numpy's `ptp()` method that does the same thing.\n",
    "\n",
    "\n",
    "---"
   ]
  },
  {
   "cell_type": "code",
   "execution_count": 126,
   "metadata": {
    "collapsed": false
   },
   "outputs": [
    {
     "data": {
      "text/plain": [
       "354"
      ]
     },
     "execution_count": 126,
     "metadata": {},
     "output_type": "execute_result"
    }
   ],
   "source": [
    "sample = [3, 75, 98, 2, 10, 3, 14, 99, 44, 25, 31, 100, 356, 4, 23, 55, 327, 64, 6, 20]\n",
    "\n",
    "\n",
    "\n",
    "# With numpy:\n",
    "n_range = np.ptp(sample)\n",
    "n_range\n",
    "\n",
    "# Now implement htis in pure python"
   ]
  },
  {
   "cell_type": "markdown",
   "metadata": {},
   "source": [
    "##### Variance\n",
    "\n",
    "The **variance** is a numeric value used to describe how widely the numbers distribution vary.\n",
    "\n",
    "In python variance can be calculated with:\n",
    "```python\n",
    "variance = []\n",
    "n_mean = np.mean(n)\n",
    "\n",
    "for n_ in n:\n",
    "  variance.append((n_ - n_mean) ** 2)\n",
    "\n",
    "variance = np.sum(variance)\n",
    "variance = variance / len(n)\n",
    "```\n",
    "\n",
    "Which is **the average of the sum of the squared distances of each number from the mean of the numbers.**\n",
    "\n",
    "![](../assets/images/dist_with_variance.png)\n",
    "\n",
    "**Check:** What could a distribution with a large variance look like? A small?\n",
    "\n",
    "**Check:** What does a variance of 0 mean?\n",
    "\n",
    "Using numpy the variance is simply:\n",
    "```python\n",
    "variance = np.var(n)\n",
    "\n",
    "print(variance)\n",
    "9414.6475\n",
    "```\n",
    "\n",
    "---\n",
    "\n"
   ]
  },
  {
   "cell_type": "markdown",
   "metadata": {},
   "source": [
    "### Standard deviation\n",
    "\n",
    "The **standard deviation** is the square root of the variance.\n",
    "\n",
    "Because the variance is the average of the distances from the mean _squared_, the standard deviation tells us approximately, on average, the distance of numbers in a distribution from the mean.\n",
    "\n",
    "The standard deviation can be calculated with:\n",
    "```python\n",
    "std = np.std(n)\n",
    "\n",
    "print(std)\n",
    "97.029106457804716\n",
    "```\n",
    "\n",
    "![](../assets/images/dist_with_var_std.png)\n",
    "\n",
    "**Optional Check (time permitting)**  Is this the same as the average of the absolute deviations from the mean? If not, what is the difference between the measures?\n",
    "\n"
   ]
  },
  {
   "cell_type": "markdown",
   "metadata": {},
   "source": [
    "<a name=\"ind-practice\"></a>\n",
    "## Independent Practice: Topic (20 minutes)\n",
    "- With the provided data, determine the mean, median, and mode.\n",
    "- Is the data skewed left or right? How do you know?\n",
    "- Find the range, variance and standard deviation of your data set. What does the standard deviation tell you about the distribution?\n",
    "- Challenge: calculate the mode without using scipy!"
   ]
  },
  {
   "cell_type": "code",
   "execution_count": 125,
   "metadata": {
    "collapsed": true
   },
   "outputs": [],
   "source": [
    "sample = [3, 75, 98, 2, 10, 3, 14, 99, 44, 25, 31, 100, 356, 4, 23, 55, 327, 64, 6, 20]"
   ]
  },
  {
   "cell_type": "markdown",
   "metadata": {},
   "source": [
    "<a name=\"conclusion\"></a>\n",
    "## Conclusion (5 mins)"
   ]
  },
  {
   "cell_type": "code",
   "execution_count": null,
   "metadata": {
    "collapsed": true
   },
   "outputs": [],
   "source": []
  }
 ],
 "metadata": {
  "anaconda-cloud": {},
  "kernelspec": {
   "display_name": "Python [dsi]",
   "language": "python",
   "name": "Python [dsi]"
  },
  "language_info": {
   "codemirror_mode": {
    "name": "ipython",
    "version": 2
   },
   "file_extension": ".py",
   "mimetype": "text/x-python",
   "name": "python",
   "nbconvert_exporter": "python",
   "pygments_lexer": "ipython2",
   "version": "2.7.12"
  }
 },
 "nbformat": 4,
 "nbformat_minor": 0
}
