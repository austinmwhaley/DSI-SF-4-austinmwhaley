{
 "cells": [
  {
   "cell_type": "markdown",
   "metadata": {
    "slideshow": {
     "slide_type": "slide"
    }
   },
   "source": [
    "<img src=\"https://ga-dash.s3.amazonaws.com/production/assets/logo-9f88ae6c9c3871690e33280fcf557f33.png\" style=\"float: left; margin: 15px;\">\n",
    "\n",
    "# Intro to Data Cleaning\n",
    "\n",
    "Week 2 | Lesson 2.3\n",
    "\n",
    "<img src=\"https://snag.gy/ywU34V.jpg\" width=\"250\">"
   ]
  },
  {
   "cell_type": "markdown",
   "metadata": {
    "slideshow": {
     "slide_type": "slide"
    }
   },
   "source": [
    "### LEARNING OBJECTIVES\n",
    "*After this lesson, you will be able to:*\n",
    "- Inspect data types\n",
    "- Clean up a column using df.apply()\n",
    "- Know what situations to use .value_counts() in your code"
   ]
  },
  {
   "cell_type": "code",
   "execution_count": null,
   "metadata": {
    "collapsed": true
   },
   "outputs": [],
   "source": [
    "#--Data Clearning--\n",
    "#Core Principles\n",
    "#Types\n",
    "#df.apply()\n",
    "\n",
    "#DATA JANITOR\n",
    "#70-90% of time is dedicated to cleaning and exploring data\n",
    "\n",
    "\n",
    "\n"
   ]
  },
  {
   "cell_type": "markdown",
   "metadata": {
    "slideshow": {
     "slide_type": "slide"
    }
   },
   "source": [
    "### LESSON GUIDE\n",
    "| TIMING  | TYPE  | TOPIC  |\n",
    "|:-:|---|---|\n",
    "| 5 min  | [Introduction](#introduction)   | Inpsect data types, df.apply(), .value_counts()  |\n",
    "| 20 min  | [Demo /Guided Practice](#demo)  | Inpsect data types |\n",
    "| 20 min  | [Demo /Guided Practice](#demo)  | df.apply() |\n",
    "| 20 min  | [Demo /Guided Practice](#demo)  | .value_counts() |\n",
    "| 20 min  | [Independent Practice](#ind-practice)  |   |\n",
    "| 5 min  | [Conclusion](#conclusion)  |   |"
   ]
  },
  {
   "cell_type": "markdown",
   "metadata": {
    "slideshow": {
     "slide_type": "slide"
    }
   },
   "source": [
    "## Discussion (5 mins):  What problems do you anticipate with bad data?\n",
    "\n"
   ]
  },
  {
   "cell_type": "markdown",
   "metadata": {
    "slideshow": {
     "slide_type": "slide"
    }
   },
   "source": [
    "## Quality Metrics\n",
    "\n",
    " - Relative value\n",
    " - Encoding\n",
    " - Consistency "
   ]
  },
  {
   "cell_type": "code",
   "execution_count": null,
   "metadata": {
    "collapsed": true
   },
   "outputs": [],
   "source": [
    "#Relative Value to missing data. How do we deal with missing data\n",
    "#Encoding - Is this in the right format?\n",
    "#Consistency - "
   ]
  },
  {
   "cell_type": "markdown",
   "metadata": {
    "slideshow": {
     "slide_type": "slide"
    }
   },
   "source": [
    "## Common Data Cleaning Strategies\n",
    " - Remove missing values\n",
    " - Remove incorrect values\n",
    " - Update incorrect values\n",
    "  - Removing invalid characters\n",
    "  - Truncating part of a value\n",
    "  - Scaling\n",
    "  - Adding extra numeral or string-based data\n",
    " - Imputation\n",
    "  - Mean / Median / Mode of common subset\n",
    " - Backfill / Forward fill\n",
    " - Examine common subsets for consistency"
   ]
  },
  {
   "cell_type": "code",
   "execution_count": null,
   "metadata": {
    "collapsed": true
   },
   "outputs": [],
   "source": [
    "'''\n",
    "Imputation is common if you want to keep signal\n",
    "\n",
    "'''"
   ]
  },
  {
   "cell_type": "markdown",
   "metadata": {
    "slideshow": {
     "slide_type": "slide"
    }
   },
   "source": [
    "<a name=\"introduction\"></a>\n",
    "## Introduction: Topic (5 mins)\n",
    "\n",
    "Since we're starting to get pretty comfortable with using pandas to do EDA, let's add a\n",
    "couple more tools to our toolbox. \n",
    "\n",
    "The main data types stored in pandas objects are **float, int, bool, datetime64, timedelta, \n",
    "category,** and **object****. \n",
    "\n",
    "df**.apply()** will apply a function along any axis of the DataFrame. We'll see it in action below. \n",
    "\n",
    "pandas.Series**.value_counts** returns _Series_ containing counts of unique values. The resulting \n",
    "Series will be in descending order so that the first element is the most frequently-occurring \n",
    "element. Excludes NA values.\n",
    "\n",
    "[Pandas: dtypes](http://pandas.pydata.org/pandas-docs/stable/pandas.pdf)\n",
    "\n",
    "[Pandas Series: value_counts](http://nullege.com/codes/search/pandas.Series.value_counts)\n"
   ]
  },
  {
   "cell_type": "markdown",
   "metadata": {
    "slideshow": {
     "slide_type": "slide"
    }
   },
   "source": [
    "### Common Operations\n",
    "\n",
    "- **float**: precision specific math operations\n",
    "- **int**: mathatical operations using whole numbers\n",
    "- **bool**: control flow conditions\n",
    "- **datetime64**: resampling, slicing/selection, frequency back/front filling, on date range\n",
    "- **timedelta**: date comparisons\n",
    "- **category**: is like a set type, allowing to capture categorical day as a set, with ordinal\n",
    "- **object**: all types can be represented as an object but math, date operations are not possible.  Limited control flow possibilities unless you are comparing strings."
   ]
  },
  {
   "cell_type": "markdown",
   "metadata": {
    "slideshow": {
     "slide_type": "slide"
    }
   },
   "source": [
    "<a name=\"Inpsect data types \"></a>\n",
    "## Demo /Guided Practice: Inspect data types  (20 mins)\n",
    "\n",
    "Let's create a small dictionary with different data types in it. \n",
    "\n",
    "> [demo code](../code/w2-2.3-demo.ipynb)\n",
    "can be found in the code folder and contains all the code in this lesson in a Jupyter\n",
    "notebook. Follow along or create a new notebook.\n"
   ]
  },
  {
   "cell_type": "markdown",
   "metadata": {
    "slideshow": {
     "slide_type": "slide"
    }
   },
   "source": [
    "### Import Pandas + Numpy"
   ]
  },
  {
   "cell_type": "code",
   "execution_count": 2,
   "metadata": {
    "collapsed": true
   },
   "outputs": [],
   "source": [
    "import pandas as pd\n",
    "import numpy as np"
   ]
  },
  {
   "cell_type": "markdown",
   "metadata": {
    "slideshow": {
     "slide_type": "slide"
    }
   },
   "source": [
    "### Create Test Data"
   ]
  },
  {
   "cell_type": "code",
   "execution_count": 2,
   "metadata": {
    "collapsed": true
   },
   "outputs": [],
   "source": [
    "test_data = dict( \n",
    "    A = np.random.rand(3),\n",
    "    B = 1,\n",
    "    C = 'foo',\n",
    "    D = pd.Timestamp('20010102'),\n",
    "    E = pd.Series([1.0]*3).astype('float32'),\n",
    "    F = False,\n",
    "    G = pd.Series([1]*3,dtype='int8')\n",
    ")"
   ]
  },
  {
   "cell_type": "code",
   "execution_count": 3,
   "metadata": {
    "collapsed": false,
    "slideshow": {
     "slide_type": "slide"
    }
   },
   "outputs": [
    {
     "data": {
      "text/plain": [
       "{'A': array([ 0.14716712,  0.02145911,  0.03801213]),\n",
       " 'B': 1,\n",
       " 'C': 'foo',\n",
       " 'D': Timestamp('2001-01-02 00:00:00'),\n",
       " 'E': 0    1.0\n",
       " 1    1.0\n",
       " 2    1.0\n",
       " dtype: float32,\n",
       " 'F': False,\n",
       " 'G': 0    1\n",
       " 1    1\n",
       " 2    1\n",
       " dtype: int8}"
      ]
     },
     "execution_count": 3,
     "metadata": {},
     "output_type": "execute_result"
    }
   ],
   "source": [
    "test_data"
   ]
  },
  {
   "cell_type": "markdown",
   "metadata": {
    "slideshow": {
     "slide_type": "slide"
    }
   },
   "source": [
    "### Create our DataFrame"
   ]
  },
  {
   "cell_type": "code",
   "execution_count": 4,
   "metadata": {
    "collapsed": false
   },
   "outputs": [
    {
     "data": {
      "text/html": [
       "<div>\n",
       "<table border=\"1\" class=\"dataframe\">\n",
       "  <thead>\n",
       "    <tr style=\"text-align: right;\">\n",
       "      <th></th>\n",
       "      <th>A</th>\n",
       "      <th>B</th>\n",
       "      <th>C</th>\n",
       "      <th>D</th>\n",
       "      <th>E</th>\n",
       "      <th>F</th>\n",
       "      <th>G</th>\n",
       "    </tr>\n",
       "  </thead>\n",
       "  <tbody>\n",
       "    <tr>\n",
       "      <th>0</th>\n",
       "      <td>0.147167</td>\n",
       "      <td>1</td>\n",
       "      <td>foo</td>\n",
       "      <td>2001-01-02</td>\n",
       "      <td>1.0</td>\n",
       "      <td>False</td>\n",
       "      <td>1</td>\n",
       "    </tr>\n",
       "    <tr>\n",
       "      <th>1</th>\n",
       "      <td>0.021459</td>\n",
       "      <td>1</td>\n",
       "      <td>foo</td>\n",
       "      <td>2001-01-02</td>\n",
       "      <td>1.0</td>\n",
       "      <td>False</td>\n",
       "      <td>1</td>\n",
       "    </tr>\n",
       "    <tr>\n",
       "      <th>2</th>\n",
       "      <td>0.038012</td>\n",
       "      <td>1</td>\n",
       "      <td>foo</td>\n",
       "      <td>2001-01-02</td>\n",
       "      <td>1.0</td>\n",
       "      <td>False</td>\n",
       "      <td>1</td>\n",
       "    </tr>\n",
       "  </tbody>\n",
       "</table>\n",
       "</div>"
      ],
      "text/plain": [
       "          A  B    C          D    E      F  G\n",
       "0  0.147167  1  foo 2001-01-02  1.0  False  1\n",
       "1  0.021459  1  foo 2001-01-02  1.0  False  1\n",
       "2  0.038012  1  foo 2001-01-02  1.0  False  1"
      ]
     },
     "execution_count": 4,
     "metadata": {},
     "output_type": "execute_result"
    }
   ],
   "source": [
    "dft = pd.DataFrame(test_data)\n",
    "dft"
   ]
  },
  {
   "cell_type": "code",
   "execution_count": 5,
   "metadata": {
    "collapsed": false
   },
   "outputs": [
    {
     "data": {
      "text/plain": [
       "A           float64\n",
       "B             int64\n",
       "C            object\n",
       "D    datetime64[ns]\n",
       "E           float32\n",
       "F              bool\n",
       "G              int8\n",
       "dtype: object"
      ]
     },
     "execution_count": 5,
     "metadata": {},
     "output_type": "execute_result"
    }
   ],
   "source": [
    "dft.dtypes"
   ]
  },
  {
   "cell_type": "markdown",
   "metadata": {
    "slideshow": {
     "slide_type": "slide"
    }
   },
   "source": [
    "**What might we expect dtypes in the case of mixed type values in a single dimension?**\n",
    "\n",
    "ie:  [2, 3, 4, 5, 6, 7, 8.9]"
   ]
  },
  {
   "cell_type": "markdown",
   "metadata": {
    "slideshow": {
     "slide_type": "fragment"
    }
   },
   "source": [
    "If a pandas object contains data multiple dtypes IN A SINGLE COLUMN, the dtype of the column will be chosen to accommodate all of the data types (object is the most general)."
   ]
  },
  {
   "cell_type": "markdown",
   "metadata": {
    "slideshow": {
     "slide_type": "slide"
    }
   },
   "source": [
    "### Ints are cast to floats"
   ]
  },
  {
   "cell_type": "code",
   "execution_count": 6,
   "metadata": {
    "collapsed": false
   },
   "outputs": [
    {
     "data": {
      "text/plain": [
       "0    1.0\n",
       "1    2.0\n",
       "2    3.0\n",
       "3    4.0\n",
       "4    5.0\n",
       "5    6.0\n",
       "dtype: float64"
      ]
     },
     "execution_count": 6,
     "metadata": {},
     "output_type": "execute_result"
    }
   ],
   "source": [
    "pd.Series([1, 2, 3, 4, 5, 6.])"
   ]
  },
  {
   "cell_type": "markdown",
   "metadata": {
    "slideshow": {
     "slide_type": "slide"
    }
   },
   "source": [
    "### String elements are cast to ``object`` dtype"
   ]
  },
  {
   "cell_type": "code",
   "execution_count": 7,
   "metadata": {
    "collapsed": false,
    "scrolled": true
   },
   "outputs": [
    {
     "data": {
      "text/plain": [
       "0      1\n",
       "1      2\n",
       "2      3\n",
       "3    foo\n",
       "dtype: object"
      ]
     },
     "execution_count": 7,
     "metadata": {},
     "output_type": "execute_result"
    }
   ],
   "source": [
    "pd.Series([1, 2, 3, 'foo'])"
   ]
  },
  {
   "cell_type": "code",
   "execution_count": 8,
   "metadata": {
    "collapsed": false,
    "slideshow": {
     "slide_type": "slide"
    }
   },
   "outputs": [
    {
     "data": {
      "text/plain": [
       "bool              1\n",
       "datetime64[ns]    1\n",
       "float32           1\n",
       "float64           1\n",
       "int64             1\n",
       "int8              1\n",
       "object            1\n",
       "dtype: object"
      ]
     },
     "execution_count": 8,
     "metadata": {},
     "output_type": "execute_result"
    }
   ],
   "source": [
    "dft.get_dtype_counts().astype(list)"
   ]
  },
  {
   "cell_type": "markdown",
   "metadata": {
    "slideshow": {
     "slide_type": "slide"
    }
   },
   "source": [
    "### With a partner, take 3 minutes to discus:\n",
    "\n",
    "*Without* running this code with a Python interpreter, what types would you expect the common `dtype` to be selected?\n",
    "\n",
    "    [1, 3, 9, .33, False, '03-20-1978', np.arange(22)]\n",
    "\n"
   ]
  },
  {
   "cell_type": "markdown",
   "metadata": {
    "slideshow": {
     "slide_type": "slide"
    }
   },
   "source": [
    "You can do a lot more with dtypes.  Check out \n",
    "[Pandas Documentation](http://pandas.pydata.org/pandas-docs/stable/pandas.pdf)."
   ]
  },
  {
   "cell_type": "markdown",
   "metadata": {
    "slideshow": {
     "slide_type": "slide"
    }
   },
   "source": [
    "## Why do you think it might be important to know what kind of dtypes you're working with? "
   ]
  },
  {
   "cell_type": "markdown",
   "metadata": {
    "slideshow": {
     "slide_type": "slide"
    }
   },
   "source": [
    "<a name=\" df.apply()\"></a>\n",
    "## Demo /Guided Practice:  df.apply() (20 mins)\n",
    "\n",
    "Generally, df.apply(), will apply a singlular function to every cell of the dataframe you use it with.  \n",
    "\n",
    "Conversely: df.map(), is available when you only want to work with a single dimension of your dataset, ie:  df['a'].map(my_func)"
   ]
  },
  {
   "cell_type": "code",
   "execution_count": 18,
   "metadata": {
    "collapsed": false,
    "slideshow": {
     "slide_type": "slide"
    }
   },
   "outputs": [
    {
     "data": {
      "text/html": [
       "<div>\n",
       "<table border=\"1\" class=\"dataframe\">\n",
       "  <thead>\n",
       "    <tr style=\"text-align: right;\">\n",
       "      <th></th>\n",
       "      <th>a</th>\n",
       "      <th>b</th>\n",
       "      <th>c</th>\n",
       "      <th>d</th>\n",
       "    </tr>\n",
       "  </thead>\n",
       "  <tbody>\n",
       "    <tr>\n",
       "      <th>0</th>\n",
       "      <td>0.410968</td>\n",
       "      <td>1.065398</td>\n",
       "      <td>-1.656901</td>\n",
       "      <td>0.629236</td>\n",
       "    </tr>\n",
       "    <tr>\n",
       "      <th>1</th>\n",
       "      <td>-1.599641</td>\n",
       "      <td>-2.428118</td>\n",
       "      <td>-2.788330</td>\n",
       "      <td>0.005204</td>\n",
       "    </tr>\n",
       "    <tr>\n",
       "      <th>2</th>\n",
       "      <td>0.873606</td>\n",
       "      <td>-1.233120</td>\n",
       "      <td>0.412481</td>\n",
       "      <td>0.034073</td>\n",
       "    </tr>\n",
       "    <tr>\n",
       "      <th>3</th>\n",
       "      <td>-0.783972</td>\n",
       "      <td>-0.940906</td>\n",
       "      <td>-1.126716</td>\n",
       "      <td>-0.866640</td>\n",
       "    </tr>\n",
       "    <tr>\n",
       "      <th>4</th>\n",
       "      <td>0.495917</td>\n",
       "      <td>-1.471420</td>\n",
       "      <td>-0.284235</td>\n",
       "      <td>-2.549539</td>\n",
       "    </tr>\n",
       "  </tbody>\n",
       "</table>\n",
       "</div>"
      ],
      "text/plain": [
       "          a         b         c         d\n",
       "0  0.410968  1.065398 -1.656901  0.629236\n",
       "1 -1.599641 -2.428118 -2.788330  0.005204\n",
       "2  0.873606 -1.233120  0.412481  0.034073\n",
       "3 -0.783972 -0.940906 -1.126716 -0.866640\n",
       "4  0.495917 -1.471420 -0.284235 -2.549539"
      ]
     },
     "execution_count": 18,
     "metadata": {},
     "output_type": "execute_result"
    }
   ],
   "source": [
    "#df.apply() and df.map()\n",
    "#df.apply() -> apply a singular function to every cell of the dataframe you use it with\n",
    "#df.map() -> available when you only want to work with a single dimension of your dataset\n",
    "#\n",
    "\n",
    "\n",
    "# Create some more test data\n",
    "df = pd.DataFrame(np.random.randn(5, 4), columns=['a', 'b', 'c', 'd'])\n",
    "df"
   ]
  },
  {
   "cell_type": "markdown",
   "metadata": {
    "slideshow": {
     "slide_type": "slide"
    }
   },
   "source": [
    "### Some Examples"
   ]
  },
  {
   "cell_type": "code",
   "execution_count": 27,
   "metadata": {
    "collapsed": false
   },
   "outputs": [
    {
     "data": {
      "text/html": [
       "<div>\n",
       "<table border=\"1\" class=\"dataframe\">\n",
       "  <thead>\n",
       "    <tr style=\"text-align: right;\">\n",
       "      <th></th>\n",
       "      <th>volume_sold</th>\n",
       "      <th>2015_margin</th>\n",
       "      <th>2015_q1_sales</th>\n",
       "      <th>2016_q1_sales</th>\n",
       "    </tr>\n",
       "  </thead>\n",
       "  <tbody>\n",
       "    <tr>\n",
       "      <th>0</th>\n",
       "      <td>4.291941</td>\n",
       "      <td>9.685158</td>\n",
       "      <td>580.660426</td>\n",
       "      <td>581.209128</td>\n",
       "    </tr>\n",
       "    <tr>\n",
       "      <th>1</th>\n",
       "      <td>2.185523</td>\n",
       "      <td>4.591560</td>\n",
       "      <td>149.505385</td>\n",
       "      <td>147.433477</td>\n",
       "    </tr>\n",
       "    <tr>\n",
       "      <th>2</th>\n",
       "      <td>4.074604</td>\n",
       "      <td>9.675355</td>\n",
       "      <td>527.033642</td>\n",
       "      <td>554.023709</td>\n",
       "    </tr>\n",
       "    <tr>\n",
       "      <th>3</th>\n",
       "      <td>2.072706</td>\n",
       "      <td>4.101793</td>\n",
       "      <td>129.634525</td>\n",
       "      <td>96.476681</td>\n",
       "    </tr>\n",
       "    <tr>\n",
       "      <th>4</th>\n",
       "      <td>2.855875</td>\n",
       "      <td>5.917048</td>\n",
       "      <td>233.262556</td>\n",
       "      <td>242.775411</td>\n",
       "    </tr>\n",
       "    <tr>\n",
       "      <th>5</th>\n",
       "      <td>2.237213</td>\n",
       "      <td>5.646011</td>\n",
       "      <td>505.904942</td>\n",
       "      <td>577.043352</td>\n",
       "    </tr>\n",
       "    <tr>\n",
       "      <th>6</th>\n",
       "      <td>3.821878</td>\n",
       "      <td>8.747512</td>\n",
       "      <td>564.819166</td>\n",
       "      <td>550.084430</td>\n",
       "    </tr>\n",
       "    <tr>\n",
       "      <th>7</th>\n",
       "      <td>2.111034</td>\n",
       "      <td>4.397425</td>\n",
       "      <td>212.932689</td>\n",
       "      <td>235.191900</td>\n",
       "    </tr>\n",
       "    <tr>\n",
       "      <th>8</th>\n",
       "      <td>2.246671</td>\n",
       "      <td>5.112971</td>\n",
       "      <td>240.518669</td>\n",
       "      <td>205.909130</td>\n",
       "    </tr>\n",
       "    <tr>\n",
       "      <th>9</th>\n",
       "      <td>2.321222</td>\n",
       "      <td>4.735718</td>\n",
       "      <td>225.900509</td>\n",
       "      <td>237.153052</td>\n",
       "    </tr>\n",
       "    <tr>\n",
       "      <th>10</th>\n",
       "      <td>3.057343</td>\n",
       "      <td>6.472413</td>\n",
       "      <td>262.026544</td>\n",
       "      <td>59.465452</td>\n",
       "    </tr>\n",
       "    <tr>\n",
       "      <th>11</th>\n",
       "      <td>3.306115</td>\n",
       "      <td>8.148807</td>\n",
       "      <td>64.435472</td>\n",
       "      <td>370.697896</td>\n",
       "    </tr>\n",
       "    <tr>\n",
       "      <th>12</th>\n",
       "      <td>2.504038</td>\n",
       "      <td>6.918766</td>\n",
       "      <td>349.052374</td>\n",
       "      <td>398.091133</td>\n",
       "    </tr>\n",
       "    <tr>\n",
       "      <th>13</th>\n",
       "      <td>3.520784</td>\n",
       "      <td>9.314513</td>\n",
       "      <td>383.047399</td>\n",
       "      <td>354.586393</td>\n",
       "    </tr>\n",
       "    <tr>\n",
       "      <th>14</th>\n",
       "      <td>2.134880</td>\n",
       "      <td>4.790425</td>\n",
       "      <td>345.380602</td>\n",
       "      <td>147.764982</td>\n",
       "    </tr>\n",
       "    <tr>\n",
       "      <th>15</th>\n",
       "      <td>2.049420</td>\n",
       "      <td>4.325050</td>\n",
       "      <td>142.600947</td>\n",
       "      <td>199.021481</td>\n",
       "    </tr>\n",
       "    <tr>\n",
       "      <th>16</th>\n",
       "      <td>3.202010</td>\n",
       "      <td>6.636353</td>\n",
       "      <td>332.495023</td>\n",
       "      <td>451.706619</td>\n",
       "    </tr>\n",
       "    <tr>\n",
       "      <th>17</th>\n",
       "      <td>3.475167</td>\n",
       "      <td>7.886635</td>\n",
       "      <td>451.926742</td>\n",
       "      <td>125.258932</td>\n",
       "    </tr>\n",
       "    <tr>\n",
       "      <th>18</th>\n",
       "      <td>1.930051</td>\n",
       "      <td>3.775157</td>\n",
       "      <td>130.150490</td>\n",
       "      <td>220.330865</td>\n",
       "    </tr>\n",
       "    <tr>\n",
       "      <th>19</th>\n",
       "      <td>1.791850</td>\n",
       "      <td>4.005405</td>\n",
       "      <td>235.580390</td>\n",
       "      <td>127.752652</td>\n",
       "    </tr>\n",
       "    <tr>\n",
       "      <th>20</th>\n",
       "      <td>2.508181</td>\n",
       "      <td>5.019081</td>\n",
       "      <td>126.427766</td>\n",
       "      <td>230.613421</td>\n",
       "    </tr>\n",
       "    <tr>\n",
       "      <th>21</th>\n",
       "      <td>2.726687</td>\n",
       "      <td>5.634986</td>\n",
       "      <td>267.878069</td>\n",
       "      <td>174.362926</td>\n",
       "    </tr>\n",
       "    <tr>\n",
       "      <th>22</th>\n",
       "      <td>2.091943</td>\n",
       "      <td>4.812635</td>\n",
       "      <td>250.974441</td>\n",
       "      <td>217.295651</td>\n",
       "    </tr>\n",
       "    <tr>\n",
       "      <th>23</th>\n",
       "      <td>3.604013</td>\n",
       "      <td>6.987184</td>\n",
       "      <td>172.156179</td>\n",
       "      <td>79.798246</td>\n",
       "    </tr>\n",
       "    <tr>\n",
       "      <th>24</th>\n",
       "      <td>3.420154</td>\n",
       "      <td>8.557541</td>\n",
       "      <td>220.816009</td>\n",
       "      <td>573.804923</td>\n",
       "    </tr>\n",
       "    <tr>\n",
       "      <th>25</th>\n",
       "      <td>2.442371</td>\n",
       "      <td>4.842554</td>\n",
       "      <td>299.560845</td>\n",
       "      <td>577.040770</td>\n",
       "    </tr>\n",
       "    <tr>\n",
       "      <th>26</th>\n",
       "      <td>1.986258</td>\n",
       "      <td>3.760956</td>\n",
       "      <td>74.683398</td>\n",
       "      <td>484.691675</td>\n",
       "    </tr>\n",
       "    <tr>\n",
       "      <th>27</th>\n",
       "      <td>2.714698</td>\n",
       "      <td>6.033948</td>\n",
       "      <td>556.808459</td>\n",
       "      <td>389.787699</td>\n",
       "    </tr>\n",
       "    <tr>\n",
       "      <th>28</th>\n",
       "      <td>2.709891</td>\n",
       "      <td>6.014305</td>\n",
       "      <td>557.421035</td>\n",
       "      <td>560.418522</td>\n",
       "    </tr>\n",
       "    <tr>\n",
       "      <th>29</th>\n",
       "      <td>3.514261</td>\n",
       "      <td>7.739088</td>\n",
       "      <td>508.217316</td>\n",
       "      <td>248.691616</td>\n",
       "    </tr>\n",
       "    <tr>\n",
       "      <th>...</th>\n",
       "      <td>...</td>\n",
       "      <td>...</td>\n",
       "      <td>...</td>\n",
       "      <td>...</td>\n",
       "    </tr>\n",
       "    <tr>\n",
       "      <th>170</th>\n",
       "      <td>2.905845</td>\n",
       "      <td>6.116135</td>\n",
       "      <td>131.272427</td>\n",
       "      <td>138.577848</td>\n",
       "    </tr>\n",
       "    <tr>\n",
       "      <th>171</th>\n",
       "      <td>2.269794</td>\n",
       "      <td>4.549510</td>\n",
       "      <td>146.084838</td>\n",
       "      <td>159.068916</td>\n",
       "    </tr>\n",
       "    <tr>\n",
       "      <th>172</th>\n",
       "      <td>2.556769</td>\n",
       "      <td>4.784163</td>\n",
       "      <td>128.910240</td>\n",
       "      <td>136.568518</td>\n",
       "    </tr>\n",
       "    <tr>\n",
       "      <th>173</th>\n",
       "      <td>2.915552</td>\n",
       "      <td>5.244781</td>\n",
       "      <td>147.348940</td>\n",
       "      <td>120.939200</td>\n",
       "    </tr>\n",
       "    <tr>\n",
       "      <th>174</th>\n",
       "      <td>1.982812</td>\n",
       "      <td>4.670295</td>\n",
       "      <td>167.716875</td>\n",
       "      <td>215.229482</td>\n",
       "    </tr>\n",
       "    <tr>\n",
       "      <th>175</th>\n",
       "      <td>2.482678</td>\n",
       "      <td>5.042670</td>\n",
       "      <td>147.659067</td>\n",
       "      <td>731.697929</td>\n",
       "    </tr>\n",
       "    <tr>\n",
       "      <th>176</th>\n",
       "      <td>2.214599</td>\n",
       "      <td>4.423609</td>\n",
       "      <td>111.880695</td>\n",
       "      <td>901.116962</td>\n",
       "    </tr>\n",
       "    <tr>\n",
       "      <th>177</th>\n",
       "      <td>2.720738</td>\n",
       "      <td>5.189926</td>\n",
       "      <td>232.355159</td>\n",
       "      <td>454.144878</td>\n",
       "    </tr>\n",
       "    <tr>\n",
       "      <th>178</th>\n",
       "      <td>6.892262</td>\n",
       "      <td>15.353523</td>\n",
       "      <td>745.457846</td>\n",
       "      <td>80.017373</td>\n",
       "    </tr>\n",
       "    <tr>\n",
       "      <th>179</th>\n",
       "      <td>7.465868</td>\n",
       "      <td>16.397244</td>\n",
       "      <td>1040.257665</td>\n",
       "      <td>317.436088</td>\n",
       "    </tr>\n",
       "    <tr>\n",
       "      <th>180</th>\n",
       "      <td>3.441043</td>\n",
       "      <td>7.512216</td>\n",
       "      <td>438.280116</td>\n",
       "      <td>141.769567</td>\n",
       "    </tr>\n",
       "    <tr>\n",
       "      <th>181</th>\n",
       "      <td>2.646185</td>\n",
       "      <td>5.142073</td>\n",
       "      <td>74.665856</td>\n",
       "      <td>261.209418</td>\n",
       "    </tr>\n",
       "    <tr>\n",
       "      <th>182</th>\n",
       "      <td>2.958571</td>\n",
       "      <td>6.730070</td>\n",
       "      <td>283.268901</td>\n",
       "      <td>772.051164</td>\n",
       "    </tr>\n",
       "    <tr>\n",
       "      <th>183</th>\n",
       "      <td>1.774188</td>\n",
       "      <td>3.948994</td>\n",
       "      <td>164.449202</td>\n",
       "      <td>295.755693</td>\n",
       "    </tr>\n",
       "    <tr>\n",
       "      <th>184</th>\n",
       "      <td>2.682681</td>\n",
       "      <td>5.223854</td>\n",
       "      <td>248.952887</td>\n",
       "      <td>657.259994</td>\n",
       "    </tr>\n",
       "    <tr>\n",
       "      <th>185</th>\n",
       "      <td>8.729473</td>\n",
       "      <td>19.163133</td>\n",
       "      <td>988.823857</td>\n",
       "      <td>369.753391</td>\n",
       "    </tr>\n",
       "    <tr>\n",
       "      <th>186</th>\n",
       "      <td>3.286995</td>\n",
       "      <td>6.483147</td>\n",
       "      <td>204.707547</td>\n",
       "      <td>173.230511</td>\n",
       "    </tr>\n",
       "    <tr>\n",
       "      <th>187</th>\n",
       "      <td>3.271900</td>\n",
       "      <td>6.774325</td>\n",
       "      <td>296.377209</td>\n",
       "      <td>139.356880</td>\n",
       "    </tr>\n",
       "    <tr>\n",
       "      <th>188</th>\n",
       "      <td>7.197269</td>\n",
       "      <td>15.973517</td>\n",
       "      <td>667.126914</td>\n",
       "      <td>524.168484</td>\n",
       "    </tr>\n",
       "    <tr>\n",
       "      <th>189</th>\n",
       "      <td>2.425444</td>\n",
       "      <td>5.245214</td>\n",
       "      <td>357.064672</td>\n",
       "      <td>101.564512</td>\n",
       "    </tr>\n",
       "    <tr>\n",
       "      <th>190</th>\n",
       "      <td>2.585809</td>\n",
       "      <td>5.109119</td>\n",
       "      <td>154.514304</td>\n",
       "      <td>212.726162</td>\n",
       "    </tr>\n",
       "    <tr>\n",
       "      <th>191</th>\n",
       "      <td>2.415234</td>\n",
       "      <td>4.872536</td>\n",
       "      <td>146.751048</td>\n",
       "      <td>658.659457</td>\n",
       "    </tr>\n",
       "    <tr>\n",
       "      <th>192</th>\n",
       "      <td>6.749526</td>\n",
       "      <td>14.765106</td>\n",
       "      <td>525.448551</td>\n",
       "      <td>272.425091</td>\n",
       "    </tr>\n",
       "    <tr>\n",
       "      <th>193</th>\n",
       "      <td>2.274336</td>\n",
       "      <td>4.642067</td>\n",
       "      <td>92.232261</td>\n",
       "      <td>279.530481</td>\n",
       "    </tr>\n",
       "    <tr>\n",
       "      <th>194</th>\n",
       "      <td>3.180883</td>\n",
       "      <td>6.833792</td>\n",
       "      <td>221.727333</td>\n",
       "      <td>289.682102</td>\n",
       "    </tr>\n",
       "    <tr>\n",
       "      <th>195</th>\n",
       "      <td>7.188570</td>\n",
       "      <td>15.281793</td>\n",
       "      <td>658.870678</td>\n",
       "      <td>610.115333</td>\n",
       "    </tr>\n",
       "    <tr>\n",
       "      <th>196</th>\n",
       "      <td>1.671715</td>\n",
       "      <td>3.463541</td>\n",
       "      <td>271.642007</td>\n",
       "      <td>384.736143</td>\n",
       "    </tr>\n",
       "    <tr>\n",
       "      <th>197</th>\n",
       "      <td>2.758931</td>\n",
       "      <td>6.229765</td>\n",
       "      <td>296.659468</td>\n",
       "      <td>176.590430</td>\n",
       "    </tr>\n",
       "    <tr>\n",
       "      <th>198</th>\n",
       "      <td>3.962026</td>\n",
       "      <td>10.248669</td>\n",
       "      <td>343.451540</td>\n",
       "      <td>182.549610</td>\n",
       "    </tr>\n",
       "    <tr>\n",
       "      <th>199</th>\n",
       "      <td>7.090550</td>\n",
       "      <td>15.001838</td>\n",
       "      <td>638.544274</td>\n",
       "      <td>179.106477</td>\n",
       "    </tr>\n",
       "  </tbody>\n",
       "</table>\n",
       "<p>200 rows × 4 columns</p>\n",
       "</div>"
      ],
      "text/plain": [
       "     volume_sold  2015_margin  2015_q1_sales  2016_q1_sales\n",
       "0       4.291941     9.685158     580.660426     581.209128\n",
       "1       2.185523     4.591560     149.505385     147.433477\n",
       "2       4.074604     9.675355     527.033642     554.023709\n",
       "3       2.072706     4.101793     129.634525      96.476681\n",
       "4       2.855875     5.917048     233.262556     242.775411\n",
       "5       2.237213     5.646011     505.904942     577.043352\n",
       "6       3.821878     8.747512     564.819166     550.084430\n",
       "7       2.111034     4.397425     212.932689     235.191900\n",
       "8       2.246671     5.112971     240.518669     205.909130\n",
       "9       2.321222     4.735718     225.900509     237.153052\n",
       "10      3.057343     6.472413     262.026544      59.465452\n",
       "11      3.306115     8.148807      64.435472     370.697896\n",
       "12      2.504038     6.918766     349.052374     398.091133\n",
       "13      3.520784     9.314513     383.047399     354.586393\n",
       "14      2.134880     4.790425     345.380602     147.764982\n",
       "15      2.049420     4.325050     142.600947     199.021481\n",
       "16      3.202010     6.636353     332.495023     451.706619\n",
       "17      3.475167     7.886635     451.926742     125.258932\n",
       "18      1.930051     3.775157     130.150490     220.330865\n",
       "19      1.791850     4.005405     235.580390     127.752652\n",
       "20      2.508181     5.019081     126.427766     230.613421\n",
       "21      2.726687     5.634986     267.878069     174.362926\n",
       "22      2.091943     4.812635     250.974441     217.295651\n",
       "23      3.604013     6.987184     172.156179      79.798246\n",
       "24      3.420154     8.557541     220.816009     573.804923\n",
       "25      2.442371     4.842554     299.560845     577.040770\n",
       "26      1.986258     3.760956      74.683398     484.691675\n",
       "27      2.714698     6.033948     556.808459     389.787699\n",
       "28      2.709891     6.014305     557.421035     560.418522\n",
       "29      3.514261     7.739088     508.217316     248.691616\n",
       "..           ...          ...            ...            ...\n",
       "170     2.905845     6.116135     131.272427     138.577848\n",
       "171     2.269794     4.549510     146.084838     159.068916\n",
       "172     2.556769     4.784163     128.910240     136.568518\n",
       "173     2.915552     5.244781     147.348940     120.939200\n",
       "174     1.982812     4.670295     167.716875     215.229482\n",
       "175     2.482678     5.042670     147.659067     731.697929\n",
       "176     2.214599     4.423609     111.880695     901.116962\n",
       "177     2.720738     5.189926     232.355159     454.144878\n",
       "178     6.892262    15.353523     745.457846      80.017373\n",
       "179     7.465868    16.397244    1040.257665     317.436088\n",
       "180     3.441043     7.512216     438.280116     141.769567\n",
       "181     2.646185     5.142073      74.665856     261.209418\n",
       "182     2.958571     6.730070     283.268901     772.051164\n",
       "183     1.774188     3.948994     164.449202     295.755693\n",
       "184     2.682681     5.223854     248.952887     657.259994\n",
       "185     8.729473    19.163133     988.823857     369.753391\n",
       "186     3.286995     6.483147     204.707547     173.230511\n",
       "187     3.271900     6.774325     296.377209     139.356880\n",
       "188     7.197269    15.973517     667.126914     524.168484\n",
       "189     2.425444     5.245214     357.064672     101.564512\n",
       "190     2.585809     5.109119     154.514304     212.726162\n",
       "191     2.415234     4.872536     146.751048     658.659457\n",
       "192     6.749526    14.765106     525.448551     272.425091\n",
       "193     2.274336     4.642067      92.232261     279.530481\n",
       "194     3.180883     6.833792     221.727333     289.682102\n",
       "195     7.188570    15.281793     658.870678     610.115333\n",
       "196     1.671715     3.463541     271.642007     384.736143\n",
       "197     2.758931     6.229765     296.659468     176.590430\n",
       "198     3.962026    10.248669     343.451540     182.549610\n",
       "199     7.090550    15.001838     638.544274     179.106477\n",
       "\n",
       "[200 rows x 4 columns]"
      ]
     },
     "execution_count": 27,
     "metadata": {},
     "output_type": "execute_result"
    }
   ],
   "source": [
    "# square root ALL CELLS (NaN == Not a Number)\n",
    "df.apply(np.sqrt) #This will apply the np.sqrt function to all cells in the dataframe\n",
    "############"
   ]
  },
  {
   "cell_type": "markdown",
   "metadata": {
    "slideshow": {
     "slide_type": "notes"
    }
   },
   "source": [
    "_Note: Illustrate with whiteboard DataFrame, with blank axis labels._"
   ]
  },
  {
   "cell_type": "markdown",
   "metadata": {
    "slideshow": {
     "slide_type": "slide"
    }
   },
   "source": [
    "### Apply method to only one axis, 0 (columns)\n",
    "ie:  `df['a'] == [-1.369438  , -0.76541512,  1.75835588,  1.17270527,  0.02630271]`"
   ]
  },
  {
   "cell_type": "code",
   "execution_count": 4,
   "metadata": {
    "collapsed": false,
    "slideshow": {
     "slide_type": "slide"
    }
   },
   "outputs": [
    {
     "data": {
      "text/plain": [
       "0    2.657000\n",
       "1    1.112650\n",
       "2   -0.485292\n",
       "3    1.518611\n",
       "4    1.139144\n",
       "Name: a, dtype: float64"
      ]
     },
     "execution_count": 4,
     "metadata": {},
     "output_type": "execute_result"
    }
   ],
   "source": [
    "#this will only return a single result per axis because it is an aggregate function\n",
    "df.apply(np.mean, axis=0)\n",
    "df['a'].map(lambda value: value + 1)"
   ]
  },
  {
   "cell_type": "markdown",
   "metadata": {
    "slideshow": {
     "slide_type": "slide"
    }
   },
   "source": [
    "### Apply method to only axis 1 (rows)\n",
    "This is what the data slice would look like if we were to select only rows.  Here is the slice of the first row that would be affected with axis #1 with .apply():\n",
    "\n",
    "`df.iloc[0].values == [-1.369438  ,  0.0804468 , -1.22457047,  0.42207757]`\n",
    "\n",
    "_We are calculating the mean of lists of \"rows\", not \"columns\"._"
   ]
  },
  {
   "cell_type": "code",
   "execution_count": null,
   "metadata": {
    "collapsed": false,
    "slideshow": {
     "slide_type": "fragment"
    }
   },
   "outputs": [],
   "source": [
    "df = pd.read_csv('/Users/austinwhaley/Desktop/DSI-SF-4-austinmwhaley/datasets/drug_use_by_age/drug-use-by-age.csv')\n",
    "#print df\n",
    "\n"
   ]
  },
  {
   "cell_type": "markdown",
   "metadata": {
    "slideshow": {
     "slide_type": "slide"
    }
   },
   "source": [
    "### Further Reading\n",
    "\n",
    "For more advanced `.apply` usage, check out these links:\n",
    "\n",
    "[\"Why Not\"'s Gist Examples](https://gist.github.com/why-not/4582705)\n",
    "\n",
    "[Chris Albon's Map + Apply Examples](http://chrisalbon.com/python/pandas_apply_operations_to_dataframes.html)\n"
   ]
  },
  {
   "cell_type": "markdown",
   "metadata": {
    "slideshow": {
     "slide_type": "slide"
    }
   },
   "source": [
    "### **Check:** How would find the std of the columns and rows? "
   ]
  },
  {
   "cell_type": "markdown",
   "metadata": {
    "slideshow": {
     "slide_type": "slide"
    }
   },
   "source": [
    "<a name=\".value_counts()\"></a>\n",
    "## Demo /Guided Practice: .value_counts() (< 20 mins)\n",
    "\n",
    "Why is this important?  Basically, this tells us the count of unique values that exist.  It's helpful to identify anything unexpected.  Looking at value_counts(), per series, can give us a quick overview of values expressed in our data.\n",
    "\n",
    " - Strings inside of mostly numeric / continious data\n",
    " - Non-numeric values\n",
    " - General counts of values that we might expect to see\n",
    " - Most common / least common values"
   ]
  },
  {
   "cell_type": "code",
   "execution_count": null,
   "metadata": {
    "collapsed": true
   },
   "outputs": [],
   "source": [
    "#df.value_counts() will uncover any inconsitencies\n",
    "#df._() has the flexibility of both df.apply() and df.map()\n",
    "#df.apply() takes the entire series as input\n",
    "#df.map() takes each individiual cell in a series as input\n",
    "\n",
    "#df.applymap() is the child of df.apply() and df.map()\n",
    "#This lets you apply a function for every value in every series in the dataframe"
   ]
  },
  {
   "cell_type": "markdown",
   "metadata": {
    "slideshow": {
     "slide_type": "slide"
    }
   },
   "source": [
    "Let's create some random data"
   ]
  },
  {
   "cell_type": "code",
   "execution_count": 15,
   "metadata": {
    "collapsed": false
   },
   "outputs": [
    {
     "data": {
      "text/plain": [
       "array([2, 2, 3, 1, 5, 6, 0, 6, 5, 5, 0, 4, 2, 6, 0, 4, 1, 0, 3, 3, 4, 5, 6,\n",
       "       6, 5, 6, 5, 6, 6, 2, 6, 1, 6, 5, 4, 6, 3, 2, 3, 4, 4, 3, 1, 2, 4, 4,\n",
       "       1, 4, 4, 4])"
      ]
     },
     "execution_count": 15,
     "metadata": {},
     "output_type": "execute_result"
    }
   ],
   "source": [
    "data = np.random.randint(0, 7, size = 50)\n",
    "data"
   ]
  },
  {
   "cell_type": "code",
   "execution_count": 16,
   "metadata": {
    "collapsed": false
   },
   "outputs": [
    {
     "data": {
      "text/plain": [
       "0    2\n",
       "1    2\n",
       "2    3\n",
       "3    1\n",
       "4    5\n",
       "dtype: int64"
      ]
     },
     "execution_count": 16,
     "metadata": {},
     "output_type": "execute_result"
    }
   ],
   "source": [
    "s = pd.Series(data)\n",
    "s.head()"
   ]
  },
  {
   "cell_type": "code",
   "execution_count": 17,
   "metadata": {
    "collapsed": false,
    "slideshow": {
     "slide_type": "slide"
    }
   },
   "outputs": [
    {
     "data": {
      "text/plain": [
       "6    11\n",
       "4    11\n",
       "5     7\n",
       "3     6\n",
       "2     6\n",
       "1     5\n",
       "0     4\n",
       "dtype: int64"
      ]
     },
     "execution_count": 17,
     "metadata": {},
     "output_type": "execute_result"
    }
   ],
   "source": [
    "# The counts of each number that occurs in our array is listed\n",
    "pd.value_counts(s)"
   ]
  },
  {
   "cell_type": "code",
   "execution_count": null,
   "metadata": {
    "collapsed": false,
    "scrolled": true
   },
   "outputs": [],
   "source": [
    "#Import Sales Dataset\n",
    "import pandas as pd\n",
    "import numpy as np\n",
    "df = pd.read_csv('/Users/austinwhaley/Desktop/DSI-SF-4-austinmwhaley/datasets/sales_data_simple/sales.csv')\n",
    "#print df.head()\n",
    "\n",
    "#print df.info()\n",
    "\n",
    "#use df.apply() to add 1 to every value in column 1 of df\n",
    "#df = df['volume_sold'].apply(lambda x: x + 1)\n",
    "#print df.head()\n",
    "\n",
    "#use df.value_counts to count the values of 1 column of the dataset\n",
    "#df.value_counts()\n",
    "\n",
    "#df['2015_q1_sales'].apply(lambda x: x + 3)\n",
    "\n",
    "#Use .value_counts for each column of the dataset\n",
    "#Don't know how to do that\n",
    "\n",
    "df.apply()"
   ]
  },
  {
   "cell_type": "markdown",
   "metadata": {
    "slideshow": {
     "slide_type": "slide"
    }
   },
   "source": [
    "\n",
    "<a name=\"ind-practice\"></a>\n",
    "## Independent Practice: Topic (20+ minutes)\n",
    "- Use the sales.csv data set, we've seen this a few times in previous lessons\n",
    "- Inspect the data types\n",
    "- You've found out that all your values in column 1 are off by 1. Use df.apply to add 1 to column 1 of the dataset\n",
    "- Use .value_counts to count the values of 1 column of the dataset\n",
    "\n",
    "**Bonus** \n",
    "- Add 3 to column 2\n",
    "- Use .value_counts for each column of the dataset\n",
    "\n",
    "**Bonus Bonus -- COMPLETELY OPTIONAL!!!**\n",
    "<img src=\"http://vignette3.wikia.nocookie.net/erbparodies/images/a/a3/Troll_Based_On.png/revision/latest?cb=20151109194505\" style=\"width: 100px;\">\n",
    "\n",
    "Ruining data should give you a better sense of how to clean it.  Don't feel like you need to attempt this as it's completely optional and it's meant to be _extranious_.  Real-life datasets will not be like this.  The solution isn't as important as the process and thinking behind your approach.  Another way you might want to try to do this, is map out how you would do this with pseudo code with a step-by-step plan, without actually coding anything.\n",
    "\n",
    "- Add an extra column to your dataframe that is a copy of an existing column with continious data\n",
    "    - Randomly change the value of continious data cells within it to the following:\n",
    "      - NaN\n",
    "      - A blank string\n",
    "      - A numeric string\n",
    "      - The same value\n",
    "    - Report value_counts post-\"random data troll\" processing. Does it seem random?\n",
    "    - Convert blank strings and NaN values to float(0)\n",
    "    - Convert numeric strings to floats with 2f precision\n",
    "    - Divide by 2 if cell value is prime, use remainder as value\n",
    "    - Post solution as Gist with comments to Slack"
   ]
  },
  {
   "cell_type": "markdown",
   "metadata": {
    "slideshow": {
     "slide_type": "slide"
    }
   },
   "source": [
    "<a name=\"conclusion\"></a>\n",
    "## Conclusion (5 mins)\n",
    "So far we've used pandas to look at the head and tail of a data set. We've also taken a look at summary stats and different\n",
    "types of data types. We've selected and sliced data too. Today we added inspecting data types, df.apply, .value_counts to\n",
    "our pandas arsenal.\n",
    "\n"
   ]
  }
 ],
 "metadata": {
  "anaconda-cloud": {},
  "celltoolbar": "Slideshow",
  "kernelspec": {
   "display_name": "Python [dsi]",
   "language": "python",
   "name": "Python [dsi]"
  },
  "language_info": {
   "codemirror_mode": {
    "name": "ipython",
    "version": 2
   },
   "file_extension": ".py",
   "mimetype": "text/x-python",
   "name": "python",
   "nbconvert_exporter": "python",
   "pygments_lexer": "ipython2",
   "version": "2.7.12"
  }
 },
 "nbformat": 4,
 "nbformat_minor": 0
}
