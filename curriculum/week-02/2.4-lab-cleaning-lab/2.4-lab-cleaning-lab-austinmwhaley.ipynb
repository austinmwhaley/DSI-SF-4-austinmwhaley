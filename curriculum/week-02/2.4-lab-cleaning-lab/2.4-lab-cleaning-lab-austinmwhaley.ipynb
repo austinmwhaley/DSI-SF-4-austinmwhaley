{
 "cells": [
  {
   "cell_type": "code",
   "execution_count": null,
   "metadata": {
    "collapsed": true
   },
   "outputs": [],
   "source": [
    "'''\n",
    "Create a new notebook\n",
    "\n",
    "Load the dataset from the datasets folder labeled datasets/rock_songs - DONE\n",
    "Rename the columns to something more descriptive - DONE\n",
    "Print the summary stats: mean, median, mode, std, variance, range -DONE\n",
    "    -Release Year\n",
    "    -First\n",
    "    -Year\n",
    "    -Play Count\n",
    "    -F*G\n",
    "Clean / convert / normalize any problematic variables that can't be summarized.\n",
    "Questions\n",
    "\n",
    "1. What are the top 20 most popular songs by plays?\n",
    "\n",
    "2. Which years have the most plays?\n",
    "\n",
    "3. Which records don't have matching \"Play Count\" cooresponding to \"F*G\"?\n",
    "\n",
    "*Bonus: Which artists have the most misssing values between each of the variables? *\n",
    "'''"
   ]
  },
  {
   "cell_type": "code",
   "execution_count": 1,
   "metadata": {
    "collapsed": true
   },
   "outputs": [],
   "source": [
    "import pandas as pd\n",
    "import numpy as np"
   ]
  },
  {
   "cell_type": "code",
   "execution_count": 12,
   "metadata": {
    "collapsed": false
   },
   "outputs": [
    {
     "name": "stdout",
     "output_type": "stream",
     "text": [
      "               Song Clean ARTIST CLEAN Release Year  \\\n",
      "0        Caught Up in You  .38 Special         1982   \n",
      "1            Fantasy Girl  .38 Special          NaN   \n",
      "2         Hold On Loosely  .38 Special         1981   \n",
      "3  Rockin' Into the Night  .38 Special         1980   \n",
      "4       Art For Arts Sake         10cc         1975   \n",
      "\n",
      "                                COMBINED  First?  Year?  PlayCount  F*G  \n",
      "0        Caught Up in You by .38 Special       1      1         82   82  \n",
      "1            Fantasy Girl by .38 Special       1      0          3    0  \n",
      "2         Hold On Loosely by .38 Special       1      1         85   85  \n",
      "3  Rockin' Into the Night by .38 Special       1      1         18   18  \n",
      "4              Art For Arts Sake by 10cc       1      1          1    1  \n",
      "Index([u'Song Clean', u'ARTIST CLEAN', u'Release Year', u'COMBINED', u'First?',\n",
      "       u'Year?', u'PlayCount', u'F*G'],\n",
      "      dtype='object')\n"
     ]
    }
   ],
   "source": [
    "rock_songs = pd.read_csv('/Users/austinwhaley/Desktop/DSI-SF-4-austinmwhaley/datasets/rock_songs/rock.csv')\n",
    "print rock_songs.head()\n",
    "print rock_songs.columns\n",
    "#rock_songs['COMBINED']"
   ]
  },
  {
   "cell_type": "code",
   "execution_count": 36,
   "metadata": {
    "collapsed": false
   },
   "outputs": [
    {
     "data": {
      "text/html": [
       "<div>\n",
       "<table border=\"1\" class=\"dataframe\">\n",
       "  <thead>\n",
       "    <tr style=\"text-align: right;\">\n",
       "      <th></th>\n",
       "      <th>song_name</th>\n",
       "      <th>artist_name</th>\n",
       "      <th>release_year</th>\n",
       "      <th>song_artist_year</th>\n",
       "      <th>first?</th>\n",
       "      <th>year?</th>\n",
       "      <th>play_count</th>\n",
       "      <th>FG</th>\n",
       "    </tr>\n",
       "  </thead>\n",
       "  <tbody>\n",
       "    <tr>\n",
       "      <th>0</th>\n",
       "      <td>Caught Up in You</td>\n",
       "      <td>.38 Special</td>\n",
       "      <td>1982</td>\n",
       "      <td>Caught Up in You by .38 Special</td>\n",
       "      <td>1</td>\n",
       "      <td>1</td>\n",
       "      <td>82</td>\n",
       "      <td>82</td>\n",
       "    </tr>\n",
       "    <tr>\n",
       "      <th>1</th>\n",
       "      <td>Fantasy Girl</td>\n",
       "      <td>.38 Special</td>\n",
       "      <td>NaN</td>\n",
       "      <td>Fantasy Girl by .38 Special</td>\n",
       "      <td>1</td>\n",
       "      <td>0</td>\n",
       "      <td>3</td>\n",
       "      <td>0</td>\n",
       "    </tr>\n",
       "    <tr>\n",
       "      <th>2</th>\n",
       "      <td>Hold On Loosely</td>\n",
       "      <td>.38 Special</td>\n",
       "      <td>1981</td>\n",
       "      <td>Hold On Loosely by .38 Special</td>\n",
       "      <td>1</td>\n",
       "      <td>1</td>\n",
       "      <td>85</td>\n",
       "      <td>85</td>\n",
       "    </tr>\n",
       "    <tr>\n",
       "      <th>3</th>\n",
       "      <td>Rockin' Into the Night</td>\n",
       "      <td>.38 Special</td>\n",
       "      <td>1980</td>\n",
       "      <td>Rockin' Into the Night by .38 Special</td>\n",
       "      <td>1</td>\n",
       "      <td>1</td>\n",
       "      <td>18</td>\n",
       "      <td>18</td>\n",
       "    </tr>\n",
       "    <tr>\n",
       "      <th>4</th>\n",
       "      <td>Art For Arts Sake</td>\n",
       "      <td>10cc</td>\n",
       "      <td>1975</td>\n",
       "      <td>Art For Arts Sake by 10cc</td>\n",
       "      <td>1</td>\n",
       "      <td>1</td>\n",
       "      <td>1</td>\n",
       "      <td>1</td>\n",
       "    </tr>\n",
       "  </tbody>\n",
       "</table>\n",
       "</div>"
      ],
      "text/plain": [
       "                song_name  artist_name release_year  \\\n",
       "0        Caught Up in You  .38 Special         1982   \n",
       "1            Fantasy Girl  .38 Special          NaN   \n",
       "2         Hold On Loosely  .38 Special         1981   \n",
       "3  Rockin' Into the Night  .38 Special         1980   \n",
       "4       Art For Arts Sake         10cc         1975   \n",
       "\n",
       "                        song_artist_year  first?  year?  play_count  FG  \n",
       "0        Caught Up in You by .38 Special       1      1          82  82  \n",
       "1            Fantasy Girl by .38 Special       1      0           3   0  \n",
       "2         Hold On Loosely by .38 Special       1      1          85  85  \n",
       "3  Rockin' Into the Night by .38 Special       1      1          18  18  \n",
       "4              Art For Arts Sake by 10cc       1      1           1   1  "
      ]
     },
     "execution_count": 36,
     "metadata": {},
     "output_type": "execute_result"
    }
   ],
   "source": [
    "# rename_col_list = dict(Song Clean='song_name', \n",
    "#                       ARTIST CLEAN='artist_name', \n",
    "#                       Release Year='release_year',\n",
    "#                       COMBINED='song_artist_year',\n",
    "#                       First?='first',\n",
    "#                       Year?='year',\n",
    "#                       PlayCount='play_count',\n",
    "#                       F*G, 'FG')\n",
    "\n",
    "rename_col_list = ['song_name', 'artist_name', 'release_year', 'song_artist_year', \n",
    "                  'first?', 'year?', 'play_count', 'FG']\n",
    "\n",
    "rock_songs.columns = rename_col_list\n",
    "\n",
    "rock_songs.head()"
   ]
  },
  {
   "cell_type": "code",
   "execution_count": 42,
   "metadata": {
    "collapsed": false
   },
   "outputs": [
    {
     "data": {
      "text/plain": [
       "1973    104\n",
       "1977     83\n",
       "1975     83\n",
       "1970     81\n",
       "1971     75\n",
       "1969     72\n",
       "1980     70\n",
       "1978     64\n",
       "1979     63\n",
       "1967     61\n",
       "1981     61\n",
       "1983     60\n",
       "1976     56\n",
       "1982     54\n",
       "1984     51\n",
       "1972     50\n",
       "1974     48\n",
       "1968     46\n",
       "1987     39\n",
       "1985     39\n",
       "1986     37\n",
       "1991     34\n",
       "1989     32\n",
       "1966     30\n",
       "1988     29\n",
       "1965     28\n",
       "1994     25\n",
       "1990     22\n",
       "1993     19\n",
       "1964     14\n",
       "1992     14\n",
       "1999     13\n",
       "1995     10\n",
       "1997      9\n",
       "1996      9\n",
       "1963      9\n",
       "1998      6\n",
       "2002      6\n",
       "2005      5\n",
       "2004      5\n",
       "2012      5\n",
       "2001      4\n",
       "2011      3\n",
       "2008      3\n",
       "1962      3\n",
       "2003      3\n",
       "2000      3\n",
       "2007      3\n",
       "2014      2\n",
       "2013      2\n",
       "1955      1\n",
       "1958      1\n",
       "1961      1\n",
       "1071      1\n",
       "2006      1\n",
       "0         1\n",
       "Name: release_year, dtype: int64"
      ]
     },
     "execution_count": 42,
     "metadata": {},
     "output_type": "execute_result"
    }
   ],
   "source": [
    "'''\n",
    "-Release Year\n",
    "-First\n",
    "-Year\n",
    "-Play Count\n",
    "-F*G\n",
    "'''\n",
    "#print rock_songs.head()\n",
    "    \n",
    "\n",
    "z = rock_songs['release_year'].map(lambda x: 0 if x == 'SONGFACTS.COM' else x)\n",
    "z.value_counts()\n",
    "#Print Summary Info (df.describe) for Release Year, First?, Year, Play Count, F*G\n",
    "#summary_col_names = ['release_year','first?', 'year?', 'play_count', 'FG']\n",
    "#rock_songs[summary_col_names].describe()\n",
    "\n",
    "#rock_songs.release_year.value_counts()"
   ]
  },
  {
   "cell_type": "code",
   "execution_count": null,
   "metadata": {
    "collapsed": true
   },
   "outputs": [],
   "source": []
  },
  {
   "cell_type": "code",
   "execution_count": null,
   "metadata": {
    "collapsed": true
   },
   "outputs": [],
   "source": [
    "#"
   ]
  }
 ],
 "metadata": {
  "anaconda-cloud": {},
  "kernelspec": {
   "display_name": "Python [dsi]",
   "language": "python",
   "name": "Python [dsi]"
  },
  "language_info": {
   "codemirror_mode": {
    "name": "ipython",
    "version": 2
   },
   "file_extension": ".py",
   "mimetype": "text/x-python",
   "name": "python",
   "nbconvert_exporter": "python",
   "pygments_lexer": "ipython2",
   "version": "2.7.12"
  }
 },
 "nbformat": 4,
 "nbformat_minor": 0
}
