{
 "cells": [
  {
   "cell_type": "code",
   "execution_count": 28,
   "metadata": {
    "collapsed": false
   },
   "outputs": [
    {
     "name": "stdout",
     "output_type": "stream",
     "text": [
      "True\n",
      "True\n",
      "False\n",
      "False\n",
      "False\n",
      "True\n",
      "\n",
      "\n",
      "True\n",
      "True\n",
      "False\n",
      "False\n",
      "False\n",
      "True\n"
     ]
    }
   ],
   "source": [
    "#Use only the list.append() & list.pop() functions\n",
    "\n",
    "parent_map = { '{':'}', '[':']', '(':')' }\n",
    "\n",
    "def stack_practice(string):\n",
    "    parent_stack = []\n",
    "    stack = list(string)\n",
    "\n",
    "    for i in stack:\n",
    "        if i in parent_map.keys():\n",
    "            parent_stack.append(i)\n",
    "        else:\n",
    "            try:\n",
    "                if parent_map[parent_stack.pop()] == i:\n",
    "                    pass\n",
    "                else:\n",
    "                    return False\n",
    "            except:\n",
    "                return False\n",
    "\n",
    "    if parent_stack == []: \n",
    "        return True\n",
    "    else:\n",
    "        return False\n",
    "    \n",
    "def stack_practice1(s):\n",
    "    parent_stack = []\n",
    "    \n",
    "    for c in s:\n",
    "        if c in parent_map:\n",
    "            parent_stack.append(c)\n",
    "        else:\n",
    "            if not parent_stack or parent_map[parent_stack.pop()] != c:\n",
    "                return False\n",
    "\n",
    "    return len(parent_stack) == 0\n",
    "    \n",
    "         \n",
    "\n",
    "print stack_practice('()') #Return True GOOD\n",
    "print stack_practice('[{}]') #Return True GOOD\n",
    "print stack_practice('{[)}') #Return False GOOD\n",
    "print stack_practice(')') #Return False Good\n",
    "print stack_practice('(') #Return False Good  \n",
    "print stack_practice('') #Return False Good  \n",
    "print '\\n'        \n",
    "print stack_practice1('()') #Return True GOOD\n",
    "print stack_practice1('[{}]') #Return True GOOD\n",
    "print stack_practice1('{[)}') #Return False GOOD\n",
    "print stack_practice1(')') #Return False Good\n",
    "print stack_practice1('(') #Return False Good\n",
    "print stack_practice1('') #Return False Good"
   ]
  },
  {
   "cell_type": "code",
   "execution_count": null,
   "metadata": {
    "collapsed": true
   },
   "outputs": [],
   "source": []
  }
 ],
 "metadata": {
  "anaconda-cloud": {},
  "kernelspec": {
   "display_name": "Python [dsi]",
   "language": "python",
   "name": "Python [dsi]"
  },
  "language_info": {
   "codemirror_mode": {
    "name": "ipython",
    "version": 2
   },
   "file_extension": ".py",
   "mimetype": "text/x-python",
   "name": "python",
   "nbconvert_exporter": "python",
   "pygments_lexer": "ipython2",
   "version": "2.7.12"
  }
 },
 "nbformat": 4,
 "nbformat_minor": 0
}
